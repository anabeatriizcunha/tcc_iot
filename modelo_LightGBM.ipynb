{
  "cells": [
    {
      "cell_type": "markdown",
      "metadata": {
        "application/vnd.databricks.v1+cell": {
          "cellMetadata": {},
          "inputWidgets": {},
          "nuid": "3fff40e3-24c8-4646-990d-b5a1ad99cad7",
          "showTitle": false,
          "title": ""
        },
        "id": "vmzzbVjqGYfy"
      },
      "source": [
        "# LightGBM Classifier training\n"
      ]
    },
    {
      "cell_type": "code",
      "execution_count": null,
      "metadata": {
        "application/vnd.databricks.v1+cell": {
          "cellMetadata": {},
          "inputWidgets": {},
          "nuid": "54a7778a-53c2-4a7d-a414-7d635eb1cdc7",
          "showTitle": false,
          "title": ""
        },
        "execution": {
          "iopub.execute_input": "2023-10-22T18:01:50.597363Z",
          "iopub.status.busy": "2023-10-22T18:01:50.596754Z",
          "iopub.status.idle": "2023-10-22T18:01:50.605189Z",
          "shell.execute_reply": "2023-10-22T18:01:50.604408Z"
        },
        "id": "G4fsGc2cGYf7"
      },
      "outputs": [],
      "source": [
        "import mlflow\n",
        "import databricks.automl_runtime\n",
        "\n",
        "target_col = \"Label\""
      ]
    },
    {
      "cell_type": "markdown",
      "metadata": {
        "application/vnd.databricks.v1+cell": {
          "cellMetadata": {},
          "inputWidgets": {},
          "nuid": "659d68d6-24e3-44fb-a5a6-c7ca20d7f76d",
          "showTitle": false,
          "title": ""
        },
        "id": "rLe6kGCtGYf_"
      },
      "source": [
        "## Carregamento dos dados"
      ]
    },
    {
      "cell_type": "code",
      "execution_count": null,
      "metadata": {
        "application/vnd.databricks.v1+cell": {
          "cellMetadata": {},
          "inputWidgets": {},
          "nuid": "8ba57946-b331-402e-8ebc-58a36f5388b8",
          "showTitle": false,
          "title": ""
        },
        "execution": {
          "iopub.execute_input": "2023-10-22T18:01:50.610530Z",
          "iopub.status.busy": "2023-10-22T18:01:50.610068Z",
          "iopub.status.idle": "2023-10-22T18:01:52.017938Z",
          "shell.execute_reply": "2023-10-22T18:01:52.017073Z"
        },
        "id": "Vmy9ktpqGYgA",
        "outputId": "b8c89dcb-2bd0-4d5f-cca0-c3ed13c0f0e1"
      },
      "outputs": [
        {
          "output_type": "execute_result",
          "data": {
            "text/html": [
              "<div>\n",
              "<style scoped>\n",
              "    .dataframe tbody tr th:only-of-type {\n",
              "        vertical-align: middle;\n",
              "    }\n",
              "\n",
              "    .dataframe tbody tr th {\n",
              "        vertical-align: top;\n",
              "    }\n",
              "\n",
              "    .dataframe thead th {\n",
              "        text-align: right;\n",
              "    }\n",
              "</style>\n",
              "<table border=\"1\" class=\"dataframe\">\n",
              "  <thead>\n",
              "    <tr style=\"text-align: right;\">\n",
              "      <th></th>\n",
              "      <th>ts</th>\n",
              "      <th>te</th>\n",
              "      <th>td</th>\n",
              "      <th>sa</th>\n",
              "      <th>da</th>\n",
              "      <th>sp</th>\n",
              "      <th>dp</th>\n",
              "      <th>pr</th>\n",
              "      <th>flg</th>\n",
              "      <th>fwd</th>\n",
              "      <th>...</th>\n",
              "      <th>mpls10</th>\n",
              "      <th>cl</th>\n",
              "      <th>sl</th>\n",
              "      <th>al</th>\n",
              "      <th>ra</th>\n",
              "      <th>eng</th>\n",
              "      <th>exid</th>\n",
              "      <th>tr</th>\n",
              "      <th>Label</th>\n",
              "      <th>_automl_split_col_0000</th>\n",
              "    </tr>\n",
              "  </thead>\n",
              "  <tbody>\n",
              "    <tr>\n",
              "      <th>0</th>\n",
              "      <td>07/11/2018 09:30</td>\n",
              "      <td>07/11/2018 09:30</td>\n",
              "      <td>48</td>\n",
              "      <td>192.168.1.106</td>\n",
              "      <td>192.168.1.109</td>\n",
              "      <td>6000</td>\n",
              "      <td>37438.0</td>\n",
              "      <td>TCP</td>\n",
              "      <td>.A.R..</td>\n",
              "      <td>0.0</td>\n",
              "      <td>...</td>\n",
              "      <td>0-0-0</td>\n",
              "      <td>0.0</td>\n",
              "      <td>0.0</td>\n",
              "      <td>0.0</td>\n",
              "      <td>0.0.0.0</td>\n",
              "      <td>0/0</td>\n",
              "      <td>1.0</td>\n",
              "      <td>1969-12-31 21:00:00</td>\n",
              "      <td>0</td>\n",
              "      <td>train</td>\n",
              "    </tr>\n",
              "    <tr>\n",
              "      <th>1</th>\n",
              "      <td>07/11/2018 09:29</td>\n",
              "      <td>07/11/2018 09:29</td>\n",
              "      <td>35</td>\n",
              "      <td>192.168.1.109</td>\n",
              "      <td>192.168.1.120</td>\n",
              "      <td>49748</td>\n",
              "      <td>80.0</td>\n",
              "      <td>TCP</td>\n",
              "      <td>.AP.SF</td>\n",
              "      <td>0.0</td>\n",
              "      <td>...</td>\n",
              "      <td>0-0-0</td>\n",
              "      <td>0.0</td>\n",
              "      <td>0.0</td>\n",
              "      <td>0.0</td>\n",
              "      <td>0.0.0.0</td>\n",
              "      <td>0/0</td>\n",
              "      <td>1.0</td>\n",
              "      <td>1969-12-31 21:00:00</td>\n",
              "      <td>0</td>\n",
              "      <td>train</td>\n",
              "    </tr>\n",
              "    <tr>\n",
              "      <th>2</th>\n",
              "      <td>07/11/2018 09:31</td>\n",
              "      <td>07/11/2018 09:33</td>\n",
              "      <td>83366</td>\n",
              "      <td>192.168.1.102</td>\n",
              "      <td>192.168.1.109</td>\n",
              "      <td>36322</td>\n",
              "      <td>23.0</td>\n",
              "      <td>TCP</td>\n",
              "      <td>.APRS.</td>\n",
              "      <td>0.0</td>\n",
              "      <td>...</td>\n",
              "      <td>0-0-0</td>\n",
              "      <td>0.0</td>\n",
              "      <td>0.0</td>\n",
              "      <td>0.0</td>\n",
              "      <td>0.0.0.0</td>\n",
              "      <td>0/0</td>\n",
              "      <td>1.0</td>\n",
              "      <td>1969-12-31 21:00:00</td>\n",
              "      <td>1</td>\n",
              "      <td>train</td>\n",
              "    </tr>\n",
              "    <tr>\n",
              "      <th>3</th>\n",
              "      <td>07/11/2018 09:31</td>\n",
              "      <td>07/11/2018 09:33</td>\n",
              "      <td>83366</td>\n",
              "      <td>192.168.1.109</td>\n",
              "      <td>192.168.1.102</td>\n",
              "      <td>23</td>\n",
              "      <td>36322.0</td>\n",
              "      <td>TCP</td>\n",
              "      <td>.AP...</td>\n",
              "      <td>0.0</td>\n",
              "      <td>...</td>\n",
              "      <td>0-0-0</td>\n",
              "      <td>0.0</td>\n",
              "      <td>0.0</td>\n",
              "      <td>0.0</td>\n",
              "      <td>0.0.0.0</td>\n",
              "      <td>0/0</td>\n",
              "      <td>1.0</td>\n",
              "      <td>1969-12-31 21:00:00</td>\n",
              "      <td>1</td>\n",
              "      <td>train</td>\n",
              "    </tr>\n",
              "    <tr>\n",
              "      <th>4</th>\n",
              "      <td>07/11/2018 09:33</td>\n",
              "      <td>07/11/2018 09:33</td>\n",
              "      <td>2853</td>\n",
              "      <td>192.168.1.109</td>\n",
              "      <td>192.168.1.106</td>\n",
              "      <td>80</td>\n",
              "      <td>46180.0</td>\n",
              "      <td>TCP</td>\n",
              "      <td>.AP.SF</td>\n",
              "      <td>0.0</td>\n",
              "      <td>...</td>\n",
              "      <td>0-0-0</td>\n",
              "      <td>0.0</td>\n",
              "      <td>0.0</td>\n",
              "      <td>0.0</td>\n",
              "      <td>0.0.0.0</td>\n",
              "      <td>0/0</td>\n",
              "      <td>1.0</td>\n",
              "      <td>1969-12-31 21:00:00</td>\n",
              "      <td>0</td>\n",
              "      <td>train</td>\n",
              "    </tr>\n",
              "  </tbody>\n",
              "</table>\n",
              "<p>5 rows × 50 columns</p>\n",
              "</div>"
            ],
            "text/plain": [
              "                 ts                te     td             sa             da  \\\n",
              "0  07/11/2018 09:30  07/11/2018 09:30     48  192.168.1.106  192.168.1.109   \n",
              "1  07/11/2018 09:29  07/11/2018 09:29     35  192.168.1.109  192.168.1.120   \n",
              "2  07/11/2018 09:31  07/11/2018 09:33  83366  192.168.1.102  192.168.1.109   \n",
              "3  07/11/2018 09:31  07/11/2018 09:33  83366  192.168.1.109  192.168.1.102   \n",
              "4  07/11/2018 09:33  07/11/2018 09:33   2853  192.168.1.109  192.168.1.106   \n",
              "\n",
              "      sp       dp   pr     flg  fwd  ...  mpls10   cl   sl   al       ra  eng  \\\n",
              "0   6000  37438.0  TCP  .A.R..  0.0  ...   0-0-0  0.0  0.0  0.0  0.0.0.0  0/0   \n",
              "1  49748     80.0  TCP  .AP.SF  0.0  ...   0-0-0  0.0  0.0  0.0  0.0.0.0  0/0   \n",
              "2  36322     23.0  TCP  .APRS.  0.0  ...   0-0-0  0.0  0.0  0.0  0.0.0.0  0/0   \n",
              "3     23  36322.0  TCP  .AP...  0.0  ...   0-0-0  0.0  0.0  0.0  0.0.0.0  0/0   \n",
              "4     80  46180.0  TCP  .AP.SF  0.0  ...   0-0-0  0.0  0.0  0.0  0.0.0.0  0/0   \n",
              "\n",
              "   exid                  tr  Label  _automl_split_col_0000  \n",
              "0   1.0 1969-12-31 21:00:00      0                   train  \n",
              "1   1.0 1969-12-31 21:00:00      0                   train  \n",
              "2   1.0 1969-12-31 21:00:00      1                   train  \n",
              "3   1.0 1969-12-31 21:00:00      1                   train  \n",
              "4   1.0 1969-12-31 21:00:00      0                   train  \n",
              "\n",
              "[5 rows x 50 columns]"
            ]
          },
          "execution_count": 3,
          "metadata": {}
        }
      ],
      "source": [
        "import mlflow\n",
        "import os\n",
        "import uuid\n",
        "import shutil\n",
        "import pandas as pd\n",
        "\n",
        "# Create temp directory to download input data from MLflow\n",
        "input_temp_dir = os.path.join(os.environ[\"SPARK_LOCAL_DIRS\"], \"tmp\", str(uuid.uuid4())[:8])\n",
        "os.makedirs(input_temp_dir)\n",
        "\n",
        "\n",
        "# Download the artifact and read it into a pandas DataFrame\n",
        "input_data_path = mlflow.artifacts.download_artifacts(run_id=\"01fdd5fa612e452ba952a915932892f2\", artifact_path=\"data\", dst_path=input_temp_dir)\n",
        "\n",
        "df_loaded = pd.read_parquet(os.path.join(input_data_path, \"training_data\"))\n",
        "# Delete the temp data\n",
        "shutil.rmtree(input_temp_dir)\n",
        "\n",
        "# Preview data\n",
        "df_loaded.head(5)"
      ]
    },
    {
      "cell_type": "code",
      "execution_count": null,
      "metadata": {
        "application/vnd.databricks.v1+cell": {
          "cellMetadata": {},
          "inputWidgets": {},
          "nuid": "0ab19673-a4c8-4de8-8157-5f4fea72c133",
          "showTitle": false,
          "title": ""
        },
        "execution": {
          "iopub.execute_input": "2023-10-22T18:01:52.022364Z",
          "iopub.status.busy": "2023-10-22T18:01:52.021998Z",
          "iopub.status.idle": "2023-10-22T18:01:52.672911Z",
          "shell.execute_reply": "2023-10-22T18:01:52.672177Z"
        },
        "id": "8KfpOLByGYgD"
      },
      "outputs": [],
      "source": [
        "from databricks.automl_runtime.sklearn.column_selector import ColumnSelector\n",
        "supported_cols = [\"ts\", \"da\", \"ibyt\", \"te\", \"ipkt\", \"sp\", \"pr\", \"td\", \"dp\", \"sa\", \"flg\"]\n",
        "col_selector = ColumnSelector(supported_cols)"
      ]
    },
    {
      "cell_type": "markdown",
      "metadata": {
        "application/vnd.databricks.v1+cell": {
          "cellMetadata": {},
          "inputWidgets": {},
          "nuid": "2e1621ca-4344-4c98-9398-db1c3d7142c7",
          "showTitle": false,
          "title": ""
        },
        "id": "MTy_oF8JGYgE"
      },
      "source": [
        "## Pré-Processamento"
      ]
    },
    {
      "cell_type": "code",
      "execution_count": null,
      "metadata": {
        "application/vnd.databricks.v1+cell": {
          "cellMetadata": {},
          "inputWidgets": {},
          "nuid": "b4b153b5-67e0-47c6-ab3a-4d2b9f82b9e1",
          "showTitle": false,
          "title": ""
        },
        "execution": {
          "iopub.execute_input": "2023-10-22T18:01:52.677047Z",
          "iopub.status.busy": "2023-10-22T18:01:52.676523Z",
          "iopub.status.idle": "2023-10-22T18:01:52.684662Z",
          "shell.execute_reply": "2023-10-22T18:01:52.683980Z"
        },
        "id": "IcIrrTJRGYgH"
      },
      "outputs": [],
      "source": [
        "from pandas import Timestamp\n",
        "from sklearn.compose import ColumnTransformer\n",
        "from sklearn.pipeline import Pipeline\n",
        "\n",
        "from databricks.automl_runtime.sklearn import DatetimeImputer\n",
        "from databricks.automl_runtime.sklearn import OneHotEncoder\n",
        "from databricks.automl_runtime.sklearn import TimestampTransformer\n",
        "from sklearn.preprocessing import StandardScaler\n",
        "\n",
        "imputers = {\n",
        "  \"te\": DatetimeImputer(),\n",
        "  \"ts\": DatetimeImputer(),\n",
        "}\n",
        "\n",
        "datetime_transformers = []\n",
        "\n",
        "for col in [\"te\", \"ts\"]:\n",
        "    ohe_transformer = ColumnTransformer(\n",
        "        [(\"ohe\", OneHotEncoder(sparse=False, handle_unknown=\"indicator\"), [TimestampTransformer.HOUR_COLUMN_INDEX])],\n",
        "        remainder=\"passthrough\")\n",
        "    timestamp_preprocessor = Pipeline([\n",
        "        (f\"impute_{col}\", imputers[col]),\n",
        "        (f\"transform_{col}\", TimestampTransformer()),\n",
        "        (f\"onehot_encode_{col}\", ohe_transformer),\n",
        "        (f\"standardize_{col}\", StandardScaler()),\n",
        "    ])\n",
        "    datetime_transformers.append((f\"timestamp_{col}\", timestamp_preprocessor, [col]))"
      ]
    },
    {
      "cell_type": "markdown",
      "metadata": {
        "application/vnd.databricks.v1+cell": {
          "cellMetadata": {},
          "inputWidgets": {},
          "nuid": "b8c9362f-090f-4fcb-bea0-74aa7647f933",
          "showTitle": false,
          "title": ""
        },
        "id": "zqms3goqGYgI"
      },
      "source": [
        "### Colunas com valores numéricos\n",
        "\n",
        "Valores ausentes em colunas numéricas são preenchidos com a média por padrão."
      ]
    },
    {
      "cell_type": "code",
      "execution_count": null,
      "metadata": {
        "application/vnd.databricks.v1+cell": {
          "cellMetadata": {},
          "inputWidgets": {},
          "nuid": "cfc421cf-8a4b-41e5-a1c4-88af1d52fff4",
          "showTitle": false,
          "title": ""
        },
        "execution": {
          "iopub.execute_input": "2023-10-22T18:01:52.687971Z",
          "iopub.status.busy": "2023-10-22T18:01:52.687525Z",
          "iopub.status.idle": "2023-10-22T18:01:52.696140Z",
          "shell.execute_reply": "2023-10-22T18:01:52.695495Z"
        },
        "id": "AuncZAAxGYgK"
      },
      "outputs": [],
      "source": [
        "from sklearn.compose import ColumnTransformer\n",
        "from sklearn.impute import SimpleImputer\n",
        "from sklearn.pipeline import Pipeline\n",
        "from sklearn.preprocessing import FunctionTransformer, StandardScaler\n",
        "\n",
        "num_imputers = []\n",
        "num_imputers.append((\"impute_mean\", SimpleImputer(), [\"dp\", \"ibyt\", \"ipkt\", \"sp\", \"td\"]))\n",
        "\n",
        "numerical_pipeline = Pipeline(steps=[\n",
        "    (\"converter\", FunctionTransformer(lambda df: df.apply(pd.to_numeric, errors='coerce'))),\n",
        "    (\"imputers\", ColumnTransformer(num_imputers)),\n",
        "    (\"standardizer\", StandardScaler()),\n",
        "])\n",
        "\n",
        "numerical_transformers = [(\"numerical\", numerical_pipeline, [\"ibyt\", \"ipkt\", \"sp\", \"td\", \"dp\"])]"
      ]
    },
    {
      "cell_type": "markdown",
      "metadata": {
        "application/vnd.databricks.v1+cell": {
          "cellMetadata": {},
          "inputWidgets": {},
          "nuid": "c6ff1f64-00d2-4e07-b3de-42636131ffe7",
          "showTitle": false,
          "title": ""
        },
        "id": "h3hfalGeGYgK"
      },
      "source": [
        "### Colunas categóricas"
      ]
    },
    {
      "cell_type": "markdown",
      "metadata": {
        "application/vnd.databricks.v1+cell": {
          "cellMetadata": {},
          "inputWidgets": {},
          "nuid": "6173a27d-e790-4840-a9ce-077724c7fd59",
          "showTitle": false,
          "title": ""
        },
        "id": "SA2aFH_IGYgL"
      },
      "source": [
        "#### Colunas de baixa cardinalidade\n",
        "Para cada coluna categórica de entrada (string ou numérica), o número de colunas de saída é igual ao número de valores únicos na coluna de entrada."
      ]
    },
    {
      "cell_type": "code",
      "execution_count": null,
      "metadata": {
        "application/vnd.databricks.v1+cell": {
          "cellMetadata": {},
          "inputWidgets": {},
          "nuid": "41a44ae2-8677-45f7-9efd-8fe8261aae0e",
          "showTitle": false,
          "title": ""
        },
        "execution": {
          "iopub.execute_input": "2023-10-22T18:01:52.700048Z",
          "iopub.status.busy": "2023-10-22T18:01:52.699535Z",
          "iopub.status.idle": "2023-10-22T18:01:52.704021Z",
          "shell.execute_reply": "2023-10-22T18:01:52.703434Z"
        },
        "id": "Uujhgi3vGYgL"
      },
      "outputs": [],
      "source": [
        "from databricks.automl_runtime.sklearn import OneHotEncoder\n",
        "from sklearn.compose import ColumnTransformer\n",
        "from sklearn.impute import SimpleImputer\n",
        "from sklearn.pipeline import Pipeline\n",
        "\n",
        "one_hot_imputers = []\n",
        "\n",
        "one_hot_pipeline = Pipeline(steps=[\n",
        "    (\"imputers\", ColumnTransformer(one_hot_imputers, remainder=\"passthrough\")),\n",
        "    (\"one_hot_encoder\", OneHotEncoder(handle_unknown=\"indicator\")),\n",
        "])\n",
        "\n",
        "categorical_one_hot_transformers = [(\"onehot\", one_hot_pipeline, [\"da\", \"flg\", \"pr\", \"sa\"])]"
      ]
    },
    {
      "cell_type": "code",
      "execution_count": null,
      "metadata": {
        "application/vnd.databricks.v1+cell": {
          "cellMetadata": {},
          "inputWidgets": {},
          "nuid": "3390a8ee-eaf9-477a-99c1-2181eb1361e9",
          "showTitle": false,
          "title": ""
        },
        "execution": {
          "iopub.execute_input": "2023-10-22T18:01:52.707068Z",
          "iopub.status.busy": "2023-10-22T18:01:52.706825Z",
          "iopub.status.idle": "2023-10-22T18:01:52.710130Z",
          "shell.execute_reply": "2023-10-22T18:01:52.709566Z"
        },
        "id": "TgelFVVSGYgM"
      },
      "outputs": [],
      "source": [
        "from sklearn.compose import ColumnTransformer\n",
        "\n",
        "transformers = datetime_transformers + numerical_transformers + categorical_one_hot_transformers\n",
        "\n",
        "preprocessor = ColumnTransformer(transformers, remainder=\"passthrough\", sparse_threshold=0)"
      ]
    },
    {
      "cell_type": "markdown",
      "metadata": {
        "application/vnd.databricks.v1+cell": {
          "cellMetadata": {},
          "inputWidgets": {},
          "nuid": "eb3340c8-88a6-4e7d-8f25-e67a974f7746",
          "showTitle": false,
          "title": ""
        },
        "id": "1zcTSlmPGYgM"
      },
      "source": [
        "## Treino, validação e teste\n",
        "O dataset foi dividido em:\n",
        "- Treino (60% do dataset será utilizado para treino do modelo)\n",
        "- Validação (20% do dataset será utilizado para ajustar os parâmetros do modelo)\n",
        "- Teste (20% do dataset será utilizado para relatar o desempenho real do modelo em um conjunto de dados não observado)\n"
      ]
    },
    {
      "cell_type": "code",
      "execution_count": null,
      "metadata": {
        "application/vnd.databricks.v1+cell": {
          "cellMetadata": {},
          "inputWidgets": {},
          "nuid": "87a05c17-a383-48be-b4d2-e0c433759127",
          "showTitle": false,
          "title": ""
        },
        "execution": {
          "iopub.execute_input": "2023-10-22T18:01:52.712919Z",
          "iopub.status.busy": "2023-10-22T18:01:52.712573Z",
          "iopub.status.idle": "2023-10-22T18:01:52.723781Z",
          "shell.execute_reply": "2023-10-22T18:01:52.723195Z"
        },
        "id": "K0cRNnkBGYgN"
      },
      "outputs": [],
      "source": [
        "# AutoML completed train - validation - test split internally and used _automl_split_col_0000 to specify the set\n",
        "split_train_df = df_loaded.loc[df_loaded._automl_split_col_0000 == \"train\"]\n",
        "split_val_df = df_loaded.loc[df_loaded._automl_split_col_0000 == \"val\"]\n",
        "split_test_df = df_loaded.loc[df_loaded._automl_split_col_0000 == \"test\"]\n",
        "\n",
        "# Separate target column from features and drop _automl_split_col_0000\n",
        "X_train = split_train_df.drop([target_col, \"_automl_split_col_0000\"], axis=1)\n",
        "y_train = split_train_df[target_col]\n",
        "\n",
        "X_val = split_val_df.drop([target_col, \"_automl_split_col_0000\"], axis=1)\n",
        "y_val = split_val_df[target_col]\n",
        "\n",
        "X_test = split_test_df.drop([target_col, \"_automl_split_col_0000\"], axis=1)\n",
        "y_test = split_test_df[target_col]"
      ]
    },
    {
      "cell_type": "markdown",
      "metadata": {
        "application/vnd.databricks.v1+cell": {
          "cellMetadata": {},
          "inputWidgets": {},
          "nuid": "e2938209-8ead-4e2c-8208-1f38175d3ff7",
          "showTitle": false,
          "title": ""
        },
        "id": "fQyPaSfYGYgN"
      },
      "source": [
        "## Treino do modelo de classificação"
      ]
    },
    {
      "cell_type": "code",
      "execution_count": 1,
      "metadata": {
        "application/vnd.databricks.v1+cell": {
          "cellMetadata": {},
          "inputWidgets": {},
          "nuid": "4d18b5eb-6685-427c-afeb-c8fbd5c39607",
          "showTitle": false,
          "title": ""
        },
        "execution": {
          "iopub.execute_input": "2023-10-22T18:01:52.726446Z",
          "iopub.status.busy": "2023-10-22T18:01:52.726223Z",
          "iopub.status.idle": "2023-10-22T18:01:52.746623Z",
          "shell.execute_reply": "2023-10-22T18:01:52.745857Z"
        },
        "id": "la57qJyGGYgO"
      },
      "outputs": [],
      "source": [
        "import lightgbm\n",
        "from lightgbm import LGBMClassifier\n",
        "\n"
      ]
    },
    {
      "cell_type": "markdown",
      "metadata": {
        "application/vnd.databricks.v1+cell": {
          "cellMetadata": {},
          "inputWidgets": {},
          "nuid": "da6ba478-aa31-488f-ac58-b646870fd8cd",
          "showTitle": false,
          "title": ""
        },
        "id": "m3IPCznOGYgO"
      },
      "source": [
        "### Define a função objetivo"
      ]
    },
    {
      "cell_type": "code",
      "execution_count": null,
      "metadata": {
        "application/vnd.databricks.v1+cell": {
          "cellMetadata": {},
          "inputWidgets": {},
          "nuid": "f692a29b-7216-435a-ade5-090d612634a8",
          "showTitle": false,
          "title": ""
        },
        "execution": {
          "iopub.execute_input": "2023-10-22T18:01:52.749676Z",
          "iopub.status.busy": "2023-10-22T18:01:52.749374Z",
          "iopub.status.idle": "2023-10-22T18:01:53.496497Z",
          "shell.execute_reply": "2023-10-22T18:01:53.495649Z"
        },
        "id": "HcJyY2ftGYgP",
        "outputId": "fd0fc684-9ce9-4410-da04-5c5e363eecf7"
      },
      "outputs": [
        {
          "output_type": "stream",
          "name": "stdout",
          "text": [
            "Warning: No categorical columns found. Calling 'transform' will only return input data.\nWarning: No categorical columns found. Calling 'transform' will only return input data.\n"
          ]
        }
      ],
      "source": [
        "import mlflow\n",
        "from mlflow.models import Model, infer_signature, ModelSignature\n",
        "from mlflow.pyfunc import PyFuncModel\n",
        "from mlflow import pyfunc\n",
        "import sklearn\n",
        "from sklearn import set_config\n",
        "from sklearn.pipeline import Pipeline\n",
        "\n",
        "from hyperopt import hp, tpe, fmin, STATUS_OK, Trials\n",
        "\n",
        "# Create a separate pipeline to transform the validation dataset. This is used for early stopping.\n",
        "mlflow.sklearn.autolog(disable=True)\n",
        "pipeline_val = Pipeline([\n",
        "    (\"column_selector\", col_selector),\n",
        "    (\"preprocessor\", preprocessor),\n",
        "])\n",
        "pipeline_val.fit(X_train, y_train)\n",
        "X_val_processed = pipeline_val.transform(X_val)\n",
        "\n",
        "def objective(params):\n",
        "  with mlflow.start_run(experiment_id=\"1276305420892233\") as mlflow_run:\n",
        "    lgbmc_classifier = LGBMClassifier(**params)\n",
        "\n",
        "    model = Pipeline([\n",
        "        (\"column_selector\", col_selector),\n",
        "        (\"preprocessor\", preprocessor),\n",
        "        (\"classifier\", lgbmc_classifier),\n",
        "    ])\n",
        "\n",
        "    # Enable automatic logging of input samples, metrics, parameters, and models\n",
        "    mlflow.sklearn.autolog(\n",
        "        log_input_examples=True,\n",
        "        silent=True)\n",
        "\n",
        "    model.fit(X_train, y_train, classifier__callbacks=[lightgbm.early_stopping(5), lightgbm.log_evaluation(0)], classifier__eval_set=[(X_val_processed,y_val)])\n",
        "\n",
        "\n",
        "    # Log metrics for the training set\n",
        "    mlflow_model = Model()\n",
        "    pyfunc.add_to_model(mlflow_model, loader_module=\"mlflow.sklearn\")\n",
        "    pyfunc_model = PyFuncModel(model_meta=mlflow_model, model_impl=model)\n",
        "    training_eval_result = mlflow.evaluate(\n",
        "        model=pyfunc_model,\n",
        "        data=X_train.assign(**{str(target_col):y_train}),\n",
        "        targets=target_col,\n",
        "        model_type=\"classifier\",\n",
        "        evaluator_config = {\"log_model_explainability\": False,\n",
        "                            \"metric_prefix\": \"training_\" , \"pos_label\": 1 }\n",
        "    )\n",
        "    lgbmc_training_metrics = training_eval_result.metrics\n",
        "    # Log metrics for the validation set\n",
        "    val_eval_result = mlflow.evaluate(\n",
        "        model=pyfunc_model,\n",
        "        data=X_val.assign(**{str(target_col):y_val}),\n",
        "        targets=target_col,\n",
        "        model_type=\"classifier\",\n",
        "        evaluator_config = {\"log_model_explainability\": False,\n",
        "                            \"metric_prefix\": \"val_\" , \"pos_label\": 1 }\n",
        "    )\n",
        "    lgbmc_val_metrics = val_eval_result.metrics\n",
        "    # Log metrics for the test set\n",
        "    test_eval_result = mlflow.evaluate(\n",
        "        model=pyfunc_model,\n",
        "        data=X_test.assign(**{str(target_col):y_test}),\n",
        "        targets=target_col,\n",
        "        model_type=\"classifier\",\n",
        "        evaluator_config = {\"log_model_explainability\": False,\n",
        "                            \"metric_prefix\": \"test_\" , \"pos_label\": 1 }\n",
        "    )\n",
        "    lgbmc_test_metrics = test_eval_result.metrics\n",
        "\n",
        "    loss = -lgbmc_val_metrics[\"val_accuracy_score\"]\n",
        "\n",
        "    # Truncate metric key names so they can be displayed together\n",
        "    lgbmc_val_metrics = {k.replace(\"val_\", \"\"): v for k, v in lgbmc_val_metrics.items()}\n",
        "    lgbmc_test_metrics = {k.replace(\"test_\", \"\"): v for k, v in lgbmc_test_metrics.items()}\n",
        "\n",
        "    return {\n",
        "      \"loss\": loss,\n",
        "      \"status\": STATUS_OK,\n",
        "      \"val_metrics\": lgbmc_val_metrics,\n",
        "      \"test_metrics\": lgbmc_test_metrics,\n",
        "      \"model\": model,\n",
        "      \"run\": mlflow_run,\n",
        "    }"
      ]
    },
    {
      "cell_type": "markdown",
      "metadata": {
        "application/vnd.databricks.v1+cell": {
          "cellMetadata": {},
          "inputWidgets": {},
          "nuid": "053bf2f8-95e8-4440-89e8-aa626efd5627",
          "showTitle": false,
          "title": ""
        },
        "id": "xJngNwe6GYgP"
      },
      "source": [
        "### Configura o espaço de busca de parâmetros"
      ]
    },
    {
      "cell_type": "code",
      "execution_count": null,
      "metadata": {
        "application/vnd.databricks.v1+cell": {
          "cellMetadata": {},
          "inputWidgets": {},
          "nuid": "5019a291-4959-4cd1-a969-03a4d79afcbc",
          "showTitle": false,
          "title": ""
        },
        "execution": {
          "iopub.execute_input": "2023-10-22T18:01:53.501316Z",
          "iopub.status.busy": "2023-10-22T18:01:53.501073Z",
          "iopub.status.idle": "2023-10-22T18:01:53.507678Z",
          "shell.execute_reply": "2023-10-22T18:01:53.506849Z"
        },
        "id": "sKLgZ1XUGYgQ"
      },
      "outputs": [],
      "source": [
        "space = {\n",
        "  \"colsample_bytree\": 0.6167945057053427,\n",
        "  \"lambda_l1\": 0.36500977766770126,\n",
        "  \"lambda_l2\": 0.10882288007727538,\n",
        "  \"learning_rate\": 1.2562946628295484,\n",
        "  \"max_bin\": 288,\n",
        "  \"max_depth\": 12,\n",
        "  \"min_child_samples\": 33,\n",
        "  \"n_estimators\": 13,\n",
        "  \"num_leaves\": 4,\n",
        "  \"path_smooth\": 56.11461068396722,\n",
        "  \"subsample\": 0.7294843886450713,\n",
        "  \"random_state\": 763330925,\n",
        "}"
      ]
    },
    {
      "cell_type": "markdown",
      "metadata": {
        "application/vnd.databricks.v1+cell": {
          "cellMetadata": {},
          "inputWidgets": {},
          "nuid": "73ccde02-5ed9-4fb5-b131-4e1f1d5fd12f",
          "showTitle": false,
          "title": ""
        },
        "id": "4BsKHMQ3GYgR"
      },
      "source": [
        "### Executa experimentos"
      ]
    },
    {
      "cell_type": "code",
      "execution_count": null,
      "metadata": {
        "application/vnd.databricks.v1+cell": {
          "cellMetadata": {},
          "inputWidgets": {},
          "nuid": "6543c308-a345-4e29-8997-eb2ddd9e3216",
          "showTitle": false,
          "title": ""
        },
        "execution": {
          "iopub.execute_input": "2023-10-22T18:01:53.512731Z",
          "iopub.status.busy": "2023-10-22T18:01:53.512499Z",
          "iopub.status.idle": "2023-10-22T18:02:12.108218Z",
          "shell.execute_reply": "2023-10-22T18:02:12.107418Z"
        },
        "id": "TmImaTAiGYgR",
        "outputId": "97fb4a97-2cc8-491d-ee70-5605808eb88b"
      },
      "outputs": [
        {
          "output_type": "stream",
          "name": "stdout",
          "text": [
            "\r  0%|          | 0/1 [00:00<?, ?trial/s, best loss=?]"
          ]
        },
        {
          "output_type": "stream",
          "name": "stdout",
          "text": [
            "\r                                                     "
          ]
        },
        {
          "output_type": "stream",
          "name": "stdout",
          "text": [
            "\r"
          ]
        },
        {
          "output_type": "stream",
          "name": "stdout",
          "text": [
            "Warning: No categorical columns found. Calling 'transform' will only return input data.\n\r  0%|          | 0/1 [00:01<?, ?trial/s, best loss=?]"
          ]
        },
        {
          "output_type": "stream",
          "name": "stdout",
          "text": [
            "\r                                                     "
          ]
        },
        {
          "output_type": "stream",
          "name": "stdout",
          "text": [
            "\r"
          ]
        },
        {
          "output_type": "stream",
          "name": "stdout",
          "text": [
            "Warning: No categorical columns found. Calling 'transform' will only return input data.\n\r  0%|          | 0/1 [00:01<?, ?trial/s, best loss=?]"
          ]
        },
        {
          "output_type": "stream",
          "name": "stdout",
          "text": [
            "\r                                                     "
          ]
        },
        {
          "output_type": "stream",
          "name": "stdout",
          "text": [
            "\r"
          ]
        },
        {
          "output_type": "stream",
          "name": "stdout",
          "text": [
            "[LightGBM] [Warning] lambda_l1 is set=0.36500977766770126, reg_alpha=0.0 will be ignored. Current value: lambda_l1=0.36500977766770126\n\r  0%|          | 0/1 [00:01<?, ?trial/s, best loss=?]"
          ]
        },
        {
          "output_type": "stream",
          "name": "stdout",
          "text": [
            "\r                                                     "
          ]
        },
        {
          "output_type": "stream",
          "name": "stdout",
          "text": [
            "\r"
          ]
        },
        {
          "output_type": "stream",
          "name": "stdout",
          "text": [
            "[LightGBM] [Warning] lambda_l2 is set=0.10882288007727538, reg_lambda=0.0 will be ignored. Current value: lambda_l2=0.10882288007727538\n\r  0%|          | 0/1 [00:01<?, ?trial/s, best loss=?]"
          ]
        },
        {
          "output_type": "stream",
          "name": "stdout",
          "text": [
            "\r                                                     "
          ]
        },
        {
          "output_type": "stream",
          "name": "stdout",
          "text": [
            "\r"
          ]
        },
        {
          "output_type": "stream",
          "name": "stdout",
          "text": [
            "Training until validation scores don't improve for 5 rounds\n\r  0%|          | 0/1 [00:01<?, ?trial/s, best loss=?]"
          ]
        },
        {
          "output_type": "stream",
          "name": "stdout",
          "text": [
            "\r                                                     "
          ]
        },
        {
          "output_type": "stream",
          "name": "stdout",
          "text": [
            "\r"
          ]
        },
        {
          "output_type": "stream",
          "name": "stdout",
          "text": [
            "Did not meet early stopping. Best iteration is:\n[11]\tvalid_0's binary_logloss: 0.0835134\n\r  0%|          | 0/1 [00:01<?, ?trial/s, best loss=?]"
          ]
        },
        {
          "output_type": "stream",
          "name": "stderr",
          "text": [
            "2023/10/22 18:02:02 INFO mlflow.models.evaluation.base: Evaluating the model with the default evaluator.\n\n"
          ]
        },
        {
          "output_type": "stream",
          "name": "stderr",
          "text": [
            "2023/10/22 18:02:03 INFO mlflow.models.evaluation.default_evaluator: The evaluation dataset is inferred as binary dataset, positive label is 1, negative label is 0.\n\n"
          ]
        },
        {
          "output_type": "stream",
          "name": "stderr",
          "text": [
            "2023/10/22 18:02:05 INFO mlflow.models.evaluation.base: Evaluating the model with the default evaluator.\n\n"
          ]
        },
        {
          "output_type": "stream",
          "name": "stderr",
          "text": [
            "2023/10/22 18:02:05 INFO mlflow.models.evaluation.default_evaluator: The evaluation dataset is inferred as binary dataset, positive label is 1, negative label is 0.\n\n"
          ]
        },
        {
          "output_type": "stream",
          "name": "stderr",
          "text": [
            "2023/10/22 18:02:08 INFO mlflow.models.evaluation.base: Evaluating the model with the default evaluator.\n\n"
          ]
        },
        {
          "output_type": "stream",
          "name": "stderr",
          "text": [
            "2023/10/22 18:02:08 INFO mlflow.models.evaluation.default_evaluator: The evaluation dataset is inferred as binary dataset, positive label is 1, negative label is 0.\n\n"
          ]
        },
        {
          "output_type": "stream",
          "name": "stdout",
          "text": [
            "\r100%|██████████| 1/1 [00:18<00:00, 18.13s/trial, best loss: -0.975929978118162]"
          ]
        },
        {
          "output_type": "stream",
          "name": "stdout",
          "text": [
            "\r100%|██████████| 1/1 [00:18<00:00, 18.13s/trial, best loss: -0.975929978118162]"
          ]
        },
        {
          "output_type": "stream",
          "name": "stdout",
          "text": [
            "\n"
          ]
        },
        {
          "output_type": "display_data",
          "data": {
            "text/html": [
              "<div>\n",
              "<style scoped>\n",
              "    .dataframe tbody tr th:only-of-type {\n",
              "        vertical-align: middle;\n",
              "    }\n",
              "\n",
              "    .dataframe tbody tr th {\n",
              "        vertical-align: top;\n",
              "    }\n",
              "\n",
              "    .dataframe thead th {\n",
              "        text-align: right;\n",
              "    }\n",
              "</style>\n",
              "<table border=\"1\" class=\"dataframe\">\n",
              "  <thead>\n",
              "    <tr style=\"text-align: right;\">\n",
              "      <th></th>\n",
              "      <th>score</th>\n",
              "      <th>true_negatives</th>\n",
              "      <th>false_positives</th>\n",
              "      <th>false_negatives</th>\n",
              "      <th>true_positives</th>\n",
              "      <th>example_count</th>\n",
              "      <th>accuracy_score</th>\n",
              "      <th>recall_score</th>\n",
              "      <th>precision_score</th>\n",
              "      <th>f1_score</th>\n",
              "      <th>log_loss</th>\n",
              "      <th>roc_auc</th>\n",
              "      <th>precision_recall_auc</th>\n",
              "    </tr>\n",
              "  </thead>\n",
              "  <tbody>\n",
              "    <tr>\n",
              "      <th>validation</th>\n",
              "      <td>0.975930</td>\n",
              "      <td>303</td>\n",
              "      <td>6</td>\n",
              "      <td>5</td>\n",
              "      <td>143</td>\n",
              "      <td>457</td>\n",
              "      <td>0.975930</td>\n",
              "      <td>0.966216</td>\n",
              "      <td>0.959732</td>\n",
              "      <td>0.962963</td>\n",
              "      <td>0.083513</td>\n",
              "      <td>0.993604</td>\n",
              "      <td>0.974313</td>\n",
              "    </tr>\n",
              "    <tr>\n",
              "      <th>test</th>\n",
              "      <td>0.975983</td>\n",
              "      <td>306</td>\n",
              "      <td>11</td>\n",
              "      <td>0</td>\n",
              "      <td>141</td>\n",
              "      <td>458</td>\n",
              "      <td>0.975983</td>\n",
              "      <td>1.000000</td>\n",
              "      <td>0.927632</td>\n",
              "      <td>0.962457</td>\n",
              "      <td>0.086196</td>\n",
              "      <td>0.991073</td>\n",
              "      <td>0.958265</td>\n",
              "    </tr>\n",
              "  </tbody>\n",
              "</table>\n",
              "</div>"
            ],
            "text/plain": [
              "               score  true_negatives  false_positives  false_negatives  \\\n",
              "validation  0.975930             303                6                5   \n",
              "test        0.975983             306               11                0   \n",
              "\n",
              "            true_positives  example_count  accuracy_score  recall_score  \\\n",
              "validation             143            457        0.975930      0.966216   \n",
              "test                   141            458        0.975983      1.000000   \n",
              "\n",
              "            precision_score  f1_score  log_loss   roc_auc  \\\n",
              "validation         0.959732  0.962963  0.083513  0.993604   \n",
              "test               0.927632  0.962457  0.086196  0.991073   \n",
              "\n",
              "            precision_recall_auc  \n",
              "validation              0.974313  \n",
              "test                    0.958265  "
            ]
          },
          "metadata": {}
        },
        {
          "output_type": "execute_result",
          "data": {
            "text/html": [
              "<style>#sk-container-id-2 {color: black;background-color: white;}#sk-container-id-2 pre{padding: 0;}#sk-container-id-2 div.sk-toggleable {background-color: white;}#sk-container-id-2 label.sk-toggleable__label {cursor: pointer;display: block;width: 100%;margin-bottom: 0;padding: 0.3em;box-sizing: border-box;text-align: center;}#sk-container-id-2 label.sk-toggleable__label-arrow:before {content: \"▸\";float: left;margin-right: 0.25em;color: #696969;}#sk-container-id-2 label.sk-toggleable__label-arrow:hover:before {color: black;}#sk-container-id-2 div.sk-estimator:hover label.sk-toggleable__label-arrow:before {color: black;}#sk-container-id-2 div.sk-toggleable__content {max-height: 0;max-width: 0;overflow: hidden;text-align: left;background-color: #f0f8ff;}#sk-container-id-2 div.sk-toggleable__content pre {margin: 0.2em;color: black;border-radius: 0.25em;background-color: #f0f8ff;}#sk-container-id-2 input.sk-toggleable__control:checked~div.sk-toggleable__content {max-height: 200px;max-width: 100%;overflow: auto;}#sk-container-id-2 input.sk-toggleable__control:checked~label.sk-toggleable__label-arrow:before {content: \"▾\";}#sk-container-id-2 div.sk-estimator input.sk-toggleable__control:checked~label.sk-toggleable__label {background-color: #d4ebff;}#sk-container-id-2 div.sk-label input.sk-toggleable__control:checked~label.sk-toggleable__label {background-color: #d4ebff;}#sk-container-id-2 input.sk-hidden--visually {border: 0;clip: rect(1px 1px 1px 1px);clip: rect(1px, 1px, 1px, 1px);height: 1px;margin: -1px;overflow: hidden;padding: 0;position: absolute;width: 1px;}#sk-container-id-2 div.sk-estimator {font-family: monospace;background-color: #f0f8ff;border: 1px dotted black;border-radius: 0.25em;box-sizing: border-box;margin-bottom: 0.5em;}#sk-container-id-2 div.sk-estimator:hover {background-color: #d4ebff;}#sk-container-id-2 div.sk-parallel-item::after {content: \"\";width: 100%;border-bottom: 1px solid gray;flex-grow: 1;}#sk-container-id-2 div.sk-label:hover label.sk-toggleable__label {background-color: #d4ebff;}#sk-container-id-2 div.sk-serial::before {content: \"\";position: absolute;border-left: 1px solid gray;box-sizing: border-box;top: 0;bottom: 0;left: 50%;z-index: 0;}#sk-container-id-2 div.sk-serial {display: flex;flex-direction: column;align-items: center;background-color: white;padding-right: 0.2em;padding-left: 0.2em;position: relative;}#sk-container-id-2 div.sk-item {position: relative;z-index: 1;}#sk-container-id-2 div.sk-parallel {display: flex;align-items: stretch;justify-content: center;background-color: white;position: relative;}#sk-container-id-2 div.sk-item::before, #sk-container-id-2 div.sk-parallel-item::before {content: \"\";position: absolute;border-left: 1px solid gray;box-sizing: border-box;top: 0;bottom: 0;left: 50%;z-index: -1;}#sk-container-id-2 div.sk-parallel-item {display: flex;flex-direction: column;z-index: 1;position: relative;background-color: white;}#sk-container-id-2 div.sk-parallel-item:first-child::after {align-self: flex-end;width: 50%;}#sk-container-id-2 div.sk-parallel-item:last-child::after {align-self: flex-start;width: 50%;}#sk-container-id-2 div.sk-parallel-item:only-child::after {width: 0;}#sk-container-id-2 div.sk-dashed-wrapped {border: 1px dashed gray;margin: 0 0.4em 0.5em 0.4em;box-sizing: border-box;padding-bottom: 0.4em;background-color: white;}#sk-container-id-2 div.sk-label label {font-family: monospace;font-weight: bold;display: inline-block;line-height: 1.2em;}#sk-container-id-2 div.sk-label-container {text-align: center;}#sk-container-id-2 div.sk-container {/* jupyter's `normalize.less` sets `[hidden] { display: none; }` but bootstrap.min.css set `[hidden] { display: none !important; }` so we also need the `!important` here to be able to override the default hidden behavior on the sphinx rendered scikit-learn.org. See: https://github.com/scikit-learn/scikit-learn/issues/21755 */display: inline-block !important;position: relative;}#sk-container-id-2 div.sk-text-repr-fallback {display: none;}</style><div id=\"sk-container-id-2\" class=\"sk-top-container\"><div class=\"sk-text-repr-fallback\"><pre>Pipeline(steps=[(&#x27;column_selector&#x27;,\n",
              "                 ColumnSelector(cols=[&#x27;ts&#x27;, &#x27;da&#x27;, &#x27;ibyt&#x27;, &#x27;te&#x27;, &#x27;ipkt&#x27;, &#x27;sp&#x27;,\n",
              "                                      &#x27;pr&#x27;, &#x27;td&#x27;, &#x27;dp&#x27;, &#x27;sa&#x27;, &#x27;flg&#x27;])),\n",
              "                (&#x27;preprocessor&#x27;,\n",
              "                 ColumnTransformer(remainder=&#x27;passthrough&#x27;, sparse_threshold=0,\n",
              "                                   transformers=[(&#x27;timestamp_te&#x27;,\n",
              "                                                  Pipeline(steps=[(&#x27;impute_te&#x27;,\n",
              "                                                                   DatetimeImputer()),\n",
              "                                                                  (&#x27;transform_te&#x27;,\n",
              "                                                                   TimestampTransformer()),\n",
              "                                                                  (&#x27;onehot_encode_te&#x27;,\n",
              "                                                                   ColumnTransforme...\n",
              "                                                                   OneHotEncoder())]),\n",
              "                                                  [&#x27;da&#x27;, &#x27;flg&#x27;, &#x27;pr&#x27;, &#x27;sa&#x27;])])),\n",
              "                (&#x27;classifier&#x27;,\n",
              "                 LGBMClassifier(colsample_bytree=0.6167945057053427,\n",
              "                                lambda_l1=0.36500977766770126,\n",
              "                                lambda_l2=0.10882288007727538,\n",
              "                                learning_rate=1.2562946628295484, max_bin=288,\n",
              "                                max_depth=12, min_child_samples=33,\n",
              "                                n_estimators=13, num_leaves=4,\n",
              "                                path_smooth=56.11461068396722,\n",
              "                                random_state=763330925,\n",
              "                                subsample=0.7294843886450713))])</pre><b>In a Jupyter environment, please rerun this cell to show the HTML representation or trust the notebook. <br />On GitHub, the HTML representation is unable to render, please try loading this page with nbviewer.org.</b></div><div class=\"sk-container\" hidden><div class=\"sk-item sk-dashed-wrapped\"><div class=\"sk-label-container\"><div class=\"sk-label sk-toggleable\"><input class=\"sk-toggleable__control sk-hidden--visually\" id=\"sk-estimator-id-36\" type=\"checkbox\" ><label for=\"sk-estimator-id-36\" class=\"sk-toggleable__label sk-toggleable__label-arrow\">Pipeline</label><div class=\"sk-toggleable__content\"><pre>Pipeline(steps=[(&#x27;column_selector&#x27;,\n",
              "                 ColumnSelector(cols=[&#x27;ts&#x27;, &#x27;da&#x27;, &#x27;ibyt&#x27;, &#x27;te&#x27;, &#x27;ipkt&#x27;, &#x27;sp&#x27;,\n",
              "                                      &#x27;pr&#x27;, &#x27;td&#x27;, &#x27;dp&#x27;, &#x27;sa&#x27;, &#x27;flg&#x27;])),\n",
              "                (&#x27;preprocessor&#x27;,\n",
              "                 ColumnTransformer(remainder=&#x27;passthrough&#x27;, sparse_threshold=0,\n",
              "                                   transformers=[(&#x27;timestamp_te&#x27;,\n",
              "                                                  Pipeline(steps=[(&#x27;impute_te&#x27;,\n",
              "                                                                   DatetimeImputer()),\n",
              "                                                                  (&#x27;transform_te&#x27;,\n",
              "                                                                   TimestampTransformer()),\n",
              "                                                                  (&#x27;onehot_encode_te&#x27;,\n",
              "                                                                   ColumnTransforme...\n",
              "                                                                   OneHotEncoder())]),\n",
              "                                                  [&#x27;da&#x27;, &#x27;flg&#x27;, &#x27;pr&#x27;, &#x27;sa&#x27;])])),\n",
              "                (&#x27;classifier&#x27;,\n",
              "                 LGBMClassifier(colsample_bytree=0.6167945057053427,\n",
              "                                lambda_l1=0.36500977766770126,\n",
              "                                lambda_l2=0.10882288007727538,\n",
              "                                learning_rate=1.2562946628295484, max_bin=288,\n",
              "                                max_depth=12, min_child_samples=33,\n",
              "                                n_estimators=13, num_leaves=4,\n",
              "                                path_smooth=56.11461068396722,\n",
              "                                random_state=763330925,\n",
              "                                subsample=0.7294843886450713))])</pre></div></div></div><div class=\"sk-serial\"><div class=\"sk-item\"><div class=\"sk-estimator sk-toggleable\"><input class=\"sk-toggleable__control sk-hidden--visually\" id=\"sk-estimator-id-37\" type=\"checkbox\" ><label for=\"sk-estimator-id-37\" class=\"sk-toggleable__label sk-toggleable__label-arrow\">ColumnSelector</label><div class=\"sk-toggleable__content\"><pre>ColumnSelector(cols=[&#x27;ts&#x27;, &#x27;da&#x27;, &#x27;ibyt&#x27;, &#x27;te&#x27;, &#x27;ipkt&#x27;, &#x27;sp&#x27;, &#x27;pr&#x27;, &#x27;td&#x27;, &#x27;dp&#x27;,\n",
              "                     &#x27;sa&#x27;, &#x27;flg&#x27;])</pre></div></div></div><div class=\"sk-item sk-dashed-wrapped\"><div class=\"sk-label-container\"><div class=\"sk-label sk-toggleable\"><input class=\"sk-toggleable__control sk-hidden--visually\" id=\"sk-estimator-id-38\" type=\"checkbox\" ><label for=\"sk-estimator-id-38\" class=\"sk-toggleable__label sk-toggleable__label-arrow\">preprocessor: ColumnTransformer</label><div class=\"sk-toggleable__content\"><pre>ColumnTransformer(remainder=&#x27;passthrough&#x27;, sparse_threshold=0,\n",
              "                  transformers=[(&#x27;timestamp_te&#x27;,\n",
              "                                 Pipeline(steps=[(&#x27;impute_te&#x27;,\n",
              "                                                  DatetimeImputer()),\n",
              "                                                 (&#x27;transform_te&#x27;,\n",
              "                                                  TimestampTransformer()),\n",
              "                                                 (&#x27;onehot_encode_te&#x27;,\n",
              "                                                  ColumnTransformer(remainder=&#x27;passthrough&#x27;,\n",
              "                                                                    transformers=[(&#x27;ohe&#x27;,\n",
              "                                                                                   OneHotEncoder(sparse=False),\n",
              "                                                                                   [10])])),\n",
              "                                                 (&#x27;standardize_te&#x27;,\n",
              "                                                  StandardScaler())]),\n",
              "                                 [&#x27;te&#x27;]),\n",
              "                                (&#x27;tim...\n",
              "                                                  FunctionTransformer(func=&lt;function &lt;lambda&gt; at 0x7f6480d9b640&gt;)),\n",
              "                                                 (&#x27;imputers&#x27;,\n",
              "                                                  ColumnTransformer(transformers=[(&#x27;impute_mean&#x27;,\n",
              "                                                                                   SimpleImputer(),\n",
              "                                                                                   [&#x27;dp&#x27;,\n",
              "                                                                                    &#x27;ibyt&#x27;,\n",
              "                                                                                    &#x27;ipkt&#x27;,\n",
              "                                                                                    &#x27;sp&#x27;,\n",
              "                                                                                    &#x27;td&#x27;])])),\n",
              "                                                 (&#x27;standardizer&#x27;,\n",
              "                                                  StandardScaler())]),\n",
              "                                 [&#x27;ibyt&#x27;, &#x27;ipkt&#x27;, &#x27;sp&#x27;, &#x27;td&#x27;, &#x27;dp&#x27;]),\n",
              "                                (&#x27;onehot&#x27;,\n",
              "                                 Pipeline(steps=[(&#x27;imputers&#x27;,\n",
              "                                                  ColumnTransformer(remainder=&#x27;passthrough&#x27;,\n",
              "                                                                    transformers=[])),\n",
              "                                                 (&#x27;one_hot_encoder&#x27;,\n",
              "                                                  OneHotEncoder())]),\n",
              "                                 [&#x27;da&#x27;, &#x27;flg&#x27;, &#x27;pr&#x27;, &#x27;sa&#x27;])])</pre></div></div></div><div class=\"sk-parallel\"><div class=\"sk-parallel-item\"><div class=\"sk-item\"><div class=\"sk-label-container\"><div class=\"sk-label sk-toggleable\"><input class=\"sk-toggleable__control sk-hidden--visually\" id=\"sk-estimator-id-39\" type=\"checkbox\" ><label for=\"sk-estimator-id-39\" class=\"sk-toggleable__label sk-toggleable__label-arrow\">timestamp_te</label><div class=\"sk-toggleable__content\"><pre>[&#x27;te&#x27;]</pre></div></div></div><div class=\"sk-serial\"><div class=\"sk-item\"><div class=\"sk-serial\"><div class=\"sk-item\"><div class=\"sk-estimator sk-toggleable\"><input class=\"sk-toggleable__control sk-hidden--visually\" id=\"sk-estimator-id-40\" type=\"checkbox\" ><label for=\"sk-estimator-id-40\" class=\"sk-toggleable__label sk-toggleable__label-arrow\">DatetimeImputer</label><div class=\"sk-toggleable__content\"><pre>DatetimeImputer()</pre></div></div></div><div class=\"sk-item\"><div class=\"sk-estimator sk-toggleable\"><input class=\"sk-toggleable__control sk-hidden--visually\" id=\"sk-estimator-id-41\" type=\"checkbox\" ><label for=\"sk-estimator-id-41\" class=\"sk-toggleable__label sk-toggleable__label-arrow\">TimestampTransformer</label><div class=\"sk-toggleable__content\"><pre>TimestampTransformer()</pre></div></div></div><div class=\"sk-item sk-dashed-wrapped\"><div class=\"sk-label-container\"><div class=\"sk-label sk-toggleable\"><input class=\"sk-toggleable__control sk-hidden--visually\" id=\"sk-estimator-id-42\" type=\"checkbox\" ><label for=\"sk-estimator-id-42\" class=\"sk-toggleable__label sk-toggleable__label-arrow\">onehot_encode_te: ColumnTransformer</label><div class=\"sk-toggleable__content\"><pre>ColumnTransformer(remainder=&#x27;passthrough&#x27;,\n",
              "                  transformers=[(&#x27;ohe&#x27;, OneHotEncoder(sparse=False), [10])])</pre></div></div></div><div class=\"sk-parallel\"><div class=\"sk-parallel-item\"><div class=\"sk-item\"><div class=\"sk-label-container\"><div class=\"sk-label sk-toggleable\"><input class=\"sk-toggleable__control sk-hidden--visually\" id=\"sk-estimator-id-43\" type=\"checkbox\" ><label for=\"sk-estimator-id-43\" class=\"sk-toggleable__label sk-toggleable__label-arrow\">ohe</label><div class=\"sk-toggleable__content\"><pre>[10]</pre></div></div></div><div class=\"sk-serial\"><div class=\"sk-item\"><div class=\"sk-estimator sk-toggleable\"><input class=\"sk-toggleable__control sk-hidden--visually\" id=\"sk-estimator-id-44\" type=\"checkbox\" ><label for=\"sk-estimator-id-44\" class=\"sk-toggleable__label sk-toggleable__label-arrow\">OneHotEncoder</label><div class=\"sk-toggleable__content\"><pre>OneHotEncoder(sparse=False)</pre></div></div></div></div></div></div><div class=\"sk-parallel-item\"><div class=\"sk-item\"><div class=\"sk-label-container\"><div class=\"sk-label sk-toggleable\"><input class=\"sk-toggleable__control sk-hidden--visually\" id=\"sk-estimator-id-45\" type=\"checkbox\" ><label for=\"sk-estimator-id-45\" class=\"sk-toggleable__label sk-toggleable__label-arrow\">remainder</label><div class=\"sk-toggleable__content\"><pre></pre></div></div></div><div class=\"sk-serial\"><div class=\"sk-item\"><div class=\"sk-estimator sk-toggleable\"><input class=\"sk-toggleable__control sk-hidden--visually\" id=\"sk-estimator-id-46\" type=\"checkbox\" ><label for=\"sk-estimator-id-46\" class=\"sk-toggleable__label sk-toggleable__label-arrow\">passthrough</label><div class=\"sk-toggleable__content\"><pre>passthrough</pre></div></div></div></div></div></div></div></div><div class=\"sk-item\"><div class=\"sk-estimator sk-toggleable\"><input class=\"sk-toggleable__control sk-hidden--visually\" id=\"sk-estimator-id-47\" type=\"checkbox\" ><label for=\"sk-estimator-id-47\" class=\"sk-toggleable__label sk-toggleable__label-arrow\">StandardScaler</label><div class=\"sk-toggleable__content\"><pre>StandardScaler()</pre></div></div></div></div></div></div></div></div><div class=\"sk-parallel-item\"><div class=\"sk-item\"><div class=\"sk-label-container\"><div class=\"sk-label sk-toggleable\"><input class=\"sk-toggleable__control sk-hidden--visually\" id=\"sk-estimator-id-48\" type=\"checkbox\" ><label for=\"sk-estimator-id-48\" class=\"sk-toggleable__label sk-toggleable__label-arrow\">timestamp_ts</label><div class=\"sk-toggleable__content\"><pre>[&#x27;ts&#x27;]</pre></div></div></div><div class=\"sk-serial\"><div class=\"sk-item\"><div class=\"sk-serial\"><div class=\"sk-item\"><div class=\"sk-estimator sk-toggleable\"><input class=\"sk-toggleable__control sk-hidden--visually\" id=\"sk-estimator-id-49\" type=\"checkbox\" ><label for=\"sk-estimator-id-49\" class=\"sk-toggleable__label sk-toggleable__label-arrow\">DatetimeImputer</label><div class=\"sk-toggleable__content\"><pre>DatetimeImputer()</pre></div></div></div><div class=\"sk-item\"><div class=\"sk-estimator sk-toggleable\"><input class=\"sk-toggleable__control sk-hidden--visually\" id=\"sk-estimator-id-50\" type=\"checkbox\" ><label for=\"sk-estimator-id-50\" class=\"sk-toggleable__label sk-toggleable__label-arrow\">TimestampTransformer</label><div class=\"sk-toggleable__content\"><pre>TimestampTransformer()</pre></div></div></div><div class=\"sk-item sk-dashed-wrapped\"><div class=\"sk-label-container\"><div class=\"sk-label sk-toggleable\"><input class=\"sk-toggleable__control sk-hidden--visually\" id=\"sk-estimator-id-51\" type=\"checkbox\" ><label for=\"sk-estimator-id-51\" class=\"sk-toggleable__label sk-toggleable__label-arrow\">onehot_encode_ts: ColumnTransformer</label><div class=\"sk-toggleable__content\"><pre>ColumnTransformer(remainder=&#x27;passthrough&#x27;,\n",
              "                  transformers=[(&#x27;ohe&#x27;, OneHotEncoder(sparse=False), [10])])</pre></div></div></div><div class=\"sk-parallel\"><div class=\"sk-parallel-item\"><div class=\"sk-item\"><div class=\"sk-label-container\"><div class=\"sk-label sk-toggleable\"><input class=\"sk-toggleable__control sk-hidden--visually\" id=\"sk-estimator-id-52\" type=\"checkbox\" ><label for=\"sk-estimator-id-52\" class=\"sk-toggleable__label sk-toggleable__label-arrow\">ohe</label><div class=\"sk-toggleable__content\"><pre>[10]</pre></div></div></div><div class=\"sk-serial\"><div class=\"sk-item\"><div class=\"sk-estimator sk-toggleable\"><input class=\"sk-toggleable__control sk-hidden--visually\" id=\"sk-estimator-id-53\" type=\"checkbox\" ><label for=\"sk-estimator-id-53\" class=\"sk-toggleable__label sk-toggleable__label-arrow\">OneHotEncoder</label><div class=\"sk-toggleable__content\"><pre>OneHotEncoder(sparse=False)</pre></div></div></div></div></div></div><div class=\"sk-parallel-item\"><div class=\"sk-item\"><div class=\"sk-label-container\"><div class=\"sk-label sk-toggleable\"><input class=\"sk-toggleable__control sk-hidden--visually\" id=\"sk-estimator-id-54\" type=\"checkbox\" ><label for=\"sk-estimator-id-54\" class=\"sk-toggleable__label sk-toggleable__label-arrow\">remainder</label><div class=\"sk-toggleable__content\"><pre></pre></div></div></div><div class=\"sk-serial\"><div class=\"sk-item\"><div class=\"sk-estimator sk-toggleable\"><input class=\"sk-toggleable__control sk-hidden--visually\" id=\"sk-estimator-id-55\" type=\"checkbox\" ><label for=\"sk-estimator-id-55\" class=\"sk-toggleable__label sk-toggleable__label-arrow\">passthrough</label><div class=\"sk-toggleable__content\"><pre>passthrough</pre></div></div></div></div></div></div></div></div><div class=\"sk-item\"><div class=\"sk-estimator sk-toggleable\"><input class=\"sk-toggleable__control sk-hidden--visually\" id=\"sk-estimator-id-56\" type=\"checkbox\" ><label for=\"sk-estimator-id-56\" class=\"sk-toggleable__label sk-toggleable__label-arrow\">StandardScaler</label><div class=\"sk-toggleable__content\"><pre>StandardScaler()</pre></div></div></div></div></div></div></div></div><div class=\"sk-parallel-item\"><div class=\"sk-item\"><div class=\"sk-label-container\"><div class=\"sk-label sk-toggleable\"><input class=\"sk-toggleable__control sk-hidden--visually\" id=\"sk-estimator-id-57\" type=\"checkbox\" ><label for=\"sk-estimator-id-57\" class=\"sk-toggleable__label sk-toggleable__label-arrow\">numerical</label><div class=\"sk-toggleable__content\"><pre>[&#x27;ibyt&#x27;, &#x27;ipkt&#x27;, &#x27;sp&#x27;, &#x27;td&#x27;, &#x27;dp&#x27;]</pre></div></div></div><div class=\"sk-serial\"><div class=\"sk-item\"><div class=\"sk-serial\"><div class=\"sk-item\"><div class=\"sk-estimator sk-toggleable\"><input class=\"sk-toggleable__control sk-hidden--visually\" id=\"sk-estimator-id-58\" type=\"checkbox\" ><label for=\"sk-estimator-id-58\" class=\"sk-toggleable__label sk-toggleable__label-arrow\">FunctionTransformer</label><div class=\"sk-toggleable__content\"><pre>FunctionTransformer(func=&lt;function &lt;lambda&gt; at 0x7f6480d9b640&gt;)</pre></div></div></div><div class=\"sk-item sk-dashed-wrapped\"><div class=\"sk-label-container\"><div class=\"sk-label sk-toggleable\"><input class=\"sk-toggleable__control sk-hidden--visually\" id=\"sk-estimator-id-59\" type=\"checkbox\" ><label for=\"sk-estimator-id-59\" class=\"sk-toggleable__label sk-toggleable__label-arrow\">imputers: ColumnTransformer</label><div class=\"sk-toggleable__content\"><pre>ColumnTransformer(transformers=[(&#x27;impute_mean&#x27;, SimpleImputer(),\n",
              "                                 [&#x27;dp&#x27;, &#x27;ibyt&#x27;, &#x27;ipkt&#x27;, &#x27;sp&#x27;, &#x27;td&#x27;])])</pre></div></div></div><div class=\"sk-parallel\"><div class=\"sk-parallel-item\"><div class=\"sk-item\"><div class=\"sk-label-container\"><div class=\"sk-label sk-toggleable\"><input class=\"sk-toggleable__control sk-hidden--visually\" id=\"sk-estimator-id-60\" type=\"checkbox\" ><label for=\"sk-estimator-id-60\" class=\"sk-toggleable__label sk-toggleable__label-arrow\">impute_mean</label><div class=\"sk-toggleable__content\"><pre>[&#x27;dp&#x27;, &#x27;ibyt&#x27;, &#x27;ipkt&#x27;, &#x27;sp&#x27;, &#x27;td&#x27;]</pre></div></div></div><div class=\"sk-serial\"><div class=\"sk-item\"><div class=\"sk-estimator sk-toggleable\"><input class=\"sk-toggleable__control sk-hidden--visually\" id=\"sk-estimator-id-61\" type=\"checkbox\" ><label for=\"sk-estimator-id-61\" class=\"sk-toggleable__label sk-toggleable__label-arrow\">SimpleImputer</label><div class=\"sk-toggleable__content\"><pre>SimpleImputer()</pre></div></div></div></div></div></div></div></div><div class=\"sk-item\"><div class=\"sk-estimator sk-toggleable\"><input class=\"sk-toggleable__control sk-hidden--visually\" id=\"sk-estimator-id-62\" type=\"checkbox\" ><label for=\"sk-estimator-id-62\" class=\"sk-toggleable__label sk-toggleable__label-arrow\">StandardScaler</label><div class=\"sk-toggleable__content\"><pre>StandardScaler()</pre></div></div></div></div></div></div></div></div><div class=\"sk-parallel-item\"><div class=\"sk-item\"><div class=\"sk-label-container\"><div class=\"sk-label sk-toggleable\"><input class=\"sk-toggleable__control sk-hidden--visually\" id=\"sk-estimator-id-63\" type=\"checkbox\" ><label for=\"sk-estimator-id-63\" class=\"sk-toggleable__label sk-toggleable__label-arrow\">onehot</label><div class=\"sk-toggleable__content\"><pre>[&#x27;da&#x27;, &#x27;flg&#x27;, &#x27;pr&#x27;, &#x27;sa&#x27;]</pre></div></div></div><div class=\"sk-serial\"><div class=\"sk-item\"><div class=\"sk-serial\"><div class=\"sk-item sk-dashed-wrapped\"><div class=\"sk-label-container\"><div class=\"sk-label sk-toggleable\"><input class=\"sk-toggleable__control sk-hidden--visually\" id=\"sk-estimator-id-64\" type=\"checkbox\" ><label for=\"sk-estimator-id-64\" class=\"sk-toggleable__label sk-toggleable__label-arrow\">imputers: ColumnTransformer</label><div class=\"sk-toggleable__content\"><pre>ColumnTransformer(remainder=&#x27;passthrough&#x27;, transformers=[])</pre></div></div></div><div class=\"sk-parallel\"><div class=\"sk-parallel-item\"><div class=\"sk-item\"><div class=\"sk-label-container\"><div class=\"sk-label sk-toggleable\"><input class=\"sk-toggleable__control sk-hidden--visually\" id=\"sk-estimator-id-65\" type=\"checkbox\" ><label for=\"sk-estimator-id-65\" class=\"sk-toggleable__label sk-toggleable__label-arrow\">remainder</label><div class=\"sk-toggleable__content\"><pre></pre></div></div></div><div class=\"sk-serial\"><div class=\"sk-item\"><div class=\"sk-estimator sk-toggleable\"><input class=\"sk-toggleable__control sk-hidden--visually\" id=\"sk-estimator-id-66\" type=\"checkbox\" ><label for=\"sk-estimator-id-66\" class=\"sk-toggleable__label sk-toggleable__label-arrow\">passthrough</label><div class=\"sk-toggleable__content\"><pre>passthrough</pre></div></div></div></div></div></div></div></div><div class=\"sk-item\"><div class=\"sk-estimator sk-toggleable\"><input class=\"sk-toggleable__control sk-hidden--visually\" id=\"sk-estimator-id-67\" type=\"checkbox\" ><label for=\"sk-estimator-id-67\" class=\"sk-toggleable__label sk-toggleable__label-arrow\">OneHotEncoder</label><div class=\"sk-toggleable__content\"><pre>OneHotEncoder()</pre></div></div></div></div></div></div></div></div><div class=\"sk-parallel-item\"><div class=\"sk-item\"><div class=\"sk-label-container\"><div class=\"sk-label sk-toggleable\"><input class=\"sk-toggleable__control sk-hidden--visually\" id=\"sk-estimator-id-68\" type=\"checkbox\" ><label for=\"sk-estimator-id-68\" class=\"sk-toggleable__label sk-toggleable__label-arrow\">remainder</label><div class=\"sk-toggleable__content\"><pre>[]</pre></div></div></div><div class=\"sk-serial\"><div class=\"sk-item\"><div class=\"sk-estimator sk-toggleable\"><input class=\"sk-toggleable__control sk-hidden--visually\" id=\"sk-estimator-id-69\" type=\"checkbox\" ><label for=\"sk-estimator-id-69\" class=\"sk-toggleable__label sk-toggleable__label-arrow\">passthrough</label><div class=\"sk-toggleable__content\"><pre>passthrough</pre></div></div></div></div></div></div></div></div><div class=\"sk-item\"><div class=\"sk-estimator sk-toggleable\"><input class=\"sk-toggleable__control sk-hidden--visually\" id=\"sk-estimator-id-70\" type=\"checkbox\" ><label for=\"sk-estimator-id-70\" class=\"sk-toggleable__label sk-toggleable__label-arrow\">LGBMClassifier</label><div class=\"sk-toggleable__content\"><pre>LGBMClassifier(colsample_bytree=0.6167945057053427,\n",
              "               lambda_l1=0.36500977766770126, lambda_l2=0.10882288007727538,\n",
              "               learning_rate=1.2562946628295484, max_bin=288, max_depth=12,\n",
              "               min_child_samples=33, n_estimators=13, num_leaves=4,\n",
              "               path_smooth=56.11461068396722, random_state=763330925,\n",
              "               subsample=0.7294843886450713)</pre></div></div></div></div></div></div></div>"
            ],
            "text/plain": [
              "Pipeline(steps=[('column_selector',\n",
              "                 ColumnSelector(cols=['ts', 'da', 'ibyt', 'te', 'ipkt', 'sp',\n",
              "                                      'pr', 'td', 'dp', 'sa', 'flg'])),\n",
              "                ('preprocessor',\n",
              "                 ColumnTransformer(remainder='passthrough', sparse_threshold=0,\n",
              "                                   transformers=[('timestamp_te',\n",
              "                                                  Pipeline(steps=[('impute_te',\n",
              "                                                                   DatetimeImputer()),\n",
              "                                                                  ('transform_te',\n",
              "                                                                   TimestampTransformer()),\n",
              "                                                                  ('onehot_encode_te',\n",
              "                                                                   ColumnTransforme...\n",
              "                                                                   OneHotEncoder())]),\n",
              "                                                  ['da', 'flg', 'pr', 'sa'])])),\n",
              "                ('classifier',\n",
              "                 LGBMClassifier(colsample_bytree=0.6167945057053427,\n",
              "                                lambda_l1=0.36500977766770126,\n",
              "                                lambda_l2=0.10882288007727538,\n",
              "                                learning_rate=1.2562946628295484, max_bin=288,\n",
              "                                max_depth=12, min_child_samples=33,\n",
              "                                n_estimators=13, num_leaves=4,\n",
              "                                path_smooth=56.11461068396722,\n",
              "                                random_state=763330925,\n",
              "                                subsample=0.7294843886450713))])"
            ]
          },
          "execution_count": 13,
          "metadata": {}
        },
        {
          "output_type": "display_data",
          "data": {
            "text/plain": [
              "<Figure size 1050x700 with 0 Axes>"
            ]
          },
          "metadata": {}
        }
      ],
      "source": [
        "trials = Trials()\n",
        "fmin(objective,\n",
        "     space=space,\n",
        "     algo=tpe.suggest,\n",
        "     max_evals=1,  # Increase this when widening the hyperparameter search space.\n",
        "     trials=trials)\n",
        "\n",
        "best_result = trials.best_trial[\"result\"]\n",
        "model = best_result[\"model\"]\n",
        "mlflow_run = best_result[\"run\"]\n",
        "\n",
        "display(\n",
        "  pd.DataFrame(\n",
        "    [best_result[\"val_metrics\"], best_result[\"test_metrics\"]],\n",
        "    index=[\"validation\", \"test\"]))\n",
        "\n",
        "set_config(display=\"diagram\")\n",
        "model"
      ]
    },
    {
      "cell_type": "code",
      "execution_count": null,
      "metadata": {
        "application/vnd.databricks.v1+cell": {
          "cellMetadata": {},
          "inputWidgets": {},
          "nuid": "9a7658f5-b93d-4836-a740-98980ec8766e",
          "showTitle": false,
          "title": ""
        },
        "execution": {
          "iopub.execute_input": "2023-10-22T18:02:12.114310Z",
          "iopub.status.busy": "2023-10-22T18:02:12.113015Z",
          "iopub.status.idle": "2023-10-22T18:02:13.420927Z",
          "shell.execute_reply": "2023-10-22T18:02:13.420045Z"
        },
        "id": "lbjmTRe3GYgS",
        "outputId": "4456a9dd-d084-465d-c36c-1be921b8d16c"
      },
      "outputs": [
        {
          "output_type": "stream",
          "name": "stdout",
          "text": [
            "Adding pandas dependency to conda.yaml\n"
          ]
        },
        {
          "output_type": "stream",
          "name": "stdout",
          "text": [
            "Adding pandas dependency to requirements.txt\n"
          ]
        }
      ],
      "source": [
        "import mlflow\n",
        "import os\n",
        "import shutil\n",
        "import tempfile\n",
        "import yaml\n",
        "\n",
        "run_id = mlflow_run.info.run_id\n",
        "\n",
        "# Set up a local dir for downloading the artifacts.\n",
        "tmp_dir = str(tempfile.TemporaryDirectory())\n",
        "os.makedirs(tmp_dir)\n",
        "\n",
        "client = mlflow.tracking.MlflowClient()\n",
        "\n",
        "# Fix conda.yaml\n",
        "conda_file_path = mlflow.artifacts.download_artifacts(artifact_uri=f\"runs:/{run_id}/model/conda.yaml\", dst_path=tmp_dir)\n",
        "with open(conda_file_path) as f:\n",
        "  conda_libs = yaml.load(f, Loader=yaml.FullLoader)\n",
        "pandas_lib_exists = any([lib.startswith(\"pandas==\") for lib in conda_libs[\"dependencies\"][-1][\"pip\"]])\n",
        "if not pandas_lib_exists:\n",
        "  print(\"Adding pandas dependency to conda.yaml\")\n",
        "  conda_libs[\"dependencies\"][-1][\"pip\"].append(f\"pandas=={pd.__version__}\")\n",
        "\n",
        "  with open(f\"{tmp_dir}/conda.yaml\", \"w\") as f:\n",
        "    f.write(yaml.dump(conda_libs))\n",
        "  client.log_artifact(run_id=run_id, local_path=conda_file_path, artifact_path=\"model\")\n",
        "\n",
        "# Fix requirements.txt\n",
        "venv_file_path = mlflow.artifacts.download_artifacts(artifact_uri=f\"runs:/{run_id}/model/requirements.txt\", dst_path=tmp_dir)\n",
        "with open(venv_file_path) as f:\n",
        "  venv_libs = f.readlines()\n",
        "venv_libs = [lib.strip() for lib in venv_libs]\n",
        "pandas_lib_exists = any([lib.startswith(\"pandas==\") for lib in venv_libs])\n",
        "if not pandas_lib_exists:\n",
        "  print(\"Adding pandas dependency to requirements.txt\")\n",
        "  venv_libs.append(f\"pandas=={pd.__version__}\")\n",
        "\n",
        "  with open(f\"{tmp_dir}/requirements.txt\", \"w\") as f:\n",
        "    f.write(\"\\n\".join(venv_libs))\n",
        "  client.log_artifact(run_id=run_id, local_path=venv_file_path, artifact_path=\"model\")\n",
        "\n",
        "shutil.rmtree(tmp_dir)"
      ]
    },
    {
      "cell_type": "code",
      "execution_count": null,
      "metadata": {
        "application/vnd.databricks.v1+cell": {
          "cellMetadata": {},
          "inputWidgets": {},
          "nuid": "84da212a-b2aa-408a-a776-08a21f22dbad",
          "showTitle": false,
          "title": ""
        },
        "execution": {
          "iopub.execute_input": "2023-10-22T18:02:13.423889Z",
          "iopub.status.busy": "2023-10-22T18:02:13.423665Z",
          "iopub.status.idle": "2023-10-22T18:02:13.426843Z",
          "shell.execute_reply": "2023-10-22T18:02:13.426223Z"
        },
        "id": "TTIQBWbiGYgT"
      },
      "outputs": [],
      "source": [
        "# Set this flag to True and re-run the notebook to see the SHAP plots\n",
        "shap_enabled = False"
      ]
    },
    {
      "cell_type": "code",
      "execution_count": null,
      "metadata": {
        "application/vnd.databricks.v1+cell": {
          "cellMetadata": {},
          "inputWidgets": {},
          "nuid": "67847065-830f-4cfb-97a6-276a15531eba",
          "showTitle": false,
          "title": ""
        },
        "execution": {
          "iopub.execute_input": "2023-10-22T18:02:13.429559Z",
          "iopub.status.busy": "2023-10-22T18:02:13.429366Z",
          "iopub.status.idle": "2023-10-22T18:02:13.434349Z",
          "shell.execute_reply": "2023-10-22T18:02:13.433753Z"
        },
        "id": "wtFM9osoGYgU"
      },
      "outputs": [],
      "source": [
        "if shap_enabled:\n",
        "    mlflow.autolog(disable=True)\n",
        "    mlflow.sklearn.autolog(disable=True)\n",
        "    from shap import KernelExplainer, summary_plot\n",
        "    # Sample background data for SHAP Explainer. Increase the sample size to reduce variance.\n",
        "    train_sample = X_train.sample(n=min(100, X_train.shape[0]), random_state=763330925)\n",
        "\n",
        "    # Sample some rows from the validation set to explain. Increase the sample size for more thorough results.\n",
        "    example = X_val.sample(n=min(100, X_val.shape[0]), random_state=763330925)\n",
        "\n",
        "    # Use Kernel SHAP to explain feature importance on the sampled rows from the validation set.\n",
        "    predict = lambda x: model.predict(pd.DataFrame(x, columns=X_train.columns))\n",
        "    explainer = KernelExplainer(predict, train_sample, link=\"identity\")\n",
        "    shap_values = explainer.shap_values(example, l1_reg=False, nsamples=500)\n",
        "    summary_plot(shap_values, example, class_names=model.classes_)"
      ]
    },
    {
      "cell_type": "code",
      "execution_count": null,
      "metadata": {
        "application/vnd.databricks.v1+cell": {
          "cellMetadata": {},
          "inputWidgets": {},
          "nuid": "e57f6a7b-9cf1-4d2a-8bae-b5665fd83a03",
          "showTitle": false,
          "title": ""
        },
        "execution": {
          "iopub.execute_input": "2023-10-22T18:02:13.436960Z",
          "iopub.status.busy": "2023-10-22T18:02:13.436796Z",
          "iopub.status.idle": "2023-10-22T18:02:13.440040Z",
          "shell.execute_reply": "2023-10-22T18:02:13.439489Z"
        },
        "id": "g3Cw7mWIGYgU",
        "outputId": "a5c8f7d9-74f6-42c5-c093-e71346edac02"
      },
      "outputs": [
        {
          "output_type": "stream",
          "name": "stdout",
          "text": [
            "runs:/abbc186a16344d0ca21497ad0343eac4/model\n"
          ]
        }
      ],
      "source": [
        "# model_uri for the generated model\n",
        "print(f\"runs:/{ mlflow_run.info.run_id }/model\")"
      ]
    },
    {
      "cell_type": "markdown",
      "metadata": {
        "application/vnd.databricks.v1+cell": {
          "cellMetadata": {},
          "inputWidgets": {},
          "nuid": "c5563c60-b194-4173-9d83-92072c28bcbf",
          "showTitle": false,
          "title": ""
        },
        "id": "B58IXnXYGYgV"
      },
      "source": [
        "## Matriz de Confusão, Curva ROC e Precisão-Recall para validação"
      ]
    },
    {
      "cell_type": "code",
      "execution_count": null,
      "metadata": {
        "application/vnd.databricks.v1+cell": {
          "cellMetadata": {},
          "inputWidgets": {},
          "nuid": "bf21edd3-9f3a-4fcd-a711-d60b3b68b0dc",
          "showTitle": false,
          "title": ""
        },
        "execution": {
          "iopub.execute_input": "2023-10-22T18:02:13.449059Z",
          "iopub.status.busy": "2023-10-22T18:02:13.448840Z",
          "iopub.status.idle": "2023-10-22T18:02:16.560384Z",
          "shell.execute_reply": "2023-10-22T18:02:16.559566Z"
        },
        "id": "mRXjpfUVGYgW"
      },
      "outputs": [],
      "source": [
        "import uuid\n",
        "from IPython.display import Image\n",
        "\n",
        "# Create temp directory to download MLflow model artifact\n",
        "eval_temp_dir = os.path.join(os.environ[\"SPARK_LOCAL_DIRS\"], \"tmp\", str(uuid.uuid4())[:8])\n",
        "os.makedirs(eval_temp_dir, exist_ok=True)\n",
        "\n",
        "# Download the artifact\n",
        "eval_path = mlflow.artifacts.download_artifacts(run_id=mlflow_run.info.run_id, dst_path=eval_temp_dir)"
      ]
    },
    {
      "cell_type": "markdown",
      "metadata": {
        "application/vnd.databricks.v1+cell": {
          "cellMetadata": {},
          "inputWidgets": {},
          "nuid": "5ee731e3-4003-446b-9686-b17104fef6b3",
          "showTitle": false,
          "title": ""
        },
        "id": "FtMksCD0GYgW"
      },
      "source": [
        "### Matriz de Confusão"
      ]
    },
    {
      "cell_type": "code",
      "execution_count": null,
      "metadata": {
        "application/vnd.databricks.v1+cell": {
          "cellMetadata": {},
          "inputWidgets": {},
          "nuid": "5d690db8-c476-4ee2-b66f-007c6b2d3da6",
          "showTitle": false,
          "title": ""
        },
        "execution": {
          "iopub.execute_input": "2023-10-22T18:02:16.564048Z",
          "iopub.status.busy": "2023-10-22T18:02:16.563793Z",
          "iopub.status.idle": "2023-10-22T18:02:16.571492Z",
          "shell.execute_reply": "2023-10-22T18:02:16.570066Z"
        },
        "large_display_output": true,
        "id": "FkJ3LkE-GYgW",
        "outputId": "28bf011e-003e-4992-a06e-41cc2e79eaee"
      },
      "outputs": [
        {
          "output_type": "display_data",
          "data": {
            "image/png": "[encoded data removed]",
            "text/plain": [
              "<IPython.core.display.Image object>"
            ]
          },
          "metadata": {}
        }
      ],
      "source": [
        "eval_confusion_matrix_path = os.path.join(eval_path, \"val_confusion_matrix.png\")\n",
        "display(Image(filename=eval_confusion_matrix_path))"
      ]
    },
    {
      "cell_type": "markdown",
      "metadata": {
        "application/vnd.databricks.v1+cell": {
          "cellMetadata": {},
          "inputWidgets": {},
          "nuid": "26b170c0-00ff-4e2c-b297-a5cde86ee767",
          "showTitle": false,
          "title": ""
        },
        "id": "RLk4_2Q2GYgX"
      },
      "source": [
        "### Curva ROC"
      ]
    },
    {
      "cell_type": "code",
      "execution_count": null,
      "metadata": {
        "application/vnd.databricks.v1+cell": {
          "cellMetadata": {},
          "inputWidgets": {},
          "nuid": "3b59df69-3204-454c-a70a-adc4d08e68cf",
          "showTitle": false,
          "title": ""
        },
        "execution": {
          "iopub.execute_input": "2023-10-22T18:02:16.575554Z",
          "iopub.status.busy": "2023-10-22T18:02:16.575299Z",
          "iopub.status.idle": "2023-10-22T18:02:16.582271Z",
          "shell.execute_reply": "2023-10-22T18:02:16.581423Z"
        },
        "large_display_output": true,
        "id": "pb9gh-wEGYgX",
        "outputId": "a422c921-9dd4-48da-8d96-6b1fb0a2cb9c"
      },
      "outputs": [
        {
          "output_type": "display_data",
          "data": {
            "image/png": "[encoded data removed]",
            "text/plain": [
              "<IPython.core.display.Image object>"
            ]
          },
          "metadata": {}
        }
      ],
      "source": [
        "eval_roc_curve_path = os.path.join(eval_path, \"val_roc_curve_plot.png\")\n",
        "display(Image(filename=eval_roc_curve_path))"
      ]
    },
    {
      "cell_type": "markdown",
      "metadata": {
        "application/vnd.databricks.v1+cell": {
          "cellMetadata": {},
          "inputWidgets": {},
          "nuid": "4cb9ff93-1773-45ab-a32d-b66ee5e12259",
          "showTitle": false,
          "title": ""
        },
        "id": "8ww4IsvcGYgo"
      },
      "source": [
        "### Curva Precisão-Recall"
      ]
    },
    {
      "cell_type": "code",
      "execution_count": null,
      "metadata": {
        "application/vnd.databricks.v1+cell": {
          "cellMetadata": {},
          "inputWidgets": {},
          "nuid": "f31d0893-8b7b-4231-b4e0-7ec1d594ee42",
          "showTitle": false,
          "title": ""
        },
        "execution": {
          "iopub.execute_input": "2023-10-22T18:02:16.587327Z",
          "iopub.status.busy": "2023-10-22T18:02:16.587102Z",
          "iopub.status.idle": "2023-10-22T18:02:16.593953Z",
          "shell.execute_reply": "2023-10-22T18:02:16.593133Z"
        },
        "large_display_output": true,
        "id": "ygVggiZTGYgo",
        "outputId": "c2cb6924-8b09-4f41-8ccb-12d0b37b796c"
      },
      "outputs": [
        {
          "output_type": "display_data",
          "data": {
            "image/png": "[encoded data removed]",
            "text/plain": [
              "<IPython.core.display.Image object>"
            ]
          },
          "metadata": {}
        }
      ],
      "source": [
        "eval_pr_curve_path = os.path.join(eval_path, \"val_precision_recall_curve_plot.png\")\n",
        "display(Image(filename=eval_pr_curve_path))"
      ]
    }
  ],
  "metadata": {
    "application/vnd.databricks.v1+notebook": {
      "dashboards": [],
      "language": "python",
      "notebookMetadata": {
        "pythonIndentUnit": 4
      },
      "notebookName": "23-10-22-17:51-LightGBMClassifier-f25c14a006a53552e905dd31f8c31975",
      "widgets": {}
    },
    "language_info": {
      "name": "python"
    },
    "name": "LightGBMClassifier-f25c14a006a53552e905dd31f8c31975",
    "colab": {
      "provenance": []
    },
    "kernelspec": {
      "name": "python3",
      "display_name": "Python 3"
    }
  },
  "nbformat": 4,
  "nbformat_minor": 0
}