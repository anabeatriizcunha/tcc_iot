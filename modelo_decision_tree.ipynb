{
  "cells": [
    {
      "cell_type": "markdown",
      "metadata": {
        "application/vnd.databricks.v1+cell": {
          "cellMetadata": {},
          "inputWidgets": {},
          "nuid": "99ffcd64-790e-4994-9371-08cef8379c25",
          "showTitle": false,
          "title": ""
        },
        "id": "vt5_mnuo6AWf"
      },
      "source": [
        "# Decision Tree Classifier training\n",
        "\n"
      ]
    },
    {
      "cell_type": "code",
      "execution_count": null,
      "metadata": {
        "application/vnd.databricks.v1+cell": {
          "cellMetadata": {},
          "inputWidgets": {},
          "nuid": "363e074b-3001-4d10-bb4f-ea09204f067d",
          "showTitle": false,
          "title": ""
        },
        "execution": {
          "iopub.execute_input": "2023-10-22T18:04:43.979275Z",
          "iopub.status.busy": "2023-10-22T18:04:43.978698Z",
          "iopub.status.idle": "2023-10-22T18:04:43.984878Z",
          "shell.execute_reply": "2023-10-22T18:04:43.984259Z"
        },
        "id": "VrmZmT-z6AWq"
      },
      "outputs": [],
      "source": [
        "import mlflow\n",
        "import databricks.automl_runtime\n",
        "\n",
        "target_col = \"Label\""
      ]
    },
    {
      "cell_type": "markdown",
      "metadata": {
        "application/vnd.databricks.v1+cell": {
          "cellMetadata": {},
          "inputWidgets": {},
          "nuid": "f2c78ccc-07d9-4d04-95f1-b62b2f7c3d1b",
          "showTitle": false,
          "title": ""
        },
        "id": "paPbjfjo6AWu"
      },
      "source": [
        "## Carregamento dos dados"
      ]
    },
    {
      "cell_type": "code",
      "execution_count": null,
      "metadata": {
        "application/vnd.databricks.v1+cell": {
          "cellMetadata": {},
          "inputWidgets": {},
          "nuid": "1dcdf76b-630b-4a45-8c58-52f391083d8c",
          "showTitle": false,
          "title": ""
        },
        "execution": {
          "iopub.execute_input": "2023-10-22T18:04:43.987823Z",
          "iopub.status.busy": "2023-10-22T18:04:43.987465Z",
          "iopub.status.idle": "2023-10-22T18:04:45.181797Z",
          "shell.execute_reply": "2023-10-22T18:04:45.181127Z"
        },
        "id": "prK2sm2j6AWv",
        "outputId": "3126d077-04e6-45b3-eec8-9494c4850433"
      },
      "outputs": [
        {
          "output_type": "execute_result",
          "data": {
            "text/html": [
              "<div>\n",
              "<style scoped>\n",
              "    .dataframe tbody tr th:only-of-type {\n",
              "        vertical-align: middle;\n",
              "    }\n",
              "\n",
              "    .dataframe tbody tr th {\n",
              "        vertical-align: top;\n",
              "    }\n",
              "\n",
              "    .dataframe thead th {\n",
              "        text-align: right;\n",
              "    }\n",
              "</style>\n",
              "<table border=\"1\" class=\"dataframe\">\n",
              "  <thead>\n",
              "    <tr style=\"text-align: right;\">\n",
              "      <th></th>\n",
              "      <th>ts</th>\n",
              "      <th>te</th>\n",
              "      <th>td</th>\n",
              "      <th>sa</th>\n",
              "      <th>da</th>\n",
              "      <th>sp</th>\n",
              "      <th>dp</th>\n",
              "      <th>pr</th>\n",
              "      <th>flg</th>\n",
              "      <th>fwd</th>\n",
              "      <th>...</th>\n",
              "      <th>mpls10</th>\n",
              "      <th>cl</th>\n",
              "      <th>sl</th>\n",
              "      <th>al</th>\n",
              "      <th>ra</th>\n",
              "      <th>eng</th>\n",
              "      <th>exid</th>\n",
              "      <th>tr</th>\n",
              "      <th>Label</th>\n",
              "      <th>_automl_split_col_0000</th>\n",
              "    </tr>\n",
              "  </thead>\n",
              "  <tbody>\n",
              "    <tr>\n",
              "      <th>0</th>\n",
              "      <td>07/11/2018 09:30</td>\n",
              "      <td>07/11/2018 09:30</td>\n",
              "      <td>48</td>\n",
              "      <td>192.168.1.106</td>\n",
              "      <td>192.168.1.109</td>\n",
              "      <td>6000</td>\n",
              "      <td>37438.0</td>\n",
              "      <td>TCP</td>\n",
              "      <td>.A.R..</td>\n",
              "      <td>0.0</td>\n",
              "      <td>...</td>\n",
              "      <td>0-0-0</td>\n",
              "      <td>0.0</td>\n",
              "      <td>0.0</td>\n",
              "      <td>0.0</td>\n",
              "      <td>0.0.0.0</td>\n",
              "      <td>0/0</td>\n",
              "      <td>1.0</td>\n",
              "      <td>1969-12-31 21:00:00</td>\n",
              "      <td>0</td>\n",
              "      <td>train</td>\n",
              "    </tr>\n",
              "    <tr>\n",
              "      <th>1</th>\n",
              "      <td>07/11/2018 09:29</td>\n",
              "      <td>07/11/2018 09:29</td>\n",
              "      <td>35</td>\n",
              "      <td>192.168.1.109</td>\n",
              "      <td>192.168.1.120</td>\n",
              "      <td>49748</td>\n",
              "      <td>80.0</td>\n",
              "      <td>TCP</td>\n",
              "      <td>.AP.SF</td>\n",
              "      <td>0.0</td>\n",
              "      <td>...</td>\n",
              "      <td>0-0-0</td>\n",
              "      <td>0.0</td>\n",
              "      <td>0.0</td>\n",
              "      <td>0.0</td>\n",
              "      <td>0.0.0.0</td>\n",
              "      <td>0/0</td>\n",
              "      <td>1.0</td>\n",
              "      <td>1969-12-31 21:00:00</td>\n",
              "      <td>0</td>\n",
              "      <td>train</td>\n",
              "    </tr>\n",
              "    <tr>\n",
              "      <th>2</th>\n",
              "      <td>07/11/2018 09:31</td>\n",
              "      <td>07/11/2018 09:33</td>\n",
              "      <td>83366</td>\n",
              "      <td>192.168.1.102</td>\n",
              "      <td>192.168.1.109</td>\n",
              "      <td>36322</td>\n",
              "      <td>23.0</td>\n",
              "      <td>TCP</td>\n",
              "      <td>.APRS.</td>\n",
              "      <td>0.0</td>\n",
              "      <td>...</td>\n",
              "      <td>0-0-0</td>\n",
              "      <td>0.0</td>\n",
              "      <td>0.0</td>\n",
              "      <td>0.0</td>\n",
              "      <td>0.0.0.0</td>\n",
              "      <td>0/0</td>\n",
              "      <td>1.0</td>\n",
              "      <td>1969-12-31 21:00:00</td>\n",
              "      <td>1</td>\n",
              "      <td>train</td>\n",
              "    </tr>\n",
              "    <tr>\n",
              "      <th>3</th>\n",
              "      <td>07/11/2018 09:31</td>\n",
              "      <td>07/11/2018 09:33</td>\n",
              "      <td>83366</td>\n",
              "      <td>192.168.1.109</td>\n",
              "      <td>192.168.1.102</td>\n",
              "      <td>23</td>\n",
              "      <td>36322.0</td>\n",
              "      <td>TCP</td>\n",
              "      <td>.AP...</td>\n",
              "      <td>0.0</td>\n",
              "      <td>...</td>\n",
              "      <td>0-0-0</td>\n",
              "      <td>0.0</td>\n",
              "      <td>0.0</td>\n",
              "      <td>0.0</td>\n",
              "      <td>0.0.0.0</td>\n",
              "      <td>0/0</td>\n",
              "      <td>1.0</td>\n",
              "      <td>1969-12-31 21:00:00</td>\n",
              "      <td>1</td>\n",
              "      <td>train</td>\n",
              "    </tr>\n",
              "    <tr>\n",
              "      <th>4</th>\n",
              "      <td>07/11/2018 09:33</td>\n",
              "      <td>07/11/2018 09:33</td>\n",
              "      <td>2853</td>\n",
              "      <td>192.168.1.109</td>\n",
              "      <td>192.168.1.106</td>\n",
              "      <td>80</td>\n",
              "      <td>46180.0</td>\n",
              "      <td>TCP</td>\n",
              "      <td>.AP.SF</td>\n",
              "      <td>0.0</td>\n",
              "      <td>...</td>\n",
              "      <td>0-0-0</td>\n",
              "      <td>0.0</td>\n",
              "      <td>0.0</td>\n",
              "      <td>0.0</td>\n",
              "      <td>0.0.0.0</td>\n",
              "      <td>0/0</td>\n",
              "      <td>1.0</td>\n",
              "      <td>1969-12-31 21:00:00</td>\n",
              "      <td>0</td>\n",
              "      <td>train</td>\n",
              "    </tr>\n",
              "  </tbody>\n",
              "</table>\n",
              "<p>5 rows × 50 columns</p>\n",
              "</div>"
            ],
            "text/plain": [
              "                 ts                te     td             sa             da  \\\n",
              "0  07/11/2018 09:30  07/11/2018 09:30     48  192.168.1.106  192.168.1.109   \n",
              "1  07/11/2018 09:29  07/11/2018 09:29     35  192.168.1.109  192.168.1.120   \n",
              "2  07/11/2018 09:31  07/11/2018 09:33  83366  192.168.1.102  192.168.1.109   \n",
              "3  07/11/2018 09:31  07/11/2018 09:33  83366  192.168.1.109  192.168.1.102   \n",
              "4  07/11/2018 09:33  07/11/2018 09:33   2853  192.168.1.109  192.168.1.106   \n",
              "\n",
              "      sp       dp   pr     flg  fwd  ...  mpls10   cl   sl   al       ra  eng  \\\n",
              "0   6000  37438.0  TCP  .A.R..  0.0  ...   0-0-0  0.0  0.0  0.0  0.0.0.0  0/0   \n",
              "1  49748     80.0  TCP  .AP.SF  0.0  ...   0-0-0  0.0  0.0  0.0  0.0.0.0  0/0   \n",
              "2  36322     23.0  TCP  .APRS.  0.0  ...   0-0-0  0.0  0.0  0.0  0.0.0.0  0/0   \n",
              "3     23  36322.0  TCP  .AP...  0.0  ...   0-0-0  0.0  0.0  0.0  0.0.0.0  0/0   \n",
              "4     80  46180.0  TCP  .AP.SF  0.0  ...   0-0-0  0.0  0.0  0.0  0.0.0.0  0/0   \n",
              "\n",
              "   exid                  tr  Label  _automl_split_col_0000  \n",
              "0   1.0 1969-12-31 21:00:00      0                   train  \n",
              "1   1.0 1969-12-31 21:00:00      0                   train  \n",
              "2   1.0 1969-12-31 21:00:00      1                   train  \n",
              "3   1.0 1969-12-31 21:00:00      1                   train  \n",
              "4   1.0 1969-12-31 21:00:00      0                   train  \n",
              "\n",
              "[5 rows x 50 columns]"
            ]
          },
          "execution_count": 3,
          "metadata": {}
        }
      ],
      "source": [
        "import mlflow\n",
        "import os\n",
        "import uuid\n",
        "import shutil\n",
        "import pandas as pd\n",
        "\n",
        "# Create temp directory to download input data from MLflow\n",
        "input_temp_dir = os.path.join(os.environ[\"SPARK_LOCAL_DIRS\"], \"tmp\", str(uuid.uuid4())[:8])\n",
        "os.makedirs(input_temp_dir)\n",
        "\n",
        "\n",
        "# Download the artifact and read it into a pandas DataFrame\n",
        "input_data_path = mlflow.artifacts.download_artifacts(run_id=\"01fdd5fa612e452ba952a915932892f2\", artifact_path=\"data\", dst_path=input_temp_dir)\n",
        "\n",
        "df_loaded = pd.read_parquet(os.path.join(input_data_path, \"training_data\"))\n",
        "# Delete the temp data\n",
        "shutil.rmtree(input_temp_dir)\n",
        "\n",
        "# Preview data\n",
        "df_loaded.head(5)"
      ]
    },
    {
      "cell_type": "code",
      "execution_count": null,
      "metadata": {
        "application/vnd.databricks.v1+cell": {
          "cellMetadata": {},
          "inputWidgets": {},
          "nuid": "e7cb2ca0-e730-4ed3-b781-55fd9d2c680e",
          "showTitle": false,
          "title": ""
        },
        "execution": {
          "iopub.execute_input": "2023-10-22T18:04:45.185174Z",
          "iopub.status.busy": "2023-10-22T18:04:45.184717Z",
          "iopub.status.idle": "2023-10-22T18:04:45.782048Z",
          "shell.execute_reply": "2023-10-22T18:04:45.781342Z"
        },
        "id": "lFrNUBLQ6AW1"
      },
      "outputs": [],
      "source": [
        "from databricks.automl_runtime.sklearn.column_selector import ColumnSelector\n",
        "supported_cols = [\"ts\", \"da\", \"ibyt\", \"te\", \"ipkt\", \"sp\", \"pr\", \"td\", \"dp\", \"sa\", \"flg\"]\n",
        "col_selector = ColumnSelector(supported_cols)"
      ]
    },
    {
      "cell_type": "markdown",
      "metadata": {
        "application/vnd.databricks.v1+cell": {
          "cellMetadata": {},
          "inputWidgets": {},
          "nuid": "18e72fc6-3ff4-4d9f-a801-dc4f6135b4d5",
          "showTitle": false,
          "title": ""
        },
        "id": "pnmkn9U46AW2"
      },
      "source": [
        "## Pré-Processamento"
      ]
    },
    {
      "cell_type": "code",
      "execution_count": null,
      "metadata": {
        "application/vnd.databricks.v1+cell": {
          "cellMetadata": {},
          "inputWidgets": {},
          "nuid": "30f5bd8f-df56-414a-8aaa-9afe4c1247c3",
          "showTitle": false,
          "title": ""
        },
        "execution": {
          "iopub.execute_input": "2023-10-22T18:04:45.786739Z",
          "iopub.status.busy": "2023-10-22T18:04:45.786370Z",
          "iopub.status.idle": "2023-10-22T18:04:45.792248Z",
          "shell.execute_reply": "2023-10-22T18:04:45.791485Z"
        },
        "id": "7d-9lZk46AW5"
      },
      "outputs": [],
      "source": [
        "from pandas import Timestamp\n",
        "from sklearn.compose import ColumnTransformer\n",
        "from sklearn.pipeline import Pipeline\n",
        "\n",
        "from databricks.automl_runtime.sklearn import DatetimeImputer\n",
        "from databricks.automl_runtime.sklearn import OneHotEncoder\n",
        "from databricks.automl_runtime.sklearn import TimestampTransformer\n",
        "from sklearn.preprocessing import StandardScaler\n",
        "\n",
        "imputers = {\n",
        "  \"te\": DatetimeImputer(),\n",
        "  \"ts\": DatetimeImputer(),\n",
        "}\n",
        "\n",
        "datetime_transformers = []\n",
        "\n",
        "for col in [\"te\", \"ts\"]:\n",
        "    ohe_transformer = ColumnTransformer(\n",
        "        [(\"ohe\", OneHotEncoder(sparse=False, handle_unknown=\"indicator\"), [TimestampTransformer.HOUR_COLUMN_INDEX])],\n",
        "        remainder=\"passthrough\")\n",
        "    timestamp_preprocessor = Pipeline([\n",
        "        (f\"impute_{col}\", imputers[col]),\n",
        "        (f\"transform_{col}\", TimestampTransformer()),\n",
        "        (f\"onehot_encode_{col}\", ohe_transformer),\n",
        "        (f\"standardize_{col}\", StandardScaler()),\n",
        "    ])\n",
        "    datetime_transformers.append((f\"timestamp_{col}\", timestamp_preprocessor, [col]))"
      ]
    },
    {
      "cell_type": "markdown",
      "metadata": {
        "application/vnd.databricks.v1+cell": {
          "cellMetadata": {},
          "inputWidgets": {},
          "nuid": "e8558a4e-9f71-4136-831c-41a16efacd05",
          "showTitle": false,
          "title": ""
        },
        "id": "fOou5Nlh6AW6"
      },
      "source": [
        "### Colunas com valores numéricos\n",
        "\n",
        "Valores ausentes em colunas numéricas são preenchidos com a média por padrão."
      ]
    },
    {
      "cell_type": "code",
      "execution_count": null,
      "metadata": {
        "application/vnd.databricks.v1+cell": {
          "cellMetadata": {},
          "inputWidgets": {},
          "nuid": "98d35bee-611b-4bff-b2d2-5c348b4d7745",
          "showTitle": false,
          "title": ""
        },
        "execution": {
          "iopub.execute_input": "2023-10-22T18:04:45.794965Z",
          "iopub.status.busy": "2023-10-22T18:04:45.794750Z",
          "iopub.status.idle": "2023-10-22T18:04:45.799615Z",
          "shell.execute_reply": "2023-10-22T18:04:45.798942Z"
        },
        "id": "0c0XSAr96AW7"
      },
      "outputs": [],
      "source": [
        "from sklearn.compose import ColumnTransformer\n",
        "from sklearn.impute import SimpleImputer\n",
        "from sklearn.pipeline import Pipeline\n",
        "from sklearn.preprocessing import FunctionTransformer, StandardScaler\n",
        "\n",
        "num_imputers = []\n",
        "num_imputers.append((\"impute_mean\", SimpleImputer(), [\"dp\", \"ibyt\", \"ipkt\", \"sp\", \"td\"]))\n",
        "\n",
        "numerical_pipeline = Pipeline(steps=[\n",
        "    (\"converter\", FunctionTransformer(lambda df: df.apply(pd.to_numeric, errors='coerce'))),\n",
        "    (\"imputers\", ColumnTransformer(num_imputers)),\n",
        "    (\"standardizer\", StandardScaler()),\n",
        "])\n",
        "\n",
        "numerical_transformers = [(\"numerical\", numerical_pipeline, [\"ibyt\", \"ipkt\", \"sp\", \"td\", \"dp\"])]"
      ]
    },
    {
      "cell_type": "markdown",
      "metadata": {
        "application/vnd.databricks.v1+cell": {
          "cellMetadata": {},
          "inputWidgets": {},
          "nuid": "77c65006-60ee-49f5-9e84-b8365df706e6",
          "showTitle": false,
          "title": ""
        },
        "id": "wmPhfNt66AW9"
      },
      "source": [
        "### Colunas categóricas"
      ]
    },
    {
      "cell_type": "markdown",
      "metadata": {
        "application/vnd.databricks.v1+cell": {
          "cellMetadata": {},
          "inputWidgets": {},
          "nuid": "7e421745-0cea-4648-be33-dc38acdf33d3",
          "showTitle": false,
          "title": ""
        },
        "id": "GXZdib0_6AW-"
      },
      "source": [
        "#### Colunas de baixa cardinalidade\n",
        "Para cada coluna categórica de entrada (string ou numérica), o número de colunas de saída é igual ao número de valores únicos na coluna de entrada."
      ]
    },
    {
      "cell_type": "code",
      "execution_count": null,
      "metadata": {
        "application/vnd.databricks.v1+cell": {
          "cellMetadata": {},
          "inputWidgets": {},
          "nuid": "ae90f849-9282-4a80-9645-207201cb242c",
          "showTitle": false,
          "title": ""
        },
        "execution": {
          "iopub.execute_input": "2023-10-22T18:04:45.802264Z",
          "iopub.status.busy": "2023-10-22T18:04:45.802055Z",
          "iopub.status.idle": "2023-10-22T18:04:45.806223Z",
          "shell.execute_reply": "2023-10-22T18:04:45.805544Z"
        },
        "id": "yAgzq-Vy6AW-"
      },
      "outputs": [],
      "source": [
        "from databricks.automl_runtime.sklearn import OneHotEncoder\n",
        "from sklearn.compose import ColumnTransformer\n",
        "from sklearn.impute import SimpleImputer\n",
        "from sklearn.pipeline import Pipeline\n",
        "\n",
        "one_hot_imputers = []\n",
        "\n",
        "one_hot_pipeline = Pipeline(steps=[\n",
        "    (\"imputers\", ColumnTransformer(one_hot_imputers, remainder=\"passthrough\")),\n",
        "    (\"one_hot_encoder\", OneHotEncoder(handle_unknown=\"indicator\")),\n",
        "])\n",
        "\n",
        "categorical_one_hot_transformers = [(\"onehot\", one_hot_pipeline, [\"da\", \"flg\", \"pr\", \"sa\"])]"
      ]
    },
    {
      "cell_type": "code",
      "execution_count": null,
      "metadata": {
        "application/vnd.databricks.v1+cell": {
          "cellMetadata": {},
          "inputWidgets": {},
          "nuid": "176f6164-6898-4a25-90c6-ac5033b8c0bf",
          "showTitle": false,
          "title": ""
        },
        "execution": {
          "iopub.execute_input": "2023-10-22T18:04:45.809605Z",
          "iopub.status.busy": "2023-10-22T18:04:45.809167Z",
          "iopub.status.idle": "2023-10-22T18:04:45.813548Z",
          "shell.execute_reply": "2023-10-22T18:04:45.812828Z"
        },
        "id": "r6I2eEwF6AW_"
      },
      "outputs": [],
      "source": [
        "from sklearn.compose import ColumnTransformer\n",
        "\n",
        "transformers = datetime_transformers + numerical_transformers + categorical_one_hot_transformers\n",
        "\n",
        "preprocessor = ColumnTransformer(transformers, remainder=\"passthrough\", sparse_threshold=0)"
      ]
    },
    {
      "cell_type": "markdown",
      "metadata": {
        "application/vnd.databricks.v1+cell": {
          "cellMetadata": {},
          "inputWidgets": {},
          "nuid": "276a74ce-8299-45dd-b873-1f4d08b9fcce",
          "showTitle": false,
          "title": ""
        },
        "id": "b4PMqQit6AXA"
      },
      "source": [
        "## Treino, validação e teste\n",
        "O dataset foi dividido em:\n",
        "- Treino (60% do dataset será utilizado para treino do modelo)\n",
        "- Validação (20% do dataset será utilizado para ajustar os parâmetros do modelo)\n",
        "- Teste (20% do dataset será utilizado para relatar o desempenho real do modelo em um conjunto de dados não observado)\n"
      ]
    },
    {
      "cell_type": "code",
      "execution_count": null,
      "metadata": {
        "application/vnd.databricks.v1+cell": {
          "cellMetadata": {},
          "inputWidgets": {},
          "nuid": "982f3f21-1de1-433f-a42e-2d0b1f14a0a5",
          "showTitle": false,
          "title": ""
        },
        "execution": {
          "iopub.execute_input": "2023-10-22T18:04:45.817438Z",
          "iopub.status.busy": "2023-10-22T18:04:45.816711Z",
          "iopub.status.idle": "2023-10-22T18:04:45.832194Z",
          "shell.execute_reply": "2023-10-22T18:04:45.831462Z"
        },
        "id": "k7AYSfWx6AXA"
      },
      "outputs": [],
      "source": [
        "# AutoML completed train - validation - test split internally and used _automl_split_col_0000 to specify the set\n",
        "split_train_df = df_loaded.loc[df_loaded._automl_split_col_0000 == \"train\"]\n",
        "split_val_df = df_loaded.loc[df_loaded._automl_split_col_0000 == \"val\"]\n",
        "split_test_df = df_loaded.loc[df_loaded._automl_split_col_0000 == \"test\"]\n",
        "\n",
        "# Separate target column from features and drop _automl_split_col_0000\n",
        "X_train = split_train_df.drop([target_col, \"_automl_split_col_0000\"], axis=1)\n",
        "y_train = split_train_df[target_col]\n",
        "\n",
        "X_val = split_val_df.drop([target_col, \"_automl_split_col_0000\"], axis=1)\n",
        "y_val = split_val_df[target_col]\n",
        "\n",
        "X_test = split_test_df.drop([target_col, \"_automl_split_col_0000\"], axis=1)\n",
        "y_test = split_test_df[target_col]"
      ]
    },
    {
      "cell_type": "markdown",
      "metadata": {
        "application/vnd.databricks.v1+cell": {
          "cellMetadata": {},
          "inputWidgets": {},
          "nuid": "73c99541-4df9-4b99-951d-b4684a918318",
          "showTitle": false,
          "title": ""
        },
        "id": "dSU8aYal6AXB"
      },
      "source": [
        "## Treino do modelo de classificação\n"
      ]
    },
    {
      "cell_type": "code",
      "execution_count": null,
      "metadata": {
        "application/vnd.databricks.v1+cell": {
          "cellMetadata": {},
          "inputWidgets": {},
          "nuid": "9af8a6f3-8743-4200-aee9-370d96e3f01f",
          "showTitle": false,
          "title": ""
        },
        "execution": {
          "iopub.execute_input": "2023-10-22T18:04:45.835286Z",
          "iopub.status.busy": "2023-10-22T18:04:45.835137Z",
          "iopub.status.idle": "2023-10-22T18:04:45.846331Z",
          "shell.execute_reply": "2023-10-22T18:04:45.845796Z"
        },
        "id": "k41tC4UN6AXB"
      },
      "outputs": [],
      "source": [
        "from sklearn.tree import DecisionTreeClassifier\n"
      ]
    },
    {
      "cell_type": "markdown",
      "metadata": {
        "application/vnd.databricks.v1+cell": {
          "cellMetadata": {},
          "inputWidgets": {},
          "nuid": "80e75701-6b6e-4100-817f-f9a549e6282b",
          "showTitle": false,
          "title": ""
        },
        "id": "VGDUaiCh6AXB"
      },
      "source": [
        "### Define a função objetivo\n"
      ]
    },
    {
      "cell_type": "code",
      "execution_count": null,
      "metadata": {
        "application/vnd.databricks.v1+cell": {
          "cellMetadata": {},
          "inputWidgets": {},
          "nuid": "b4f830f3-afb7-42a5-8c7d-efd352af0220",
          "showTitle": false,
          "title": ""
        },
        "execution": {
          "iopub.execute_input": "2023-10-22T18:04:45.849295Z",
          "iopub.status.busy": "2023-10-22T18:04:45.849086Z",
          "iopub.status.idle": "2023-10-22T18:04:45.940056Z",
          "shell.execute_reply": "2023-10-22T18:04:45.939339Z"
        },
        "id": "y-2WfbyL6AXC"
      },
      "outputs": [],
      "source": [
        "import mlflow\n",
        "from mlflow.models import Model, infer_signature, ModelSignature\n",
        "from mlflow.pyfunc import PyFuncModel\n",
        "from mlflow import pyfunc\n",
        "import sklearn\n",
        "from sklearn import set_config\n",
        "from sklearn.pipeline import Pipeline\n",
        "\n",
        "from hyperopt import hp, tpe, fmin, STATUS_OK, Trials\n",
        "\n",
        "def objective(params):\n",
        "  with mlflow.start_run(experiment_id=\"1276305420892233\") as mlflow_run:\n",
        "    skdtc_classifier = DecisionTreeClassifier(**params)\n",
        "\n",
        "    model = Pipeline([\n",
        "        (\"column_selector\", col_selector),\n",
        "        (\"preprocessor\", preprocessor),\n",
        "        (\"classifier\", skdtc_classifier),\n",
        "    ])\n",
        "\n",
        "    # Enable automatic logging of input samples, metrics, parameters, and models\n",
        "    mlflow.sklearn.autolog(\n",
        "        log_input_examples=True,\n",
        "        silent=True)\n",
        "\n",
        "    model.fit(X_train, y_train)\n",
        "\n",
        "\n",
        "    # Log metrics for the training set\n",
        "    mlflow_model = Model()\n",
        "    pyfunc.add_to_model(mlflow_model, loader_module=\"mlflow.sklearn\")\n",
        "    pyfunc_model = PyFuncModel(model_meta=mlflow_model, model_impl=model)\n",
        "    training_eval_result = mlflow.evaluate(\n",
        "        model=pyfunc_model,\n",
        "        data=X_train.assign(**{str(target_col):y_train}),\n",
        "        targets=target_col,\n",
        "        model_type=\"classifier\",\n",
        "        evaluator_config = {\"log_model_explainability\": False,\n",
        "                            \"metric_prefix\": \"training_\" , \"pos_label\": 1 }\n",
        "    )\n",
        "    skdtc_training_metrics = training_eval_result.metrics\n",
        "    # Log metrics for the validation set\n",
        "    val_eval_result = mlflow.evaluate(\n",
        "        model=pyfunc_model,\n",
        "        data=X_val.assign(**{str(target_col):y_val}),\n",
        "        targets=target_col,\n",
        "        model_type=\"classifier\",\n",
        "        evaluator_config = {\"log_model_explainability\": False,\n",
        "                            \"metric_prefix\": \"val_\" , \"pos_label\": 1 }\n",
        "    )\n",
        "    skdtc_val_metrics = val_eval_result.metrics\n",
        "    # Log metrics for the test set\n",
        "    test_eval_result = mlflow.evaluate(\n",
        "        model=pyfunc_model,\n",
        "        data=X_test.assign(**{str(target_col):y_test}),\n",
        "        targets=target_col,\n",
        "        model_type=\"classifier\",\n",
        "        evaluator_config = {\"log_model_explainability\": False,\n",
        "                            \"metric_prefix\": \"test_\" , \"pos_label\": 1 }\n",
        "    )\n",
        "    skdtc_test_metrics = test_eval_result.metrics\n",
        "\n",
        "    loss = -skdtc_val_metrics[\"val_accuracy_score\"]\n",
        "\n",
        "    # Truncate metric key names so they can be displayed together\n",
        "    skdtc_val_metrics = {k.replace(\"val_\", \"\"): v for k, v in skdtc_val_metrics.items()}\n",
        "    skdtc_test_metrics = {k.replace(\"test_\", \"\"): v for k, v in skdtc_test_metrics.items()}\n",
        "\n",
        "    return {\n",
        "      \"loss\": loss,\n",
        "      \"status\": STATUS_OK,\n",
        "      \"val_metrics\": skdtc_val_metrics,\n",
        "      \"test_metrics\": skdtc_test_metrics,\n",
        "      \"model\": model,\n",
        "      \"run\": mlflow_run,\n",
        "    }"
      ]
    },
    {
      "cell_type": "markdown",
      "metadata": {
        "application/vnd.databricks.v1+cell": {
          "cellMetadata": {},
          "inputWidgets": {},
          "nuid": "3f8d0175-2ffc-4b2c-abe3-dd609d75f38f",
          "showTitle": false,
          "title": ""
        },
        "id": "K1yBqMxV6AXD"
      },
      "source": [
        "### Configura o espaço de busca de parâmetros\n"
      ]
    },
    {
      "cell_type": "code",
      "execution_count": null,
      "metadata": {
        "application/vnd.databricks.v1+cell": {
          "cellMetadata": {},
          "inputWidgets": {},
          "nuid": "bf111d6b-5303-40b9-a96d-0cb4c42ac57d",
          "showTitle": false,
          "title": ""
        },
        "execution": {
          "iopub.execute_input": "2023-10-22T18:04:45.946747Z",
          "iopub.status.busy": "2023-10-22T18:04:45.946316Z",
          "iopub.status.idle": "2023-10-22T18:04:45.950906Z",
          "shell.execute_reply": "2023-10-22T18:04:45.949235Z"
        },
        "id": "jEQUYSBs6AXD"
      },
      "outputs": [],
      "source": [
        "space = {\n",
        "  \"criterion\": \"entropy\",\n",
        "  \"max_depth\": 9,\n",
        "  \"max_features\": 0.5343729605510406,\n",
        "  \"min_samples_leaf\": 0.1465735385387781,\n",
        "  \"min_samples_split\": 0.18403423383299392,\n",
        "  \"random_state\": 763330925,\n",
        "}"
      ]
    },
    {
      "cell_type": "markdown",
      "metadata": {
        "application/vnd.databricks.v1+cell": {
          "cellMetadata": {},
          "inputWidgets": {},
          "nuid": "3f4563a4-8589-4418-8c75-a83dd4f7ed89",
          "showTitle": false,
          "title": ""
        },
        "id": "7ShxJA1l6AXE"
      },
      "source": [
        "### Executar experimentos\n"
      ]
    },
    {
      "cell_type": "code",
      "execution_count": null,
      "metadata": {
        "application/vnd.databricks.v1+cell": {
          "cellMetadata": {},
          "inputWidgets": {},
          "nuid": "77b12b4c-d4f1-497b-87a1-52d3ea26dd8b",
          "showTitle": false,
          "title": ""
        },
        "execution": {
          "iopub.execute_input": "2023-10-22T18:04:45.954357Z",
          "iopub.status.busy": "2023-10-22T18:04:45.954071Z",
          "iopub.status.idle": "2023-10-22T18:05:02.790308Z",
          "shell.execute_reply": "2023-10-22T18:05:02.789694Z"
        },
        "id": "jbUfiMwl6AXE",
        "outputId": "39e08e39-c9dc-45fc-81c9-4b81f6d9ddd8"
      },
      "outputs": [
        {
          "output_type": "stream",
          "name": "stdout",
          "text": [
            "\r  0%|          | 0/1 [00:00<?, ?trial/s, best loss=?]"
          ]
        },
        {
          "output_type": "stream",
          "name": "stdout",
          "text": [
            "\r                                                     "
          ]
        },
        {
          "output_type": "stream",
          "name": "stdout",
          "text": [
            "\r"
          ]
        },
        {
          "output_type": "stream",
          "name": "stdout",
          "text": [
            "Warning: No categorical columns found. Calling 'transform' will only return input data.\n\r  0%|          | 0/1 [00:01<?, ?trial/s, best loss=?]"
          ]
        },
        {
          "output_type": "stream",
          "name": "stdout",
          "text": [
            "\r                                                     "
          ]
        },
        {
          "output_type": "stream",
          "name": "stdout",
          "text": [
            "\r"
          ]
        },
        {
          "output_type": "stream",
          "name": "stdout",
          "text": [
            "Warning: No categorical columns found. Calling 'transform' will only return input data.\n\r  0%|          | 0/1 [00:01<?, ?trial/s, best loss=?]"
          ]
        },
        {
          "output_type": "stream",
          "name": "stderr",
          "text": [
            "2023/10/22 18:04:54 INFO mlflow.models.evaluation.base: Evaluating the model with the default evaluator.\n\n"
          ]
        },
        {
          "output_type": "stream",
          "name": "stderr",
          "text": [
            "2023/10/22 18:04:54 INFO mlflow.models.evaluation.default_evaluator: The evaluation dataset is inferred as binary dataset, positive label is 1, negative label is 0.\n\n"
          ]
        },
        {
          "output_type": "stream",
          "name": "stderr",
          "text": [
            "2023/10/22 18:04:57 INFO mlflow.models.evaluation.base: Evaluating the model with the default evaluator.\n\n"
          ]
        },
        {
          "output_type": "stream",
          "name": "stderr",
          "text": [
            "2023/10/22 18:04:57 INFO mlflow.models.evaluation.default_evaluator: The evaluation dataset is inferred as binary dataset, positive label is 1, negative label is 0.\n\n"
          ]
        },
        {
          "output_type": "stream",
          "name": "stderr",
          "text": [
            "2023/10/22 18:04:59 INFO mlflow.models.evaluation.base: Evaluating the model with the default evaluator.\n\n"
          ]
        },
        {
          "output_type": "stream",
          "name": "stderr",
          "text": [
            "2023/10/22 18:05:00 INFO mlflow.models.evaluation.default_evaluator: The evaluation dataset is inferred as binary dataset, positive label is 1, negative label is 0.\n\n"
          ]
        },
        {
          "output_type": "stream",
          "name": "stdout",
          "text": [
            "\r100%|██████████| 1/1 [00:16<00:00, 16.55s/trial, best loss: -0.9649890590809628]"
          ]
        },
        {
          "output_type": "stream",
          "name": "stdout",
          "text": [
            "\r100%|██████████| 1/1 [00:16<00:00, 16.55s/trial, best loss: -0.9649890590809628]"
          ]
        },
        {
          "output_type": "stream",
          "name": "stdout",
          "text": [
            "\n"
          ]
        },
        {
          "output_type": "display_data",
          "data": {
            "text/html": [
              "<div>\n",
              "<style scoped>\n",
              "    .dataframe tbody tr th:only-of-type {\n",
              "        vertical-align: middle;\n",
              "    }\n",
              "\n",
              "    .dataframe tbody tr th {\n",
              "        vertical-align: top;\n",
              "    }\n",
              "\n",
              "    .dataframe thead th {\n",
              "        text-align: right;\n",
              "    }\n",
              "</style>\n",
              "<table border=\"1\" class=\"dataframe\">\n",
              "  <thead>\n",
              "    <tr style=\"text-align: right;\">\n",
              "      <th></th>\n",
              "      <th>score</th>\n",
              "      <th>true_negatives</th>\n",
              "      <th>false_positives</th>\n",
              "      <th>false_negatives</th>\n",
              "      <th>true_positives</th>\n",
              "      <th>example_count</th>\n",
              "      <th>accuracy_score</th>\n",
              "      <th>recall_score</th>\n",
              "      <th>precision_score</th>\n",
              "      <th>f1_score</th>\n",
              "      <th>log_loss</th>\n",
              "      <th>roc_auc</th>\n",
              "      <th>precision_recall_auc</th>\n",
              "    </tr>\n",
              "  </thead>\n",
              "  <tbody>\n",
              "    <tr>\n",
              "      <th>validation</th>\n",
              "      <td>0.964989</td>\n",
              "      <td>300</td>\n",
              "      <td>9</td>\n",
              "      <td>7</td>\n",
              "      <td>141</td>\n",
              "      <td>457</td>\n",
              "      <td>0.964989</td>\n",
              "      <td>0.952703</td>\n",
              "      <td>0.940000</td>\n",
              "      <td>0.946309</td>\n",
              "      <td>0.12847</td>\n",
              "      <td>0.978615</td>\n",
              "      <td>0.920363</td>\n",
              "    </tr>\n",
              "    <tr>\n",
              "      <th>test</th>\n",
              "      <td>0.969432</td>\n",
              "      <td>308</td>\n",
              "      <td>9</td>\n",
              "      <td>5</td>\n",
              "      <td>136</td>\n",
              "      <td>458</td>\n",
              "      <td>0.969432</td>\n",
              "      <td>0.964539</td>\n",
              "      <td>0.937931</td>\n",
              "      <td>0.951049</td>\n",
              "      <td>0.12582</td>\n",
              "      <td>0.979685</td>\n",
              "      <td>0.933082</td>\n",
              "    </tr>\n",
              "  </tbody>\n",
              "</table>\n",
              "</div>"
            ],
            "text/plain": [
              "               score  true_negatives  false_positives  false_negatives  \\\n",
              "validation  0.964989             300                9                7   \n",
              "test        0.969432             308                9                5   \n",
              "\n",
              "            true_positives  example_count  accuracy_score  recall_score  \\\n",
              "validation             141            457        0.964989      0.952703   \n",
              "test                   136            458        0.969432      0.964539   \n",
              "\n",
              "            precision_score  f1_score  log_loss   roc_auc  \\\n",
              "validation         0.940000  0.946309   0.12847  0.978615   \n",
              "test               0.937931  0.951049   0.12582  0.979685   \n",
              "\n",
              "            precision_recall_auc  \n",
              "validation              0.920363  \n",
              "test                    0.933082  "
            ]
          },
          "metadata": {}
        },
        {
          "output_type": "execute_result",
          "data": {
            "text/html": [
              "<style>#sk-container-id-2 {color: black;background-color: white;}#sk-container-id-2 pre{padding: 0;}#sk-container-id-2 div.sk-toggleable {background-color: white;}#sk-container-id-2 label.sk-toggleable__label {cursor: pointer;display: block;width: 100%;margin-bottom: 0;padding: 0.3em;box-sizing: border-box;text-align: center;}#sk-container-id-2 label.sk-toggleable__label-arrow:before {content: \"▸\";float: left;margin-right: 0.25em;color: #696969;}#sk-container-id-2 label.sk-toggleable__label-arrow:hover:before {color: black;}#sk-container-id-2 div.sk-estimator:hover label.sk-toggleable__label-arrow:before {color: black;}#sk-container-id-2 div.sk-toggleable__content {max-height: 0;max-width: 0;overflow: hidden;text-align: left;background-color: #f0f8ff;}#sk-container-id-2 div.sk-toggleable__content pre {margin: 0.2em;color: black;border-radius: 0.25em;background-color: #f0f8ff;}#sk-container-id-2 input.sk-toggleable__control:checked~div.sk-toggleable__content {max-height: 200px;max-width: 100%;overflow: auto;}#sk-container-id-2 input.sk-toggleable__control:checked~label.sk-toggleable__label-arrow:before {content: \"▾\";}#sk-container-id-2 div.sk-estimator input.sk-toggleable__control:checked~label.sk-toggleable__label {background-color: #d4ebff;}#sk-container-id-2 div.sk-label input.sk-toggleable__control:checked~label.sk-toggleable__label {background-color: #d4ebff;}#sk-container-id-2 input.sk-hidden--visually {border: 0;clip: rect(1px 1px 1px 1px);clip: rect(1px, 1px, 1px, 1px);height: 1px;margin: -1px;overflow: hidden;padding: 0;position: absolute;width: 1px;}#sk-container-id-2 div.sk-estimator {font-family: monospace;background-color: #f0f8ff;border: 1px dotted black;border-radius: 0.25em;box-sizing: border-box;margin-bottom: 0.5em;}#sk-container-id-2 div.sk-estimator:hover {background-color: #d4ebff;}#sk-container-id-2 div.sk-parallel-item::after {content: \"\";width: 100%;border-bottom: 1px solid gray;flex-grow: 1;}#sk-container-id-2 div.sk-label:hover label.sk-toggleable__label {background-color: #d4ebff;}#sk-container-id-2 div.sk-serial::before {content: \"\";position: absolute;border-left: 1px solid gray;box-sizing: border-box;top: 0;bottom: 0;left: 50%;z-index: 0;}#sk-container-id-2 div.sk-serial {display: flex;flex-direction: column;align-items: center;background-color: white;padding-right: 0.2em;padding-left: 0.2em;position: relative;}#sk-container-id-2 div.sk-item {position: relative;z-index: 1;}#sk-container-id-2 div.sk-parallel {display: flex;align-items: stretch;justify-content: center;background-color: white;position: relative;}#sk-container-id-2 div.sk-item::before, #sk-container-id-2 div.sk-parallel-item::before {content: \"\";position: absolute;border-left: 1px solid gray;box-sizing: border-box;top: 0;bottom: 0;left: 50%;z-index: -1;}#sk-container-id-2 div.sk-parallel-item {display: flex;flex-direction: column;z-index: 1;position: relative;background-color: white;}#sk-container-id-2 div.sk-parallel-item:first-child::after {align-self: flex-end;width: 50%;}#sk-container-id-2 div.sk-parallel-item:last-child::after {align-self: flex-start;width: 50%;}#sk-container-id-2 div.sk-parallel-item:only-child::after {width: 0;}#sk-container-id-2 div.sk-dashed-wrapped {border: 1px dashed gray;margin: 0 0.4em 0.5em 0.4em;box-sizing: border-box;padding-bottom: 0.4em;background-color: white;}#sk-container-id-2 div.sk-label label {font-family: monospace;font-weight: bold;display: inline-block;line-height: 1.2em;}#sk-container-id-2 div.sk-label-container {text-align: center;}#sk-container-id-2 div.sk-container {/* jupyter's `normalize.less` sets `[hidden] { display: none; }` but bootstrap.min.css set `[hidden] { display: none !important; }` so we also need the `!important` here to be able to override the default hidden behavior on the sphinx rendered scikit-learn.org. See: https://github.com/scikit-learn/scikit-learn/issues/21755 */display: inline-block !important;position: relative;}#sk-container-id-2 div.sk-text-repr-fallback {display: none;}</style><div id=\"sk-container-id-2\" class=\"sk-top-container\"><div class=\"sk-text-repr-fallback\"><pre>Pipeline(steps=[(&#x27;column_selector&#x27;,\n",
              "                 ColumnSelector(cols=[&#x27;ts&#x27;, &#x27;da&#x27;, &#x27;ibyt&#x27;, &#x27;te&#x27;, &#x27;ipkt&#x27;, &#x27;sp&#x27;,\n",
              "                                      &#x27;pr&#x27;, &#x27;td&#x27;, &#x27;dp&#x27;, &#x27;sa&#x27;, &#x27;flg&#x27;])),\n",
              "                (&#x27;preprocessor&#x27;,\n",
              "                 ColumnTransformer(remainder=&#x27;passthrough&#x27;, sparse_threshold=0,\n",
              "                                   transformers=[(&#x27;timestamp_te&#x27;,\n",
              "                                                  Pipeline(steps=[(&#x27;impute_te&#x27;,\n",
              "                                                                   DatetimeImputer()),\n",
              "                                                                  (&#x27;transform_te&#x27;,\n",
              "                                                                   TimestampTransformer()),\n",
              "                                                                  (&#x27;onehot_encode_te&#x27;,\n",
              "                                                                   ColumnTransforme...\n",
              "                                                  Pipeline(steps=[(&#x27;imputers&#x27;,\n",
              "                                                                   ColumnTransformer(remainder=&#x27;passthrough&#x27;,\n",
              "                                                                                     transformers=[])),\n",
              "                                                                  (&#x27;one_hot_encoder&#x27;,\n",
              "                                                                   OneHotEncoder())]),\n",
              "                                                  [&#x27;da&#x27;, &#x27;flg&#x27;, &#x27;pr&#x27;, &#x27;sa&#x27;])])),\n",
              "                (&#x27;classifier&#x27;,\n",
              "                 DecisionTreeClassifier(criterion=&#x27;entropy&#x27;, max_depth=9,\n",
              "                                        max_features=0.5343729605510406,\n",
              "                                        min_samples_leaf=0.1465735385387781,\n",
              "                                        min_samples_split=0.18403423383299392,\n",
              "                                        random_state=763330925))])</pre><b>In a Jupyter environment, please rerun this cell to show the HTML representation or trust the notebook. <br />On GitHub, the HTML representation is unable to render, please try loading this page with nbviewer.org.</b></div><div class=\"sk-container\" hidden><div class=\"sk-item sk-dashed-wrapped\"><div class=\"sk-label-container\"><div class=\"sk-label sk-toggleable\"><input class=\"sk-toggleable__control sk-hidden--visually\" id=\"sk-estimator-id-36\" type=\"checkbox\" ><label for=\"sk-estimator-id-36\" class=\"sk-toggleable__label sk-toggleable__label-arrow\">Pipeline</label><div class=\"sk-toggleable__content\"><pre>Pipeline(steps=[(&#x27;column_selector&#x27;,\n",
              "                 ColumnSelector(cols=[&#x27;ts&#x27;, &#x27;da&#x27;, &#x27;ibyt&#x27;, &#x27;te&#x27;, &#x27;ipkt&#x27;, &#x27;sp&#x27;,\n",
              "                                      &#x27;pr&#x27;, &#x27;td&#x27;, &#x27;dp&#x27;, &#x27;sa&#x27;, &#x27;flg&#x27;])),\n",
              "                (&#x27;preprocessor&#x27;,\n",
              "                 ColumnTransformer(remainder=&#x27;passthrough&#x27;, sparse_threshold=0,\n",
              "                                   transformers=[(&#x27;timestamp_te&#x27;,\n",
              "                                                  Pipeline(steps=[(&#x27;impute_te&#x27;,\n",
              "                                                                   DatetimeImputer()),\n",
              "                                                                  (&#x27;transform_te&#x27;,\n",
              "                                                                   TimestampTransformer()),\n",
              "                                                                  (&#x27;onehot_encode_te&#x27;,\n",
              "                                                                   ColumnTransforme...\n",
              "                                                  Pipeline(steps=[(&#x27;imputers&#x27;,\n",
              "                                                                   ColumnTransformer(remainder=&#x27;passthrough&#x27;,\n",
              "                                                                                     transformers=[])),\n",
              "                                                                  (&#x27;one_hot_encoder&#x27;,\n",
              "                                                                   OneHotEncoder())]),\n",
              "                                                  [&#x27;da&#x27;, &#x27;flg&#x27;, &#x27;pr&#x27;, &#x27;sa&#x27;])])),\n",
              "                (&#x27;classifier&#x27;,\n",
              "                 DecisionTreeClassifier(criterion=&#x27;entropy&#x27;, max_depth=9,\n",
              "                                        max_features=0.5343729605510406,\n",
              "                                        min_samples_leaf=0.1465735385387781,\n",
              "                                        min_samples_split=0.18403423383299392,\n",
              "                                        random_state=763330925))])</pre></div></div></div><div class=\"sk-serial\"><div class=\"sk-item\"><div class=\"sk-estimator sk-toggleable\"><input class=\"sk-toggleable__control sk-hidden--visually\" id=\"sk-estimator-id-37\" type=\"checkbox\" ><label for=\"sk-estimator-id-37\" class=\"sk-toggleable__label sk-toggleable__label-arrow\">ColumnSelector</label><div class=\"sk-toggleable__content\"><pre>ColumnSelector(cols=[&#x27;ts&#x27;, &#x27;da&#x27;, &#x27;ibyt&#x27;, &#x27;te&#x27;, &#x27;ipkt&#x27;, &#x27;sp&#x27;, &#x27;pr&#x27;, &#x27;td&#x27;, &#x27;dp&#x27;,\n",
              "                     &#x27;sa&#x27;, &#x27;flg&#x27;])</pre></div></div></div><div class=\"sk-item sk-dashed-wrapped\"><div class=\"sk-label-container\"><div class=\"sk-label sk-toggleable\"><input class=\"sk-toggleable__control sk-hidden--visually\" id=\"sk-estimator-id-38\" type=\"checkbox\" ><label for=\"sk-estimator-id-38\" class=\"sk-toggleable__label sk-toggleable__label-arrow\">preprocessor: ColumnTransformer</label><div class=\"sk-toggleable__content\"><pre>ColumnTransformer(remainder=&#x27;passthrough&#x27;, sparse_threshold=0,\n",
              "                  transformers=[(&#x27;timestamp_te&#x27;,\n",
              "                                 Pipeline(steps=[(&#x27;impute_te&#x27;,\n",
              "                                                  DatetimeImputer()),\n",
              "                                                 (&#x27;transform_te&#x27;,\n",
              "                                                  TimestampTransformer()),\n",
              "                                                 (&#x27;onehot_encode_te&#x27;,\n",
              "                                                  ColumnTransformer(remainder=&#x27;passthrough&#x27;,\n",
              "                                                                    transformers=[(&#x27;ohe&#x27;,\n",
              "                                                                                   OneHotEncoder(sparse=False),\n",
              "                                                                                   [10])])),\n",
              "                                                 (&#x27;standardize_te&#x27;,\n",
              "                                                  StandardScaler())]),\n",
              "                                 [&#x27;te&#x27;]),\n",
              "                                (&#x27;tim...\n",
              "                                                  FunctionTransformer(func=&lt;function &lt;lambda&gt; at 0x7faac35aa680&gt;)),\n",
              "                                                 (&#x27;imputers&#x27;,\n",
              "                                                  ColumnTransformer(transformers=[(&#x27;impute_mean&#x27;,\n",
              "                                                                                   SimpleImputer(),\n",
              "                                                                                   [&#x27;dp&#x27;,\n",
              "                                                                                    &#x27;ibyt&#x27;,\n",
              "                                                                                    &#x27;ipkt&#x27;,\n",
              "                                                                                    &#x27;sp&#x27;,\n",
              "                                                                                    &#x27;td&#x27;])])),\n",
              "                                                 (&#x27;standardizer&#x27;,\n",
              "                                                  StandardScaler())]),\n",
              "                                 [&#x27;ibyt&#x27;, &#x27;ipkt&#x27;, &#x27;sp&#x27;, &#x27;td&#x27;, &#x27;dp&#x27;]),\n",
              "                                (&#x27;onehot&#x27;,\n",
              "                                 Pipeline(steps=[(&#x27;imputers&#x27;,\n",
              "                                                  ColumnTransformer(remainder=&#x27;passthrough&#x27;,\n",
              "                                                                    transformers=[])),\n",
              "                                                 (&#x27;one_hot_encoder&#x27;,\n",
              "                                                  OneHotEncoder())]),\n",
              "                                 [&#x27;da&#x27;, &#x27;flg&#x27;, &#x27;pr&#x27;, &#x27;sa&#x27;])])</pre></div></div></div><div class=\"sk-parallel\"><div class=\"sk-parallel-item\"><div class=\"sk-item\"><div class=\"sk-label-container\"><div class=\"sk-label sk-toggleable\"><input class=\"sk-toggleable__control sk-hidden--visually\" id=\"sk-estimator-id-39\" type=\"checkbox\" ><label for=\"sk-estimator-id-39\" class=\"sk-toggleable__label sk-toggleable__label-arrow\">timestamp_te</label><div class=\"sk-toggleable__content\"><pre>[&#x27;te&#x27;]</pre></div></div></div><div class=\"sk-serial\"><div class=\"sk-item\"><div class=\"sk-serial\"><div class=\"sk-item\"><div class=\"sk-estimator sk-toggleable\"><input class=\"sk-toggleable__control sk-hidden--visually\" id=\"sk-estimator-id-40\" type=\"checkbox\" ><label for=\"sk-estimator-id-40\" class=\"sk-toggleable__label sk-toggleable__label-arrow\">DatetimeImputer</label><div class=\"sk-toggleable__content\"><pre>DatetimeImputer()</pre></div></div></div><div class=\"sk-item\"><div class=\"sk-estimator sk-toggleable\"><input class=\"sk-toggleable__control sk-hidden--visually\" id=\"sk-estimator-id-41\" type=\"checkbox\" ><label for=\"sk-estimator-id-41\" class=\"sk-toggleable__label sk-toggleable__label-arrow\">TimestampTransformer</label><div class=\"sk-toggleable__content\"><pre>TimestampTransformer()</pre></div></div></div><div class=\"sk-item sk-dashed-wrapped\"><div class=\"sk-label-container\"><div class=\"sk-label sk-toggleable\"><input class=\"sk-toggleable__control sk-hidden--visually\" id=\"sk-estimator-id-42\" type=\"checkbox\" ><label for=\"sk-estimator-id-42\" class=\"sk-toggleable__label sk-toggleable__label-arrow\">onehot_encode_te: ColumnTransformer</label><div class=\"sk-toggleable__content\"><pre>ColumnTransformer(remainder=&#x27;passthrough&#x27;,\n",
              "                  transformers=[(&#x27;ohe&#x27;, OneHotEncoder(sparse=False), [10])])</pre></div></div></div><div class=\"sk-parallel\"><div class=\"sk-parallel-item\"><div class=\"sk-item\"><div class=\"sk-label-container\"><div class=\"sk-label sk-toggleable\"><input class=\"sk-toggleable__control sk-hidden--visually\" id=\"sk-estimator-id-43\" type=\"checkbox\" ><label for=\"sk-estimator-id-43\" class=\"sk-toggleable__label sk-toggleable__label-arrow\">ohe</label><div class=\"sk-toggleable__content\"><pre>[10]</pre></div></div></div><div class=\"sk-serial\"><div class=\"sk-item\"><div class=\"sk-estimator sk-toggleable\"><input class=\"sk-toggleable__control sk-hidden--visually\" id=\"sk-estimator-id-44\" type=\"checkbox\" ><label for=\"sk-estimator-id-44\" class=\"sk-toggleable__label sk-toggleable__label-arrow\">OneHotEncoder</label><div class=\"sk-toggleable__content\"><pre>OneHotEncoder(sparse=False)</pre></div></div></div></div></div></div><div class=\"sk-parallel-item\"><div class=\"sk-item\"><div class=\"sk-label-container\"><div class=\"sk-label sk-toggleable\"><input class=\"sk-toggleable__control sk-hidden--visually\" id=\"sk-estimator-id-45\" type=\"checkbox\" ><label for=\"sk-estimator-id-45\" class=\"sk-toggleable__label sk-toggleable__label-arrow\">remainder</label><div class=\"sk-toggleable__content\"><pre></pre></div></div></div><div class=\"sk-serial\"><div class=\"sk-item\"><div class=\"sk-estimator sk-toggleable\"><input class=\"sk-toggleable__control sk-hidden--visually\" id=\"sk-estimator-id-46\" type=\"checkbox\" ><label for=\"sk-estimator-id-46\" class=\"sk-toggleable__label sk-toggleable__label-arrow\">passthrough</label><div class=\"sk-toggleable__content\"><pre>passthrough</pre></div></div></div></div></div></div></div></div><div class=\"sk-item\"><div class=\"sk-estimator sk-toggleable\"><input class=\"sk-toggleable__control sk-hidden--visually\" id=\"sk-estimator-id-47\" type=\"checkbox\" ><label for=\"sk-estimator-id-47\" class=\"sk-toggleable__label sk-toggleable__label-arrow\">StandardScaler</label><div class=\"sk-toggleable__content\"><pre>StandardScaler()</pre></div></div></div></div></div></div></div></div><div class=\"sk-parallel-item\"><div class=\"sk-item\"><div class=\"sk-label-container\"><div class=\"sk-label sk-toggleable\"><input class=\"sk-toggleable__control sk-hidden--visually\" id=\"sk-estimator-id-48\" type=\"checkbox\" ><label for=\"sk-estimator-id-48\" class=\"sk-toggleable__label sk-toggleable__label-arrow\">timestamp_ts</label><div class=\"sk-toggleable__content\"><pre>[&#x27;ts&#x27;]</pre></div></div></div><div class=\"sk-serial\"><div class=\"sk-item\"><div class=\"sk-serial\"><div class=\"sk-item\"><div class=\"sk-estimator sk-toggleable\"><input class=\"sk-toggleable__control sk-hidden--visually\" id=\"sk-estimator-id-49\" type=\"checkbox\" ><label for=\"sk-estimator-id-49\" class=\"sk-toggleable__label sk-toggleable__label-arrow\">DatetimeImputer</label><div class=\"sk-toggleable__content\"><pre>DatetimeImputer()</pre></div></div></div><div class=\"sk-item\"><div class=\"sk-estimator sk-toggleable\"><input class=\"sk-toggleable__control sk-hidden--visually\" id=\"sk-estimator-id-50\" type=\"checkbox\" ><label for=\"sk-estimator-id-50\" class=\"sk-toggleable__label sk-toggleable__label-arrow\">TimestampTransformer</label><div class=\"sk-toggleable__content\"><pre>TimestampTransformer()</pre></div></div></div><div class=\"sk-item sk-dashed-wrapped\"><div class=\"sk-label-container\"><div class=\"sk-label sk-toggleable\"><input class=\"sk-toggleable__control sk-hidden--visually\" id=\"sk-estimator-id-51\" type=\"checkbox\" ><label for=\"sk-estimator-id-51\" class=\"sk-toggleable__label sk-toggleable__label-arrow\">onehot_encode_ts: ColumnTransformer</label><div class=\"sk-toggleable__content\"><pre>ColumnTransformer(remainder=&#x27;passthrough&#x27;,\n",
              "                  transformers=[(&#x27;ohe&#x27;, OneHotEncoder(sparse=False), [10])])</pre></div></div></div><div class=\"sk-parallel\"><div class=\"sk-parallel-item\"><div class=\"sk-item\"><div class=\"sk-label-container\"><div class=\"sk-label sk-toggleable\"><input class=\"sk-toggleable__control sk-hidden--visually\" id=\"sk-estimator-id-52\" type=\"checkbox\" ><label for=\"sk-estimator-id-52\" class=\"sk-toggleable__label sk-toggleable__label-arrow\">ohe</label><div class=\"sk-toggleable__content\"><pre>[10]</pre></div></div></div><div class=\"sk-serial\"><div class=\"sk-item\"><div class=\"sk-estimator sk-toggleable\"><input class=\"sk-toggleable__control sk-hidden--visually\" id=\"sk-estimator-id-53\" type=\"checkbox\" ><label for=\"sk-estimator-id-53\" class=\"sk-toggleable__label sk-toggleable__label-arrow\">OneHotEncoder</label><div class=\"sk-toggleable__content\"><pre>OneHotEncoder(sparse=False)</pre></div></div></div></div></div></div><div class=\"sk-parallel-item\"><div class=\"sk-item\"><div class=\"sk-label-container\"><div class=\"sk-label sk-toggleable\"><input class=\"sk-toggleable__control sk-hidden--visually\" id=\"sk-estimator-id-54\" type=\"checkbox\" ><label for=\"sk-estimator-id-54\" class=\"sk-toggleable__label sk-toggleable__label-arrow\">remainder</label><div class=\"sk-toggleable__content\"><pre></pre></div></div></div><div class=\"sk-serial\"><div class=\"sk-item\"><div class=\"sk-estimator sk-toggleable\"><input class=\"sk-toggleable__control sk-hidden--visually\" id=\"sk-estimator-id-55\" type=\"checkbox\" ><label for=\"sk-estimator-id-55\" class=\"sk-toggleable__label sk-toggleable__label-arrow\">passthrough</label><div class=\"sk-toggleable__content\"><pre>passthrough</pre></div></div></div></div></div></div></div></div><div class=\"sk-item\"><div class=\"sk-estimator sk-toggleable\"><input class=\"sk-toggleable__control sk-hidden--visually\" id=\"sk-estimator-id-56\" type=\"checkbox\" ><label for=\"sk-estimator-id-56\" class=\"sk-toggleable__label sk-toggleable__label-arrow\">StandardScaler</label><div class=\"sk-toggleable__content\"><pre>StandardScaler()</pre></div></div></div></div></div></div></div></div><div class=\"sk-parallel-item\"><div class=\"sk-item\"><div class=\"sk-label-container\"><div class=\"sk-label sk-toggleable\"><input class=\"sk-toggleable__control sk-hidden--visually\" id=\"sk-estimator-id-57\" type=\"checkbox\" ><label for=\"sk-estimator-id-57\" class=\"sk-toggleable__label sk-toggleable__label-arrow\">numerical</label><div class=\"sk-toggleable__content\"><pre>[&#x27;ibyt&#x27;, &#x27;ipkt&#x27;, &#x27;sp&#x27;, &#x27;td&#x27;, &#x27;dp&#x27;]</pre></div></div></div><div class=\"sk-serial\"><div class=\"sk-item\"><div class=\"sk-serial\"><div class=\"sk-item\"><div class=\"sk-estimator sk-toggleable\"><input class=\"sk-toggleable__control sk-hidden--visually\" id=\"sk-estimator-id-58\" type=\"checkbox\" ><label for=\"sk-estimator-id-58\" class=\"sk-toggleable__label sk-toggleable__label-arrow\">FunctionTransformer</label><div class=\"sk-toggleable__content\"><pre>FunctionTransformer(func=&lt;function &lt;lambda&gt; at 0x7faac35aa680&gt;)</pre></div></div></div><div class=\"sk-item sk-dashed-wrapped\"><div class=\"sk-label-container\"><div class=\"sk-label sk-toggleable\"><input class=\"sk-toggleable__control sk-hidden--visually\" id=\"sk-estimator-id-59\" type=\"checkbox\" ><label for=\"sk-estimator-id-59\" class=\"sk-toggleable__label sk-toggleable__label-arrow\">imputers: ColumnTransformer</label><div class=\"sk-toggleable__content\"><pre>ColumnTransformer(transformers=[(&#x27;impute_mean&#x27;, SimpleImputer(),\n",
              "                                 [&#x27;dp&#x27;, &#x27;ibyt&#x27;, &#x27;ipkt&#x27;, &#x27;sp&#x27;, &#x27;td&#x27;])])</pre></div></div></div><div class=\"sk-parallel\"><div class=\"sk-parallel-item\"><div class=\"sk-item\"><div class=\"sk-label-container\"><div class=\"sk-label sk-toggleable\"><input class=\"sk-toggleable__control sk-hidden--visually\" id=\"sk-estimator-id-60\" type=\"checkbox\" ><label for=\"sk-estimator-id-60\" class=\"sk-toggleable__label sk-toggleable__label-arrow\">impute_mean</label><div class=\"sk-toggleable__content\"><pre>[&#x27;dp&#x27;, &#x27;ibyt&#x27;, &#x27;ipkt&#x27;, &#x27;sp&#x27;, &#x27;td&#x27;]</pre></div></div></div><div class=\"sk-serial\"><div class=\"sk-item\"><div class=\"sk-estimator sk-toggleable\"><input class=\"sk-toggleable__control sk-hidden--visually\" id=\"sk-estimator-id-61\" type=\"checkbox\" ><label for=\"sk-estimator-id-61\" class=\"sk-toggleable__label sk-toggleable__label-arrow\">SimpleImputer</label><div class=\"sk-toggleable__content\"><pre>SimpleImputer()</pre></div></div></div></div></div></div></div></div><div class=\"sk-item\"><div class=\"sk-estimator sk-toggleable\"><input class=\"sk-toggleable__control sk-hidden--visually\" id=\"sk-estimator-id-62\" type=\"checkbox\" ><label for=\"sk-estimator-id-62\" class=\"sk-toggleable__label sk-toggleable__label-arrow\">StandardScaler</label><div class=\"sk-toggleable__content\"><pre>StandardScaler()</pre></div></div></div></div></div></div></div></div><div class=\"sk-parallel-item\"><div class=\"sk-item\"><div class=\"sk-label-container\"><div class=\"sk-label sk-toggleable\"><input class=\"sk-toggleable__control sk-hidden--visually\" id=\"sk-estimator-id-63\" type=\"checkbox\" ><label for=\"sk-estimator-id-63\" class=\"sk-toggleable__label sk-toggleable__label-arrow\">onehot</label><div class=\"sk-toggleable__content\"><pre>[&#x27;da&#x27;, &#x27;flg&#x27;, &#x27;pr&#x27;, &#x27;sa&#x27;]</pre></div></div></div><div class=\"sk-serial\"><div class=\"sk-item\"><div class=\"sk-serial\"><div class=\"sk-item sk-dashed-wrapped\"><div class=\"sk-label-container\"><div class=\"sk-label sk-toggleable\"><input class=\"sk-toggleable__control sk-hidden--visually\" id=\"sk-estimator-id-64\" type=\"checkbox\" ><label for=\"sk-estimator-id-64\" class=\"sk-toggleable__label sk-toggleable__label-arrow\">imputers: ColumnTransformer</label><div class=\"sk-toggleable__content\"><pre>ColumnTransformer(remainder=&#x27;passthrough&#x27;, transformers=[])</pre></div></div></div><div class=\"sk-parallel\"><div class=\"sk-parallel-item\"><div class=\"sk-item\"><div class=\"sk-label-container\"><div class=\"sk-label sk-toggleable\"><input class=\"sk-toggleable__control sk-hidden--visually\" id=\"sk-estimator-id-65\" type=\"checkbox\" ><label for=\"sk-estimator-id-65\" class=\"sk-toggleable__label sk-toggleable__label-arrow\">remainder</label><div class=\"sk-toggleable__content\"><pre></pre></div></div></div><div class=\"sk-serial\"><div class=\"sk-item\"><div class=\"sk-estimator sk-toggleable\"><input class=\"sk-toggleable__control sk-hidden--visually\" id=\"sk-estimator-id-66\" type=\"checkbox\" ><label for=\"sk-estimator-id-66\" class=\"sk-toggleable__label sk-toggleable__label-arrow\">passthrough</label><div class=\"sk-toggleable__content\"><pre>passthrough</pre></div></div></div></div></div></div></div></div><div class=\"sk-item\"><div class=\"sk-estimator sk-toggleable\"><input class=\"sk-toggleable__control sk-hidden--visually\" id=\"sk-estimator-id-67\" type=\"checkbox\" ><label for=\"sk-estimator-id-67\" class=\"sk-toggleable__label sk-toggleable__label-arrow\">OneHotEncoder</label><div class=\"sk-toggleable__content\"><pre>OneHotEncoder()</pre></div></div></div></div></div></div></div></div><div class=\"sk-parallel-item\"><div class=\"sk-item\"><div class=\"sk-label-container\"><div class=\"sk-label sk-toggleable\"><input class=\"sk-toggleable__control sk-hidden--visually\" id=\"sk-estimator-id-68\" type=\"checkbox\" ><label for=\"sk-estimator-id-68\" class=\"sk-toggleable__label sk-toggleable__label-arrow\">remainder</label><div class=\"sk-toggleable__content\"><pre>[]</pre></div></div></div><div class=\"sk-serial\"><div class=\"sk-item\"><div class=\"sk-estimator sk-toggleable\"><input class=\"sk-toggleable__control sk-hidden--visually\" id=\"sk-estimator-id-69\" type=\"checkbox\" ><label for=\"sk-estimator-id-69\" class=\"sk-toggleable__label sk-toggleable__label-arrow\">passthrough</label><div class=\"sk-toggleable__content\"><pre>passthrough</pre></div></div></div></div></div></div></div></div><div class=\"sk-item\"><div class=\"sk-estimator sk-toggleable\"><input class=\"sk-toggleable__control sk-hidden--visually\" id=\"sk-estimator-id-70\" type=\"checkbox\" ><label for=\"sk-estimator-id-70\" class=\"sk-toggleable__label sk-toggleable__label-arrow\">DecisionTreeClassifier</label><div class=\"sk-toggleable__content\"><pre>DecisionTreeClassifier(criterion=&#x27;entropy&#x27;, max_depth=9,\n",
              "                       max_features=0.5343729605510406,\n",
              "                       min_samples_leaf=0.1465735385387781,\n",
              "                       min_samples_split=0.18403423383299392,\n",
              "                       random_state=763330925)</pre></div></div></div></div></div></div></div>"
            ],
            "text/plain": [
              "Pipeline(steps=[('column_selector',\n",
              "                 ColumnSelector(cols=['ts', 'da', 'ibyt', 'te', 'ipkt', 'sp',\n",
              "                                      'pr', 'td', 'dp', 'sa', 'flg'])),\n",
              "                ('preprocessor',\n",
              "                 ColumnTransformer(remainder='passthrough', sparse_threshold=0,\n",
              "                                   transformers=[('timestamp_te',\n",
              "                                                  Pipeline(steps=[('impute_te',\n",
              "                                                                   DatetimeImputer()),\n",
              "                                                                  ('transform_te',\n",
              "                                                                   TimestampTransformer()),\n",
              "                                                                  ('onehot_encode_te',\n",
              "                                                                   ColumnTransforme...\n",
              "                                                  Pipeline(steps=[('imputers',\n",
              "                                                                   ColumnTransformer(remainder='passthrough',\n",
              "                                                                                     transformers=[])),\n",
              "                                                                  ('one_hot_encoder',\n",
              "                                                                   OneHotEncoder())]),\n",
              "                                                  ['da', 'flg', 'pr', 'sa'])])),\n",
              "                ('classifier',\n",
              "                 DecisionTreeClassifier(criterion='entropy', max_depth=9,\n",
              "                                        max_features=0.5343729605510406,\n",
              "                                        min_samples_leaf=0.1465735385387781,\n",
              "                                        min_samples_split=0.18403423383299392,\n",
              "                                        random_state=763330925))])"
            ]
          },
          "execution_count": 13,
          "metadata": {}
        },
        {
          "output_type": "display_data",
          "data": {
            "text/plain": [
              "<Figure size 1050x700 with 0 Axes>"
            ]
          },
          "metadata": {}
        }
      ],
      "source": [
        "trials = Trials()\n",
        "fmin(objective,\n",
        "     space=space,\n",
        "     algo=tpe.suggest,\n",
        "     max_evals=1,  # Increase this when widening the hyperparameter search space.\n",
        "     trials=trials)\n",
        "\n",
        "best_result = trials.best_trial[\"result\"]\n",
        "model = best_result[\"model\"]\n",
        "mlflow_run = best_result[\"run\"]\n",
        "\n",
        "display(\n",
        "  pd.DataFrame(\n",
        "    [best_result[\"val_metrics\"], best_result[\"test_metrics\"]],\n",
        "    index=[\"validation\", \"test\"]))\n",
        "\n",
        "set_config(display=\"diagram\")\n",
        "model"
      ]
    },
    {
      "cell_type": "code",
      "execution_count": null,
      "metadata": {
        "application/vnd.databricks.v1+cell": {
          "cellMetadata": {},
          "inputWidgets": {},
          "nuid": "6ae0bd0d-af00-4b41-8437-2e022bd5da5b",
          "showTitle": false,
          "title": ""
        },
        "execution": {
          "iopub.execute_input": "2023-10-22T18:05:02.793128Z",
          "iopub.status.busy": "2023-10-22T18:05:02.792902Z",
          "iopub.status.idle": "2023-10-22T18:05:04.504461Z",
          "shell.execute_reply": "2023-10-22T18:05:04.503557Z"
        },
        "id": "3V0RR7To6AXG"
      },
      "outputs": [],
      "source": [
        "import mlflow\n",
        "import os\n",
        "import shutil\n",
        "import tempfile\n",
        "import yaml\n",
        "\n",
        "run_id = mlflow_run.info.run_id\n",
        "\n",
        "# Set up a local dir for downloading the artifacts.\n",
        "tmp_dir = str(tempfile.TemporaryDirectory())\n",
        "os.makedirs(tmp_dir)\n",
        "\n",
        "client = mlflow.tracking.MlflowClient()\n",
        "\n",
        "# Fix conda.yaml\n",
        "conda_file_path = mlflow.artifacts.download_artifacts(artifact_uri=f\"runs:/{run_id}/model/conda.yaml\", dst_path=tmp_dir)\n",
        "with open(conda_file_path) as f:\n",
        "  conda_libs = yaml.load(f, Loader=yaml.FullLoader)\n",
        "pandas_lib_exists = any([lib.startswith(\"pandas==\") for lib in conda_libs[\"dependencies\"][-1][\"pip\"]])\n",
        "if not pandas_lib_exists:\n",
        "  print(\"Adding pandas dependency to conda.yaml\")\n",
        "  conda_libs[\"dependencies\"][-1][\"pip\"].append(f\"pandas=={pd.__version__}\")\n",
        "\n",
        "  with open(f\"{tmp_dir}/conda.yaml\", \"w\") as f:\n",
        "    f.write(yaml.dump(conda_libs))\n",
        "  client.log_artifact(run_id=run_id, local_path=conda_file_path, artifact_path=\"model\")\n",
        "\n",
        "# Fix requirements.txt\n",
        "venv_file_path = mlflow.artifacts.download_artifacts(artifact_uri=f\"runs:/{run_id}/model/requirements.txt\", dst_path=tmp_dir)\n",
        "with open(venv_file_path) as f:\n",
        "  venv_libs = f.readlines()\n",
        "venv_libs = [lib.strip() for lib in venv_libs]\n",
        "pandas_lib_exists = any([lib.startswith(\"pandas==\") for lib in venv_libs])\n",
        "if not pandas_lib_exists:\n",
        "  print(\"Adding pandas dependency to requirements.txt\")\n",
        "  venv_libs.append(f\"pandas=={pd.__version__}\")\n",
        "\n",
        "  with open(f\"{tmp_dir}/requirements.txt\", \"w\") as f:\n",
        "    f.write(\"\\n\".join(venv_libs))\n",
        "  client.log_artifact(run_id=run_id, local_path=venv_file_path, artifact_path=\"model\")\n",
        "\n",
        "shutil.rmtree(tmp_dir)"
      ]
    },
    {
      "cell_type": "code",
      "execution_count": null,
      "metadata": {
        "application/vnd.databricks.v1+cell": {
          "cellMetadata": {},
          "inputWidgets": {},
          "nuid": "1167e12b-e948-45e7-a0cf-575d74a60169",
          "showTitle": false,
          "title": ""
        },
        "execution": {
          "iopub.execute_input": "2023-10-22T18:05:04.508713Z",
          "iopub.status.busy": "2023-10-22T18:05:04.508400Z",
          "iopub.status.idle": "2023-10-22T18:05:04.520836Z",
          "shell.execute_reply": "2023-10-22T18:05:04.519480Z"
        },
        "id": "XNbFCj4m6AXH"
      },
      "outputs": [],
      "source": [
        "# Set this flag to True and re-run the notebook to see the SHAP plots\n",
        "shap_enabled = False"
      ]
    },
    {
      "cell_type": "code",
      "execution_count": null,
      "metadata": {
        "application/vnd.databricks.v1+cell": {
          "cellMetadata": {},
          "inputWidgets": {},
          "nuid": "4ff81109-6cb5-41b3-bea0-3490e06ab636",
          "showTitle": false,
          "title": ""
        },
        "execution": {
          "iopub.execute_input": "2023-10-22T18:05:04.524509Z",
          "iopub.status.busy": "2023-10-22T18:05:04.524273Z",
          "iopub.status.idle": "2023-10-22T18:05:04.531758Z",
          "shell.execute_reply": "2023-10-22T18:05:04.530934Z"
        },
        "id": "t5PZzolg6AXI"
      },
      "outputs": [],
      "source": [
        "if shap_enabled:\n",
        "    mlflow.autolog(disable=True)\n",
        "    mlflow.sklearn.autolog(disable=True)\n",
        "    from shap import KernelExplainer, summary_plot\n",
        "    # Sample background data for SHAP Explainer. Increase the sample size to reduce variance.\n",
        "    train_sample = X_train.sample(n=min(100, X_train.shape[0]), random_state=763330925)\n",
        "\n",
        "    # Sample some rows from the validation set to explain. Increase the sample size for more thorough results.\n",
        "    example = X_val.sample(n=min(100, X_val.shape[0]), random_state=763330925)\n",
        "\n",
        "    # Use Kernel SHAP to explain feature importance on the sampled rows from the validation set.\n",
        "    predict = lambda x: model.predict(pd.DataFrame(x, columns=X_train.columns))\n",
        "    explainer = KernelExplainer(predict, train_sample, link=\"identity\")\n",
        "    shap_values = explainer.shap_values(example, l1_reg=False, nsamples=500)\n",
        "    summary_plot(shap_values, example, class_names=model.classes_)"
      ]
    },
    {
      "cell_type": "code",
      "execution_count": null,
      "metadata": {
        "application/vnd.databricks.v1+cell": {
          "cellMetadata": {},
          "inputWidgets": {},
          "nuid": "85f73dc9-ebfc-47ac-b9d5-647cb41a704b",
          "showTitle": false,
          "title": ""
        },
        "execution": {
          "iopub.execute_input": "2023-10-22T18:05:04.535558Z",
          "iopub.status.busy": "2023-10-22T18:05:04.535345Z",
          "iopub.status.idle": "2023-10-22T18:05:04.539717Z",
          "shell.execute_reply": "2023-10-22T18:05:04.538970Z"
        },
        "id": "t6JKtl3W6AXI",
        "outputId": "fbf73fd5-2773-4d27-fcec-6b2cf551b059"
      },
      "outputs": [
        {
          "output_type": "stream",
          "name": "stdout",
          "text": [
            "runs:/46f02cc20e8d418889a2d3bdeae0b616/model\n"
          ]
        }
      ],
      "source": [
        "# model_uri for the generated model\n",
        "print(f\"runs:/{ mlflow_run.info.run_id }/model\")"
      ]
    },
    {
      "cell_type": "markdown",
      "metadata": {
        "application/vnd.databricks.v1+cell": {
          "cellMetadata": {},
          "inputWidgets": {},
          "nuid": "8505ad8c-a1aa-4805-9cdd-29144ac8ba00",
          "showTitle": false,
          "title": ""
        },
        "id": "upbbLaCo6AXJ"
      },
      "source": [
        "## Matriz de Confusão, Curva ROC e Precisão-Recall para validação\n",
        "\n"
      ]
    },
    {
      "cell_type": "code",
      "execution_count": null,
      "metadata": {
        "application/vnd.databricks.v1+cell": {
          "cellMetadata": {},
          "inputWidgets": {},
          "nuid": "008501f2-21b4-4c82-b615-f4371fb09bda",
          "showTitle": false,
          "title": ""
        },
        "execution": {
          "iopub.execute_input": "2023-10-22T18:05:04.552772Z",
          "iopub.status.busy": "2023-10-22T18:05:04.552558Z",
          "iopub.status.idle": "2023-10-22T18:05:07.245131Z",
          "shell.execute_reply": "2023-10-22T18:05:07.244164Z"
        },
        "id": "nTuqFlCD6AXK"
      },
      "outputs": [],
      "source": [
        "import uuid\n",
        "from IPython.display import Image\n",
        "\n",
        "# Create temp directory to download MLflow model artifact\n",
        "eval_temp_dir = os.path.join(os.environ[\"SPARK_LOCAL_DIRS\"], \"tmp\", str(uuid.uuid4())[:8])\n",
        "os.makedirs(eval_temp_dir, exist_ok=True)\n",
        "\n",
        "# Download the artifact\n",
        "eval_path = mlflow.artifacts.download_artifacts(run_id=mlflow_run.info.run_id, dst_path=eval_temp_dir)"
      ]
    },
    {
      "cell_type": "markdown",
      "metadata": {
        "application/vnd.databricks.v1+cell": {
          "cellMetadata": {},
          "inputWidgets": {},
          "nuid": "2654a0f0-fc09-4f97-b8b3-a91924fcd956",
          "showTitle": false,
          "title": ""
        },
        "id": "67i9_dqJ6AXL"
      },
      "source": [
        "### Matriz de Confusão"
      ]
    },
    {
      "cell_type": "code",
      "execution_count": null,
      "metadata": {
        "application/vnd.databricks.v1+cell": {
          "cellMetadata": {},
          "inputWidgets": {},
          "nuid": "33472cea-87f9-49c0-819e-38e0a257368f",
          "showTitle": false,
          "title": ""
        },
        "execution": {
          "iopub.execute_input": "2023-10-22T18:05:07.251673Z",
          "iopub.status.busy": "2023-10-22T18:05:07.250274Z",
          "iopub.status.idle": "2023-10-22T18:05:07.263378Z",
          "shell.execute_reply": "2023-10-22T18:05:07.262528Z"
        },
        "large_display_output": true,
        "id": "To9SOACo6AXL",
        "outputId": "315f7f13-2d92-4ade-e3d5-3a333d0b9d35"
      },
      "outputs": [
        {
          "output_type": "display_data",
          "data": {
            "image/png": "[encoded data removed]",
            "text/plain": [
              "<IPython.core.display.Image object>"
            ]
          },
          "metadata": {}
        }
      ],
      "source": [
        "eval_confusion_matrix_path = os.path.join(eval_path, \"val_confusion_matrix.png\")\n",
        "display(Image(filename=eval_confusion_matrix_path))"
      ]
    },
    {
      "cell_type": "markdown",
      "metadata": {
        "application/vnd.databricks.v1+cell": {
          "cellMetadata": {},
          "inputWidgets": {},
          "nuid": "4fc89eee-359d-44af-995a-de45de7a65e8",
          "showTitle": false,
          "title": ""
        },
        "id": "-og-yYuD6AXM"
      },
      "source": [
        "### Curva ROC"
      ]
    },
    {
      "cell_type": "code",
      "execution_count": null,
      "metadata": {
        "application/vnd.databricks.v1+cell": {
          "cellMetadata": {},
          "inputWidgets": {},
          "nuid": "457bb697-c6ed-4956-90fe-fc9dfaa2a94f",
          "showTitle": false,
          "title": ""
        },
        "execution": {
          "iopub.execute_input": "2023-10-22T18:05:07.269507Z",
          "iopub.status.busy": "2023-10-22T18:05:07.268183Z",
          "iopub.status.idle": "2023-10-22T18:05:07.280159Z",
          "shell.execute_reply": "2023-10-22T18:05:07.279536Z"
        },
        "large_display_output": true,
        "id": "O9b0103T6AXM",
        "outputId": "d59eace2-87f2-43ff-c1ad-642b8fbfce98"
      },
      "outputs": [
        {
          "output_type": "display_data",
          "data": {
            "image/png": "[encoded data removed]",
            "text/plain": [
              "<IPython.core.display.Image object>"
            ]
          },
          "metadata": {}
        }
      ],
      "source": [
        "eval_roc_curve_path = os.path.join(eval_path, \"val_roc_curve_plot.png\")\n",
        "display(Image(filename=eval_roc_curve_path))"
      ]
    },
    {
      "cell_type": "markdown",
      "metadata": {
        "application/vnd.databricks.v1+cell": {
          "cellMetadata": {},
          "inputWidgets": {},
          "nuid": "b75561f2-541f-4b5b-97ac-2b6bbb7580a1",
          "showTitle": false,
          "title": ""
        },
        "id": "6HgWQePx6AXW"
      },
      "source": [
        "### Curva Precisão-Recall"
      ]
    },
    {
      "cell_type": "code",
      "execution_count": null,
      "metadata": {
        "application/vnd.databricks.v1+cell": {
          "cellMetadata": {},
          "inputWidgets": {},
          "nuid": "e8aa43b5-8190-4333-bfc7-a8190f27aee1",
          "showTitle": false,
          "title": ""
        },
        "execution": {
          "iopub.execute_input": "2023-10-22T18:05:07.285535Z",
          "iopub.status.busy": "2023-10-22T18:05:07.284214Z",
          "iopub.status.idle": "2023-10-22T18:05:07.295941Z",
          "shell.execute_reply": "2023-10-22T18:05:07.295154Z"
        },
        "large_display_output": true,
        "id": "fFLerLM-6AXX",
        "outputId": "95d5645b-31e5-47f3-8aef-b0e171b5203f"
      },
      "outputs": [
        {
          "output_type": "display_data",
          "data": {
            "image/png": "[encoded data removed]",
            "text/plain": [
              "<IPython.core.display.Image object>"
            ]
          },
          "metadata": {}
        }
      ],
      "source": [
        "eval_pr_curve_path = os.path.join(eval_path, \"val_precision_recall_curve_plot.png\")\n",
        "display(Image(filename=eval_pr_curve_path))"
      ]
    }
  ],
  "metadata": {
    "application/vnd.databricks.v1+notebook": {
      "dashboards": [],
      "language": "python",
      "notebookMetadata": {
        "pythonIndentUnit": 4
      },
      "notebookName": "23-10-22-17:51-DecisionTreeClassifier-d434771fd42c2fcecd1293998a48ce62",
      "widgets": {}
    },
    "language_info": {
      "name": "python"
    },
    "name": "DecisionTreeClassifier-d434771fd42c2fcecd1293998a48ce62",
    "colab": {
      "provenance": []
    },
    "kernelspec": {
      "name": "python3",
      "display_name": "Python 3"
    }
  },
  "nbformat": 4,
  "nbformat_minor": 0
}