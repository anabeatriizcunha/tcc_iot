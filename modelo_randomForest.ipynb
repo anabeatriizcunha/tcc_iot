{
  "cells": [
    {
      "cell_type": "markdown",
      "metadata": {
        "application/vnd.databricks.v1+cell": {
          "cellMetadata": {},
          "inputWidgets": {},
          "nuid": "3a85f0e6-1ef6-4970-8628-57c85795da9e",
          "showTitle": false,
          "title": ""
        },
        "id": "FpQS0M1JMXJU"
      },
      "source": [
        "# Random Forest Classifier training\n"
      ]
    },
    {
      "cell_type": "code",
      "execution_count": null,
      "metadata": {
        "application/vnd.databricks.v1+cell": {
          "cellMetadata": {},
          "inputWidgets": {},
          "nuid": "8c68a086-7bdb-4519-8ec8-ca3b825ddd1d",
          "showTitle": false,
          "title": ""
        },
        "execution": {
          "iopub.execute_input": "2023-10-22T18:03:37.062838Z",
          "iopub.status.busy": "2023-10-22T18:03:37.062485Z",
          "iopub.status.idle": "2023-10-22T18:03:37.067850Z",
          "shell.execute_reply": "2023-10-22T18:03:37.067198Z"
        },
        "id": "rODx2lgLMXJY"
      },
      "outputs": [],
      "source": [
        "import mlflow\n",
        "import databricks.automl_runtime\n",
        "\n",
        "target_col = \"Label\""
      ]
    },
    {
      "cell_type": "markdown",
      "metadata": {
        "application/vnd.databricks.v1+cell": {
          "cellMetadata": {},
          "inputWidgets": {},
          "nuid": "ce3057cd-616e-4063-846d-e346d2fad688",
          "showTitle": false,
          "title": ""
        },
        "id": "ivD-Qb4GMXJa"
      },
      "source": [
        "## Carregamento dos dados"
      ]
    },
    {
      "cell_type": "code",
      "execution_count": null,
      "metadata": {
        "application/vnd.databricks.v1+cell": {
          "cellMetadata": {},
          "inputWidgets": {},
          "nuid": "84d46e21-42b9-40e8-bcf9-af795947676a",
          "showTitle": false,
          "title": ""
        },
        "execution": {
          "iopub.execute_input": "2023-10-22T18:03:37.070569Z",
          "iopub.status.busy": "2023-10-22T18:03:37.070423Z",
          "iopub.status.idle": "2023-10-22T18:03:38.207218Z",
          "shell.execute_reply": "2023-10-22T18:03:38.206333Z"
        },
        "id": "zHImcQDzMXJa",
        "outputId": "ec8b56ab-3977-4062-e01e-eee7d4185b2b"
      },
      "outputs": [
        {
          "output_type": "execute_result",
          "data": {
            "text/html": [
              "<div>\n",
              "<style scoped>\n",
              "    .dataframe tbody tr th:only-of-type {\n",
              "        vertical-align: middle;\n",
              "    }\n",
              "\n",
              "    .dataframe tbody tr th {\n",
              "        vertical-align: top;\n",
              "    }\n",
              "\n",
              "    .dataframe thead th {\n",
              "        text-align: right;\n",
              "    }\n",
              "</style>\n",
              "<table border=\"1\" class=\"dataframe\">\n",
              "  <thead>\n",
              "    <tr style=\"text-align: right;\">\n",
              "      <th></th>\n",
              "      <th>ts</th>\n",
              "      <th>te</th>\n",
              "      <th>td</th>\n",
              "      <th>sa</th>\n",
              "      <th>da</th>\n",
              "      <th>sp</th>\n",
              "      <th>dp</th>\n",
              "      <th>pr</th>\n",
              "      <th>flg</th>\n",
              "      <th>fwd</th>\n",
              "      <th>...</th>\n",
              "      <th>mpls10</th>\n",
              "      <th>cl</th>\n",
              "      <th>sl</th>\n",
              "      <th>al</th>\n",
              "      <th>ra</th>\n",
              "      <th>eng</th>\n",
              "      <th>exid</th>\n",
              "      <th>tr</th>\n",
              "      <th>Label</th>\n",
              "      <th>_automl_split_col_0000</th>\n",
              "    </tr>\n",
              "  </thead>\n",
              "  <tbody>\n",
              "    <tr>\n",
              "      <th>0</th>\n",
              "      <td>07/11/2018 09:30</td>\n",
              "      <td>07/11/2018 09:30</td>\n",
              "      <td>48</td>\n",
              "      <td>192.168.1.106</td>\n",
              "      <td>192.168.1.109</td>\n",
              "      <td>6000</td>\n",
              "      <td>37438.0</td>\n",
              "      <td>TCP</td>\n",
              "      <td>.A.R..</td>\n",
              "      <td>0.0</td>\n",
              "      <td>...</td>\n",
              "      <td>0-0-0</td>\n",
              "      <td>0.0</td>\n",
              "      <td>0.0</td>\n",
              "      <td>0.0</td>\n",
              "      <td>0.0.0.0</td>\n",
              "      <td>0/0</td>\n",
              "      <td>1.0</td>\n",
              "      <td>1969-12-31 21:00:00</td>\n",
              "      <td>0</td>\n",
              "      <td>train</td>\n",
              "    </tr>\n",
              "    <tr>\n",
              "      <th>1</th>\n",
              "      <td>07/11/2018 09:29</td>\n",
              "      <td>07/11/2018 09:29</td>\n",
              "      <td>35</td>\n",
              "      <td>192.168.1.109</td>\n",
              "      <td>192.168.1.120</td>\n",
              "      <td>49748</td>\n",
              "      <td>80.0</td>\n",
              "      <td>TCP</td>\n",
              "      <td>.AP.SF</td>\n",
              "      <td>0.0</td>\n",
              "      <td>...</td>\n",
              "      <td>0-0-0</td>\n",
              "      <td>0.0</td>\n",
              "      <td>0.0</td>\n",
              "      <td>0.0</td>\n",
              "      <td>0.0.0.0</td>\n",
              "      <td>0/0</td>\n",
              "      <td>1.0</td>\n",
              "      <td>1969-12-31 21:00:00</td>\n",
              "      <td>0</td>\n",
              "      <td>train</td>\n",
              "    </tr>\n",
              "    <tr>\n",
              "      <th>2</th>\n",
              "      <td>07/11/2018 09:31</td>\n",
              "      <td>07/11/2018 09:33</td>\n",
              "      <td>83366</td>\n",
              "      <td>192.168.1.102</td>\n",
              "      <td>192.168.1.109</td>\n",
              "      <td>36322</td>\n",
              "      <td>23.0</td>\n",
              "      <td>TCP</td>\n",
              "      <td>.APRS.</td>\n",
              "      <td>0.0</td>\n",
              "      <td>...</td>\n",
              "      <td>0-0-0</td>\n",
              "      <td>0.0</td>\n",
              "      <td>0.0</td>\n",
              "      <td>0.0</td>\n",
              "      <td>0.0.0.0</td>\n",
              "      <td>0/0</td>\n",
              "      <td>1.0</td>\n",
              "      <td>1969-12-31 21:00:00</td>\n",
              "      <td>1</td>\n",
              "      <td>train</td>\n",
              "    </tr>\n",
              "    <tr>\n",
              "      <th>3</th>\n",
              "      <td>07/11/2018 09:31</td>\n",
              "      <td>07/11/2018 09:33</td>\n",
              "      <td>83366</td>\n",
              "      <td>192.168.1.109</td>\n",
              "      <td>192.168.1.102</td>\n",
              "      <td>23</td>\n",
              "      <td>36322.0</td>\n",
              "      <td>TCP</td>\n",
              "      <td>.AP...</td>\n",
              "      <td>0.0</td>\n",
              "      <td>...</td>\n",
              "      <td>0-0-0</td>\n",
              "      <td>0.0</td>\n",
              "      <td>0.0</td>\n",
              "      <td>0.0</td>\n",
              "      <td>0.0.0.0</td>\n",
              "      <td>0/0</td>\n",
              "      <td>1.0</td>\n",
              "      <td>1969-12-31 21:00:00</td>\n",
              "      <td>1</td>\n",
              "      <td>train</td>\n",
              "    </tr>\n",
              "    <tr>\n",
              "      <th>4</th>\n",
              "      <td>07/11/2018 09:33</td>\n",
              "      <td>07/11/2018 09:33</td>\n",
              "      <td>2853</td>\n",
              "      <td>192.168.1.109</td>\n",
              "      <td>192.168.1.106</td>\n",
              "      <td>80</td>\n",
              "      <td>46180.0</td>\n",
              "      <td>TCP</td>\n",
              "      <td>.AP.SF</td>\n",
              "      <td>0.0</td>\n",
              "      <td>...</td>\n",
              "      <td>0-0-0</td>\n",
              "      <td>0.0</td>\n",
              "      <td>0.0</td>\n",
              "      <td>0.0</td>\n",
              "      <td>0.0.0.0</td>\n",
              "      <td>0/0</td>\n",
              "      <td>1.0</td>\n",
              "      <td>1969-12-31 21:00:00</td>\n",
              "      <td>0</td>\n",
              "      <td>train</td>\n",
              "    </tr>\n",
              "  </tbody>\n",
              "</table>\n",
              "<p>5 rows × 50 columns</p>\n",
              "</div>"
            ],
            "text/plain": [
              "                 ts                te     td             sa             da  \\\n",
              "0  07/11/2018 09:30  07/11/2018 09:30     48  192.168.1.106  192.168.1.109   \n",
              "1  07/11/2018 09:29  07/11/2018 09:29     35  192.168.1.109  192.168.1.120   \n",
              "2  07/11/2018 09:31  07/11/2018 09:33  83366  192.168.1.102  192.168.1.109   \n",
              "3  07/11/2018 09:31  07/11/2018 09:33  83366  192.168.1.109  192.168.1.102   \n",
              "4  07/11/2018 09:33  07/11/2018 09:33   2853  192.168.1.109  192.168.1.106   \n",
              "\n",
              "      sp       dp   pr     flg  fwd  ...  mpls10   cl   sl   al       ra  eng  \\\n",
              "0   6000  37438.0  TCP  .A.R..  0.0  ...   0-0-0  0.0  0.0  0.0  0.0.0.0  0/0   \n",
              "1  49748     80.0  TCP  .AP.SF  0.0  ...   0-0-0  0.0  0.0  0.0  0.0.0.0  0/0   \n",
              "2  36322     23.0  TCP  .APRS.  0.0  ...   0-0-0  0.0  0.0  0.0  0.0.0.0  0/0   \n",
              "3     23  36322.0  TCP  .AP...  0.0  ...   0-0-0  0.0  0.0  0.0  0.0.0.0  0/0   \n",
              "4     80  46180.0  TCP  .AP.SF  0.0  ...   0-0-0  0.0  0.0  0.0  0.0.0.0  0/0   \n",
              "\n",
              "   exid                  tr  Label  _automl_split_col_0000  \n",
              "0   1.0 1969-12-31 21:00:00      0                   train  \n",
              "1   1.0 1969-12-31 21:00:00      0                   train  \n",
              "2   1.0 1969-12-31 21:00:00      1                   train  \n",
              "3   1.0 1969-12-31 21:00:00      1                   train  \n",
              "4   1.0 1969-12-31 21:00:00      0                   train  \n",
              "\n",
              "[5 rows x 50 columns]"
            ]
          },
          "execution_count": 3,
          "metadata": {}
        }
      ],
      "source": [
        "import mlflow\n",
        "import os\n",
        "import uuid\n",
        "import shutil\n",
        "import pandas as pd\n",
        "\n",
        "# Create temp directory to download input data from MLflow\n",
        "input_temp_dir = os.path.join(os.environ[\"SPARK_LOCAL_DIRS\"], \"tmp\", str(uuid.uuid4())[:8])\n",
        "os.makedirs(input_temp_dir)\n",
        "\n",
        "\n",
        "# Download the artifact and read it into a pandas DataFrame\n",
        "input_data_path = mlflow.artifacts.download_artifacts(run_id=\"01fdd5fa612e452ba952a915932892f2\", artifact_path=\"data\", dst_path=input_temp_dir)\n",
        "\n",
        "df_loaded = pd.read_parquet(os.path.join(input_data_path, \"training_data\"))\n",
        "# Delete the temp data\n",
        "shutil.rmtree(input_temp_dir)\n",
        "\n",
        "# Preview data\n",
        "df_loaded.head(5)"
      ]
    },
    {
      "cell_type": "code",
      "execution_count": null,
      "metadata": {
        "application/vnd.databricks.v1+cell": {
          "cellMetadata": {},
          "inputWidgets": {},
          "nuid": "fab19dd6-427e-4445-a672-203a33daad97",
          "showTitle": false,
          "title": ""
        },
        "execution": {
          "iopub.execute_input": "2023-10-22T18:03:38.214085Z",
          "iopub.status.busy": "2023-10-22T18:03:38.210083Z",
          "iopub.status.idle": "2023-10-22T18:03:38.829213Z",
          "shell.execute_reply": "2023-10-22T18:03:38.828471Z"
        },
        "id": "hFu58wEGMXJc"
      },
      "outputs": [],
      "source": [
        "from databricks.automl_runtime.sklearn.column_selector import ColumnSelector\n",
        "supported_cols = [\"ts\", \"da\", \"ibyt\", \"te\", \"ipkt\", \"sp\", \"pr\", \"td\", \"dp\", \"sa\", \"flg\"]\n",
        "col_selector = ColumnSelector(supported_cols)"
      ]
    },
    {
      "cell_type": "markdown",
      "metadata": {
        "application/vnd.databricks.v1+cell": {
          "cellMetadata": {},
          "inputWidgets": {},
          "nuid": "47c44263-a473-4cfb-ad99-608e7a58768e",
          "showTitle": false,
          "title": ""
        },
        "id": "hyZmoPJIMXJc"
      },
      "source": [
        "## Pré-Processamento"
      ]
    },
    {
      "cell_type": "code",
      "execution_count": null,
      "metadata": {
        "application/vnd.databricks.v1+cell": {
          "cellMetadata": {},
          "inputWidgets": {},
          "nuid": "24b60e12-fb0d-45f2-937a-b6d5c89c3908",
          "showTitle": false,
          "title": ""
        },
        "execution": {
          "iopub.execute_input": "2023-10-22T18:03:38.834818Z",
          "iopub.status.busy": "2023-10-22T18:03:38.833593Z",
          "iopub.status.idle": "2023-10-22T18:03:38.842030Z",
          "shell.execute_reply": "2023-10-22T18:03:38.841345Z"
        },
        "id": "osfCXo6rMXJd"
      },
      "outputs": [],
      "source": [
        "from pandas import Timestamp\n",
        "from sklearn.compose import ColumnTransformer\n",
        "from sklearn.pipeline import Pipeline\n",
        "\n",
        "from databricks.automl_runtime.sklearn import DatetimeImputer\n",
        "from databricks.automl_runtime.sklearn import OneHotEncoder\n",
        "from databricks.automl_runtime.sklearn import TimestampTransformer\n",
        "from sklearn.preprocessing import StandardScaler\n",
        "\n",
        "imputers = {\n",
        "  \"te\": DatetimeImputer(),\n",
        "  \"ts\": DatetimeImputer(),\n",
        "}\n",
        "\n",
        "datetime_transformers = []\n",
        "\n",
        "for col in [\"te\", \"ts\"]:\n",
        "    ohe_transformer = ColumnTransformer(\n",
        "        [(\"ohe\", OneHotEncoder(sparse=False, handle_unknown=\"indicator\"), [TimestampTransformer.HOUR_COLUMN_INDEX])],\n",
        "        remainder=\"passthrough\")\n",
        "    timestamp_preprocessor = Pipeline([\n",
        "        (f\"impute_{col}\", imputers[col]),\n",
        "        (f\"transform_{col}\", TimestampTransformer()),\n",
        "        (f\"onehot_encode_{col}\", ohe_transformer),\n",
        "        (f\"standardize_{col}\", StandardScaler()),\n",
        "    ])\n",
        "    datetime_transformers.append((f\"timestamp_{col}\", timestamp_preprocessor, [col]))"
      ]
    },
    {
      "cell_type": "markdown",
      "metadata": {
        "application/vnd.databricks.v1+cell": {
          "cellMetadata": {},
          "inputWidgets": {},
          "nuid": "26c70d71-ea15-4ab7-be76-135df0312fd2",
          "showTitle": false,
          "title": ""
        },
        "id": "q458T5bPMXJe"
      },
      "source": [
        "### Colunas com valores numéricos\n",
        "\n",
        "Valores ausentes em colunas numéricas são preenchidos com a média por padrão."
      ]
    },
    {
      "cell_type": "code",
      "execution_count": null,
      "metadata": {
        "application/vnd.databricks.v1+cell": {
          "cellMetadata": {},
          "inputWidgets": {},
          "nuid": "030bf477-e4fc-43aa-807a-72cd99df3318",
          "showTitle": false,
          "title": ""
        },
        "execution": {
          "iopub.execute_input": "2023-10-22T18:03:38.846815Z",
          "iopub.status.busy": "2023-10-22T18:03:38.845574Z",
          "iopub.status.idle": "2023-10-22T18:03:38.853540Z",
          "shell.execute_reply": "2023-10-22T18:03:38.852902Z"
        },
        "id": "B-szWkYTMXJe"
      },
      "outputs": [],
      "source": [
        "from sklearn.compose import ColumnTransformer\n",
        "from sklearn.impute import SimpleImputer\n",
        "from sklearn.pipeline import Pipeline\n",
        "from sklearn.preprocessing import FunctionTransformer, StandardScaler\n",
        "\n",
        "num_imputers = []\n",
        "num_imputers.append((\"impute_mean\", SimpleImputer(), [\"dp\", \"ibyt\", \"ipkt\", \"sp\", \"td\"]))\n",
        "\n",
        "numerical_pipeline = Pipeline(steps=[\n",
        "    (\"converter\", FunctionTransformer(lambda df: df.apply(pd.to_numeric, errors='coerce'))),\n",
        "    (\"imputers\", ColumnTransformer(num_imputers)),\n",
        "    (\"standardizer\", StandardScaler()),\n",
        "])\n",
        "\n",
        "numerical_transformers = [(\"numerical\", numerical_pipeline, [\"ibyt\", \"ipkt\", \"sp\", \"td\", \"dp\"])]"
      ]
    },
    {
      "cell_type": "markdown",
      "metadata": {
        "application/vnd.databricks.v1+cell": {
          "cellMetadata": {},
          "inputWidgets": {},
          "nuid": "37a14d17-2edf-4f36-9000-b6401ec5af7c",
          "showTitle": false,
          "title": ""
        },
        "id": "D5_VXTX6MXJf"
      },
      "source": [
        "### Colunas Categóricas"
      ]
    },
    {
      "cell_type": "markdown",
      "metadata": {
        "application/vnd.databricks.v1+cell": {
          "cellMetadata": {},
          "inputWidgets": {},
          "nuid": "0396d9b8-9141-4169-b9ba-c4c7c4913e0b",
          "showTitle": false,
          "title": ""
        },
        "id": "_PtOeGMiMXJf"
      },
      "source": [
        "#### Colunas de baixa cardinalidade\n",
        "Para cada coluna categórica de entrada (string ou numérica), o número de colunas de saída é igual ao número de valores únicos na coluna de entrada."
      ]
    },
    {
      "cell_type": "code",
      "execution_count": null,
      "metadata": {
        "application/vnd.databricks.v1+cell": {
          "cellMetadata": {},
          "inputWidgets": {},
          "nuid": "334d432b-f7c5-42f7-96a4-70367ee5518d",
          "showTitle": false,
          "title": ""
        },
        "execution": {
          "iopub.execute_input": "2023-10-22T18:03:38.858625Z",
          "iopub.status.busy": "2023-10-22T18:03:38.857323Z",
          "iopub.status.idle": "2023-10-22T18:03:38.864286Z",
          "shell.execute_reply": "2023-10-22T18:03:38.863681Z"
        },
        "id": "YkMw_QYxMXJg"
      },
      "outputs": [],
      "source": [
        "from databricks.automl_runtime.sklearn import OneHotEncoder\n",
        "from sklearn.compose import ColumnTransformer\n",
        "from sklearn.impute import SimpleImputer\n",
        "from sklearn.pipeline import Pipeline\n",
        "\n",
        "one_hot_imputers = []\n",
        "\n",
        "one_hot_pipeline = Pipeline(steps=[\n",
        "    (\"imputers\", ColumnTransformer(one_hot_imputers, remainder=\"passthrough\")),\n",
        "    (\"one_hot_encoder\", OneHotEncoder(handle_unknown=\"indicator\")),\n",
        "])\n",
        "\n",
        "categorical_one_hot_transformers = [(\"onehot\", one_hot_pipeline, [\"da\", \"flg\", \"pr\", \"sa\"])]"
      ]
    },
    {
      "cell_type": "code",
      "execution_count": null,
      "metadata": {
        "application/vnd.databricks.v1+cell": {
          "cellMetadata": {},
          "inputWidgets": {},
          "nuid": "b207cbe2-16d2-434b-8016-1f51a45a4738",
          "showTitle": false,
          "title": ""
        },
        "execution": {
          "iopub.execute_input": "2023-10-22T18:03:38.869022Z",
          "iopub.status.busy": "2023-10-22T18:03:38.867797Z",
          "iopub.status.idle": "2023-10-22T18:03:38.873275Z",
          "shell.execute_reply": "2023-10-22T18:03:38.872672Z"
        },
        "id": "p86Y3B6EMXJg"
      },
      "outputs": [],
      "source": [
        "from sklearn.compose import ColumnTransformer\n",
        "\n",
        "transformers = datetime_transformers + numerical_transformers + categorical_one_hot_transformers\n",
        "\n",
        "preprocessor = ColumnTransformer(transformers, remainder=\"passthrough\", sparse_threshold=0)"
      ]
    },
    {
      "cell_type": "markdown",
      "metadata": {
        "application/vnd.databricks.v1+cell": {
          "cellMetadata": {},
          "inputWidgets": {},
          "nuid": "06be7f47-6289-48b6-aee1-803b82fb8c6f",
          "showTitle": false,
          "title": ""
        },
        "id": "nK1oC2-vMXJg"
      },
      "source": [
        "## Treino, validação e teste\n",
        "O dataset foi dividido em:\n",
        "- Treino (60% do dataset será utilizado para treino do modelo)\n",
        "- Validação (20% do dataset será utilizado para ajustar os parâmetros do modelo)\n",
        "- Teste (20% do dataset será utilizado para relatar o desempenho real do modelo em um conjunto de dados não observado)\n"
      ]
    },
    {
      "cell_type": "code",
      "execution_count": null,
      "metadata": {
        "application/vnd.databricks.v1+cell": {
          "cellMetadata": {},
          "inputWidgets": {},
          "nuid": "a825805b-893d-4080-bbcd-8d647ad9c53c",
          "showTitle": false,
          "title": ""
        },
        "execution": {
          "iopub.execute_input": "2023-10-22T18:03:38.878197Z",
          "iopub.status.busy": "2023-10-22T18:03:38.876949Z",
          "iopub.status.idle": "2023-10-22T18:03:38.892865Z",
          "shell.execute_reply": "2023-10-22T18:03:38.892219Z"
        },
        "id": "_gm6mlHVMXJh"
      },
      "outputs": [],
      "source": [
        "# AutoML completed train - validation - test split internally and used _automl_split_col_0000 to specify the set\n",
        "split_train_df = df_loaded.loc[df_loaded._automl_split_col_0000 == \"train\"]\n",
        "split_val_df = df_loaded.loc[df_loaded._automl_split_col_0000 == \"val\"]\n",
        "split_test_df = df_loaded.loc[df_loaded._automl_split_col_0000 == \"test\"]\n",
        "\n",
        "# Separate target column from features and drop _automl_split_col_0000\n",
        "X_train = split_train_df.drop([target_col, \"_automl_split_col_0000\"], axis=1)\n",
        "y_train = split_train_df[target_col]\n",
        "\n",
        "X_val = split_val_df.drop([target_col, \"_automl_split_col_0000\"], axis=1)\n",
        "y_val = split_val_df[target_col]\n",
        "\n",
        "X_test = split_test_df.drop([target_col, \"_automl_split_col_0000\"], axis=1)\n",
        "y_test = split_test_df[target_col]"
      ]
    },
    {
      "cell_type": "markdown",
      "metadata": {
        "application/vnd.databricks.v1+cell": {
          "cellMetadata": {},
          "inputWidgets": {},
          "nuid": "8d5ebf18-b81f-493a-8a67-f9dd29d12ab9",
          "showTitle": false,
          "title": ""
        },
        "id": "8DHlyL8tMXJh"
      },
      "source": [
        "## Treino do modelo de classificação"
      ]
    },
    {
      "cell_type": "code",
      "execution_count": null,
      "metadata": {
        "application/vnd.databricks.v1+cell": {
          "cellMetadata": {},
          "inputWidgets": {},
          "nuid": "fbd5b9e1-db56-4c42-b910-30d697c07978",
          "showTitle": false,
          "title": ""
        },
        "execution": {
          "iopub.execute_input": "2023-10-22T18:03:38.898055Z",
          "iopub.status.busy": "2023-10-22T18:03:38.896731Z",
          "iopub.status.idle": "2023-10-22T18:03:38.932382Z",
          "shell.execute_reply": "2023-10-22T18:03:38.931593Z"
        },
        "id": "I7JLJfIPMXJh"
      },
      "outputs": [],
      "source": [
        "from sklearn.ensemble import RandomForestClassifier\n",
        "\n"
      ]
    },
    {
      "cell_type": "markdown",
      "metadata": {
        "application/vnd.databricks.v1+cell": {
          "cellMetadata": {},
          "inputWidgets": {},
          "nuid": "6fe94480-af92-400e-aedf-1c1ae5c4e4d5",
          "showTitle": false,
          "title": ""
        },
        "id": "mxDvquXqMXJh"
      },
      "source": [
        "### Define a função objetivo"
      ]
    },
    {
      "cell_type": "code",
      "execution_count": null,
      "metadata": {
        "application/vnd.databricks.v1+cell": {
          "cellMetadata": {},
          "inputWidgets": {},
          "nuid": "511a0494-a783-4a23-bac9-801acca2f8cf",
          "showTitle": false,
          "title": ""
        },
        "execution": {
          "iopub.execute_input": "2023-10-22T18:03:38.937755Z",
          "iopub.status.busy": "2023-10-22T18:03:38.936450Z",
          "iopub.status.idle": "2023-10-22T18:03:39.037536Z",
          "shell.execute_reply": "2023-10-22T18:03:39.036916Z"
        },
        "id": "73TmcR1cMXJi"
      },
      "outputs": [],
      "source": [
        "import mlflow\n",
        "from mlflow.models import Model, infer_signature, ModelSignature\n",
        "from mlflow.pyfunc import PyFuncModel\n",
        "from mlflow import pyfunc\n",
        "import sklearn\n",
        "from sklearn import set_config\n",
        "from sklearn.pipeline import Pipeline\n",
        "\n",
        "from hyperopt import hp, tpe, fmin, STATUS_OK, Trials\n",
        "\n",
        "def objective(params):\n",
        "  with mlflow.start_run(experiment_id=\"1276305420892233\") as mlflow_run:\n",
        "    skrf_classifier = RandomForestClassifier(n_jobs=1, **params)\n",
        "\n",
        "    model = Pipeline([\n",
        "        (\"column_selector\", col_selector),\n",
        "        (\"preprocessor\", preprocessor),\n",
        "        (\"classifier\", skrf_classifier),\n",
        "    ])\n",
        "\n",
        "    # Enable automatic logging of input samples, metrics, parameters, and models\n",
        "    mlflow.sklearn.autolog(\n",
        "        log_input_examples=True,\n",
        "        silent=True)\n",
        "\n",
        "    model.fit(X_train, y_train)\n",
        "\n",
        "\n",
        "    # Log metrics for the training set\n",
        "    mlflow_model = Model()\n",
        "    pyfunc.add_to_model(mlflow_model, loader_module=\"mlflow.sklearn\")\n",
        "    pyfunc_model = PyFuncModel(model_meta=mlflow_model, model_impl=model)\n",
        "    training_eval_result = mlflow.evaluate(\n",
        "        model=pyfunc_model,\n",
        "        data=X_train.assign(**{str(target_col):y_train}),\n",
        "        targets=target_col,\n",
        "        model_type=\"classifier\",\n",
        "        evaluator_config = {\"log_model_explainability\": False,\n",
        "                            \"metric_prefix\": \"training_\" , \"pos_label\": 1 }\n",
        "    )\n",
        "    skrf_training_metrics = training_eval_result.metrics\n",
        "    # Log metrics for the validation set\n",
        "    val_eval_result = mlflow.evaluate(\n",
        "        model=pyfunc_model,\n",
        "        data=X_val.assign(**{str(target_col):y_val}),\n",
        "        targets=target_col,\n",
        "        model_type=\"classifier\",\n",
        "        evaluator_config = {\"log_model_explainability\": False,\n",
        "                            \"metric_prefix\": \"val_\" , \"pos_label\": 1 }\n",
        "    )\n",
        "    skrf_val_metrics = val_eval_result.metrics\n",
        "    # Log metrics for the test set\n",
        "    test_eval_result = mlflow.evaluate(\n",
        "        model=pyfunc_model,\n",
        "        data=X_test.assign(**{str(target_col):y_test}),\n",
        "        targets=target_col,\n",
        "        model_type=\"classifier\",\n",
        "        evaluator_config = {\"log_model_explainability\": False,\n",
        "                            \"metric_prefix\": \"test_\" , \"pos_label\": 1 }\n",
        "    )\n",
        "    skrf_test_metrics = test_eval_result.metrics\n",
        "\n",
        "    loss = -skrf_val_metrics[\"val_accuracy_score\"]\n",
        "\n",
        "    # Truncate metric key names so they can be displayed together\n",
        "    skrf_val_metrics = {k.replace(\"val_\", \"\"): v for k, v in skrf_val_metrics.items()}\n",
        "    skrf_test_metrics = {k.replace(\"test_\", \"\"): v for k, v in skrf_test_metrics.items()}\n",
        "\n",
        "    return {\n",
        "      \"loss\": loss,\n",
        "      \"status\": STATUS_OK,\n",
        "      \"val_metrics\": skrf_val_metrics,\n",
        "      \"test_metrics\": skrf_test_metrics,\n",
        "      \"model\": model,\n",
        "      \"run\": mlflow_run,\n",
        "    }"
      ]
    },
    {
      "cell_type": "markdown",
      "metadata": {
        "application/vnd.databricks.v1+cell": {
          "cellMetadata": {},
          "inputWidgets": {},
          "nuid": "fcafe7c3-df65-471b-923e-7093b9046e1c",
          "showTitle": false,
          "title": ""
        },
        "id": "aJE42Ka4MXJi"
      },
      "source": [
        "### Configura o espaço de busca de parâmetros"
      ]
    },
    {
      "cell_type": "code",
      "execution_count": null,
      "metadata": {
        "application/vnd.databricks.v1+cell": {
          "cellMetadata": {},
          "inputWidgets": {},
          "nuid": "05b0308b-8d8f-486e-a283-3692840d468e",
          "showTitle": false,
          "title": ""
        },
        "execution": {
          "iopub.execute_input": "2023-10-22T18:03:39.040698Z",
          "iopub.status.busy": "2023-10-22T18:03:39.040477Z",
          "iopub.status.idle": "2023-10-22T18:03:39.044158Z",
          "shell.execute_reply": "2023-10-22T18:03:39.043547Z"
        },
        "id": "ybHqXaVdMXJj"
      },
      "outputs": [],
      "source": [
        "space = {\n",
        "  \"bootstrap\": False,\n",
        "  \"criterion\": \"gini\",\n",
        "  \"max_depth\": 9,\n",
        "  \"max_features\": 0.5212273746257398,\n",
        "  \"min_samples_leaf\": 0.005990432629635667,\n",
        "  \"min_samples_split\": 0.004186202479922768,\n",
        "  \"n_estimators\": 150,\n",
        "  \"random_state\": 763330925,\n",
        "}"
      ]
    },
    {
      "cell_type": "markdown",
      "metadata": {
        "application/vnd.databricks.v1+cell": {
          "cellMetadata": {},
          "inputWidgets": {},
          "nuid": "b78f20e9-53fd-4fa4-9164-91047ba53974",
          "showTitle": false,
          "title": ""
        },
        "id": "C2sTIuHMMXJj"
      },
      "source": [
        "### Executar experimentos"
      ]
    },
    {
      "cell_type": "code",
      "execution_count": null,
      "metadata": {
        "application/vnd.databricks.v1+cell": {
          "cellMetadata": {},
          "inputWidgets": {},
          "nuid": "c6df2ced-76de-48f8-9998-ae9dcccea887",
          "showTitle": false,
          "title": ""
        },
        "execution": {
          "iopub.execute_input": "2023-10-22T18:03:39.047034Z",
          "iopub.status.busy": "2023-10-22T18:03:39.046814Z",
          "iopub.status.idle": "2023-10-22T18:03:58.655347Z",
          "shell.execute_reply": "2023-10-22T18:03:58.654588Z"
        },
        "id": "RVnSn8q1MXJj",
        "outputId": "ba34e7cb-e383-4f48-909b-dc8b766a6f68"
      },
      "outputs": [
        {
          "output_type": "stream",
          "name": "stdout",
          "text": [
            "\r  0%|          | 0/1 [00:00<?, ?trial/s, best loss=?]"
          ]
        },
        {
          "output_type": "stream",
          "name": "stdout",
          "text": [
            "\r                                                     "
          ]
        },
        {
          "output_type": "stream",
          "name": "stdout",
          "text": [
            "\r"
          ]
        },
        {
          "output_type": "stream",
          "name": "stdout",
          "text": [
            "Warning: No categorical columns found. Calling 'transform' will only return input data.\n\r  0%|          | 0/1 [00:00<?, ?trial/s, best loss=?]"
          ]
        },
        {
          "output_type": "stream",
          "name": "stdout",
          "text": [
            "\r                                                     "
          ]
        },
        {
          "output_type": "stream",
          "name": "stdout",
          "text": [
            "\r"
          ]
        },
        {
          "output_type": "stream",
          "name": "stdout",
          "text": [
            "Warning: No categorical columns found. Calling 'transform' will only return input data.\n\r  0%|          | 0/1 [00:00<?, ?trial/s, best loss=?]"
          ]
        },
        {
          "output_type": "stream",
          "name": "stderr",
          "text": [
            "2023/10/22 18:03:48 INFO mlflow.models.evaluation.base: Evaluating the model with the default evaluator.\n\n"
          ]
        },
        {
          "output_type": "stream",
          "name": "stderr",
          "text": [
            "2023/10/22 18:03:49 INFO mlflow.models.evaluation.default_evaluator: The evaluation dataset is inferred as binary dataset, positive label is 1, negative label is 0.\n\n"
          ]
        },
        {
          "output_type": "stream",
          "name": "stderr",
          "text": [
            "2023/10/22 18:03:52 INFO mlflow.models.evaluation.base: Evaluating the model with the default evaluator.\n\n"
          ]
        },
        {
          "output_type": "stream",
          "name": "stderr",
          "text": [
            "2023/10/22 18:03:52 INFO mlflow.models.evaluation.default_evaluator: The evaluation dataset is inferred as binary dataset, positive label is 1, negative label is 0.\n\n"
          ]
        },
        {
          "output_type": "stream",
          "name": "stderr",
          "text": [
            "2023/10/22 18:03:55 INFO mlflow.models.evaluation.base: Evaluating the model with the default evaluator.\n\n"
          ]
        },
        {
          "output_type": "stream",
          "name": "stderr",
          "text": [
            "2023/10/22 18:03:55 INFO mlflow.models.evaluation.default_evaluator: The evaluation dataset is inferred as binary dataset, positive label is 1, negative label is 0.\n\n"
          ]
        },
        {
          "output_type": "stream",
          "name": "stdout",
          "text": [
            "\r100%|██████████| 1/1 [00:19<00:00, 19.17s/trial, best loss: -0.973741794310722]"
          ]
        },
        {
          "output_type": "stream",
          "name": "stdout",
          "text": [
            "\r100%|██████████| 1/1 [00:19<00:00, 19.17s/trial, best loss: -0.973741794310722]"
          ]
        },
        {
          "output_type": "stream",
          "name": "stdout",
          "text": [
            "\n"
          ]
        },
        {
          "output_type": "display_data",
          "data": {
            "text/html": [
              "<div>\n",
              "<style scoped>\n",
              "    .dataframe tbody tr th:only-of-type {\n",
              "        vertical-align: middle;\n",
              "    }\n",
              "\n",
              "    .dataframe tbody tr th {\n",
              "        vertical-align: top;\n",
              "    }\n",
              "\n",
              "    .dataframe thead th {\n",
              "        text-align: right;\n",
              "    }\n",
              "</style>\n",
              "<table border=\"1\" class=\"dataframe\">\n",
              "  <thead>\n",
              "    <tr style=\"text-align: right;\">\n",
              "      <th></th>\n",
              "      <th>score</th>\n",
              "      <th>true_negatives</th>\n",
              "      <th>false_positives</th>\n",
              "      <th>false_negatives</th>\n",
              "      <th>true_positives</th>\n",
              "      <th>example_count</th>\n",
              "      <th>accuracy_score</th>\n",
              "      <th>recall_score</th>\n",
              "      <th>precision_score</th>\n",
              "      <th>f1_score</th>\n",
              "      <th>log_loss</th>\n",
              "      <th>roc_auc</th>\n",
              "      <th>precision_recall_auc</th>\n",
              "    </tr>\n",
              "  </thead>\n",
              "  <tbody>\n",
              "    <tr>\n",
              "      <th>validation</th>\n",
              "      <td>0.973742</td>\n",
              "      <td>299</td>\n",
              "      <td>10</td>\n",
              "      <td>2</td>\n",
              "      <td>146</td>\n",
              "      <td>457</td>\n",
              "      <td>0.973742</td>\n",
              "      <td>0.986486</td>\n",
              "      <td>0.935897</td>\n",
              "      <td>0.960526</td>\n",
              "      <td>0.138597</td>\n",
              "      <td>0.994905</td>\n",
              "      <td>0.978776</td>\n",
              "    </tr>\n",
              "    <tr>\n",
              "      <th>test</th>\n",
              "      <td>0.975983</td>\n",
              "      <td>307</td>\n",
              "      <td>10</td>\n",
              "      <td>1</td>\n",
              "      <td>140</td>\n",
              "      <td>458</td>\n",
              "      <td>0.975983</td>\n",
              "      <td>0.992908</td>\n",
              "      <td>0.933333</td>\n",
              "      <td>0.962199</td>\n",
              "      <td>0.148420</td>\n",
              "      <td>0.992091</td>\n",
              "      <td>0.964999</td>\n",
              "    </tr>\n",
              "  </tbody>\n",
              "</table>\n",
              "</div>"
            ],
            "text/plain": [
              "               score  true_negatives  false_positives  false_negatives  \\\n",
              "validation  0.973742             299               10                2   \n",
              "test        0.975983             307               10                1   \n",
              "\n",
              "            true_positives  example_count  accuracy_score  recall_score  \\\n",
              "validation             146            457        0.973742      0.986486   \n",
              "test                   140            458        0.975983      0.992908   \n",
              "\n",
              "            precision_score  f1_score  log_loss   roc_auc  \\\n",
              "validation         0.935897  0.960526  0.138597  0.994905   \n",
              "test               0.933333  0.962199  0.148420  0.992091   \n",
              "\n",
              "            precision_recall_auc  \n",
              "validation              0.978776  \n",
              "test                    0.964999  "
            ]
          },
          "metadata": {}
        },
        {
          "output_type": "execute_result",
          "data": {
            "text/html": [
              "<style>#sk-container-id-2 {color: black;background-color: white;}#sk-container-id-2 pre{padding: 0;}#sk-container-id-2 div.sk-toggleable {background-color: white;}#sk-container-id-2 label.sk-toggleable__label {cursor: pointer;display: block;width: 100%;margin-bottom: 0;padding: 0.3em;box-sizing: border-box;text-align: center;}#sk-container-id-2 label.sk-toggleable__label-arrow:before {content: \"▸\";float: left;margin-right: 0.25em;color: #696969;}#sk-container-id-2 label.sk-toggleable__label-arrow:hover:before {color: black;}#sk-container-id-2 div.sk-estimator:hover label.sk-toggleable__label-arrow:before {color: black;}#sk-container-id-2 div.sk-toggleable__content {max-height: 0;max-width: 0;overflow: hidden;text-align: left;background-color: #f0f8ff;}#sk-container-id-2 div.sk-toggleable__content pre {margin: 0.2em;color: black;border-radius: 0.25em;background-color: #f0f8ff;}#sk-container-id-2 input.sk-toggleable__control:checked~div.sk-toggleable__content {max-height: 200px;max-width: 100%;overflow: auto;}#sk-container-id-2 input.sk-toggleable__control:checked~label.sk-toggleable__label-arrow:before {content: \"▾\";}#sk-container-id-2 div.sk-estimator input.sk-toggleable__control:checked~label.sk-toggleable__label {background-color: #d4ebff;}#sk-container-id-2 div.sk-label input.sk-toggleable__control:checked~label.sk-toggleable__label {background-color: #d4ebff;}#sk-container-id-2 input.sk-hidden--visually {border: 0;clip: rect(1px 1px 1px 1px);clip: rect(1px, 1px, 1px, 1px);height: 1px;margin: -1px;overflow: hidden;padding: 0;position: absolute;width: 1px;}#sk-container-id-2 div.sk-estimator {font-family: monospace;background-color: #f0f8ff;border: 1px dotted black;border-radius: 0.25em;box-sizing: border-box;margin-bottom: 0.5em;}#sk-container-id-2 div.sk-estimator:hover {background-color: #d4ebff;}#sk-container-id-2 div.sk-parallel-item::after {content: \"\";width: 100%;border-bottom: 1px solid gray;flex-grow: 1;}#sk-container-id-2 div.sk-label:hover label.sk-toggleable__label {background-color: #d4ebff;}#sk-container-id-2 div.sk-serial::before {content: \"\";position: absolute;border-left: 1px solid gray;box-sizing: border-box;top: 0;bottom: 0;left: 50%;z-index: 0;}#sk-container-id-2 div.sk-serial {display: flex;flex-direction: column;align-items: center;background-color: white;padding-right: 0.2em;padding-left: 0.2em;position: relative;}#sk-container-id-2 div.sk-item {position: relative;z-index: 1;}#sk-container-id-2 div.sk-parallel {display: flex;align-items: stretch;justify-content: center;background-color: white;position: relative;}#sk-container-id-2 div.sk-item::before, #sk-container-id-2 div.sk-parallel-item::before {content: \"\";position: absolute;border-left: 1px solid gray;box-sizing: border-box;top: 0;bottom: 0;left: 50%;z-index: -1;}#sk-container-id-2 div.sk-parallel-item {display: flex;flex-direction: column;z-index: 1;position: relative;background-color: white;}#sk-container-id-2 div.sk-parallel-item:first-child::after {align-self: flex-end;width: 50%;}#sk-container-id-2 div.sk-parallel-item:last-child::after {align-self: flex-start;width: 50%;}#sk-container-id-2 div.sk-parallel-item:only-child::after {width: 0;}#sk-container-id-2 div.sk-dashed-wrapped {border: 1px dashed gray;margin: 0 0.4em 0.5em 0.4em;box-sizing: border-box;padding-bottom: 0.4em;background-color: white;}#sk-container-id-2 div.sk-label label {font-family: monospace;font-weight: bold;display: inline-block;line-height: 1.2em;}#sk-container-id-2 div.sk-label-container {text-align: center;}#sk-container-id-2 div.sk-container {/* jupyter's `normalize.less` sets `[hidden] { display: none; }` but bootstrap.min.css set `[hidden] { display: none !important; }` so we also need the `!important` here to be able to override the default hidden behavior on the sphinx rendered scikit-learn.org. See: https://github.com/scikit-learn/scikit-learn/issues/21755 */display: inline-block !important;position: relative;}#sk-container-id-2 div.sk-text-repr-fallback {display: none;}</style><div id=\"sk-container-id-2\" class=\"sk-top-container\"><div class=\"sk-text-repr-fallback\"><pre>Pipeline(steps=[(&#x27;column_selector&#x27;,\n",
              "                 ColumnSelector(cols=[&#x27;ts&#x27;, &#x27;da&#x27;, &#x27;ibyt&#x27;, &#x27;te&#x27;, &#x27;ipkt&#x27;, &#x27;sp&#x27;,\n",
              "                                      &#x27;pr&#x27;, &#x27;td&#x27;, &#x27;dp&#x27;, &#x27;sa&#x27;, &#x27;flg&#x27;])),\n",
              "                (&#x27;preprocessor&#x27;,\n",
              "                 ColumnTransformer(remainder=&#x27;passthrough&#x27;, sparse_threshold=0,\n",
              "                                   transformers=[(&#x27;timestamp_te&#x27;,\n",
              "                                                  Pipeline(steps=[(&#x27;impute_te&#x27;,\n",
              "                                                                   DatetimeImputer()),\n",
              "                                                                  (&#x27;transform_te&#x27;,\n",
              "                                                                   TimestampTransformer()),\n",
              "                                                                  (&#x27;onehot_encode_te&#x27;,\n",
              "                                                                   ColumnTransforme...\n",
              "                                                                   ColumnTransformer(remainder=&#x27;passthrough&#x27;,\n",
              "                                                                                     transformers=[])),\n",
              "                                                                  (&#x27;one_hot_encoder&#x27;,\n",
              "                                                                   OneHotEncoder())]),\n",
              "                                                  [&#x27;da&#x27;, &#x27;flg&#x27;, &#x27;pr&#x27;, &#x27;sa&#x27;])])),\n",
              "                (&#x27;classifier&#x27;,\n",
              "                 RandomForestClassifier(bootstrap=False, max_depth=9,\n",
              "                                        max_features=0.5212273746257398,\n",
              "                                        min_samples_leaf=0.005990432629635667,\n",
              "                                        min_samples_split=0.004186202479922768,\n",
              "                                        n_estimators=150, n_jobs=1,\n",
              "                                        random_state=763330925))])</pre><b>In a Jupyter environment, please rerun this cell to show the HTML representation or trust the notebook. <br />On GitHub, the HTML representation is unable to render, please try loading this page with nbviewer.org.</b></div><div class=\"sk-container\" hidden><div class=\"sk-item sk-dashed-wrapped\"><div class=\"sk-label-container\"><div class=\"sk-label sk-toggleable\"><input class=\"sk-toggleable__control sk-hidden--visually\" id=\"sk-estimator-id-36\" type=\"checkbox\" ><label for=\"sk-estimator-id-36\" class=\"sk-toggleable__label sk-toggleable__label-arrow\">Pipeline</label><div class=\"sk-toggleable__content\"><pre>Pipeline(steps=[(&#x27;column_selector&#x27;,\n",
              "                 ColumnSelector(cols=[&#x27;ts&#x27;, &#x27;da&#x27;, &#x27;ibyt&#x27;, &#x27;te&#x27;, &#x27;ipkt&#x27;, &#x27;sp&#x27;,\n",
              "                                      &#x27;pr&#x27;, &#x27;td&#x27;, &#x27;dp&#x27;, &#x27;sa&#x27;, &#x27;flg&#x27;])),\n",
              "                (&#x27;preprocessor&#x27;,\n",
              "                 ColumnTransformer(remainder=&#x27;passthrough&#x27;, sparse_threshold=0,\n",
              "                                   transformers=[(&#x27;timestamp_te&#x27;,\n",
              "                                                  Pipeline(steps=[(&#x27;impute_te&#x27;,\n",
              "                                                                   DatetimeImputer()),\n",
              "                                                                  (&#x27;transform_te&#x27;,\n",
              "                                                                   TimestampTransformer()),\n",
              "                                                                  (&#x27;onehot_encode_te&#x27;,\n",
              "                                                                   ColumnTransforme...\n",
              "                                                                   ColumnTransformer(remainder=&#x27;passthrough&#x27;,\n",
              "                                                                                     transformers=[])),\n",
              "                                                                  (&#x27;one_hot_encoder&#x27;,\n",
              "                                                                   OneHotEncoder())]),\n",
              "                                                  [&#x27;da&#x27;, &#x27;flg&#x27;, &#x27;pr&#x27;, &#x27;sa&#x27;])])),\n",
              "                (&#x27;classifier&#x27;,\n",
              "                 RandomForestClassifier(bootstrap=False, max_depth=9,\n",
              "                                        max_features=0.5212273746257398,\n",
              "                                        min_samples_leaf=0.005990432629635667,\n",
              "                                        min_samples_split=0.004186202479922768,\n",
              "                                        n_estimators=150, n_jobs=1,\n",
              "                                        random_state=763330925))])</pre></div></div></div><div class=\"sk-serial\"><div class=\"sk-item\"><div class=\"sk-estimator sk-toggleable\"><input class=\"sk-toggleable__control sk-hidden--visually\" id=\"sk-estimator-id-37\" type=\"checkbox\" ><label for=\"sk-estimator-id-37\" class=\"sk-toggleable__label sk-toggleable__label-arrow\">ColumnSelector</label><div class=\"sk-toggleable__content\"><pre>ColumnSelector(cols=[&#x27;ts&#x27;, &#x27;da&#x27;, &#x27;ibyt&#x27;, &#x27;te&#x27;, &#x27;ipkt&#x27;, &#x27;sp&#x27;, &#x27;pr&#x27;, &#x27;td&#x27;, &#x27;dp&#x27;,\n",
              "                     &#x27;sa&#x27;, &#x27;flg&#x27;])</pre></div></div></div><div class=\"sk-item sk-dashed-wrapped\"><div class=\"sk-label-container\"><div class=\"sk-label sk-toggleable\"><input class=\"sk-toggleable__control sk-hidden--visually\" id=\"sk-estimator-id-38\" type=\"checkbox\" ><label for=\"sk-estimator-id-38\" class=\"sk-toggleable__label sk-toggleable__label-arrow\">preprocessor: ColumnTransformer</label><div class=\"sk-toggleable__content\"><pre>ColumnTransformer(remainder=&#x27;passthrough&#x27;, sparse_threshold=0,\n",
              "                  transformers=[(&#x27;timestamp_te&#x27;,\n",
              "                                 Pipeline(steps=[(&#x27;impute_te&#x27;,\n",
              "                                                  DatetimeImputer()),\n",
              "                                                 (&#x27;transform_te&#x27;,\n",
              "                                                  TimestampTransformer()),\n",
              "                                                 (&#x27;onehot_encode_te&#x27;,\n",
              "                                                  ColumnTransformer(remainder=&#x27;passthrough&#x27;,\n",
              "                                                                    transformers=[(&#x27;ohe&#x27;,\n",
              "                                                                                   OneHotEncoder(sparse=False),\n",
              "                                                                                   [10])])),\n",
              "                                                 (&#x27;standardize_te&#x27;,\n",
              "                                                  StandardScaler())]),\n",
              "                                 [&#x27;te&#x27;]),\n",
              "                                (&#x27;tim...\n",
              "                                                  FunctionTransformer(func=&lt;function &lt;lambda&gt; at 0x7fbb22ac3e20&gt;)),\n",
              "                                                 (&#x27;imputers&#x27;,\n",
              "                                                  ColumnTransformer(transformers=[(&#x27;impute_mean&#x27;,\n",
              "                                                                                   SimpleImputer(),\n",
              "                                                                                   [&#x27;dp&#x27;,\n",
              "                                                                                    &#x27;ibyt&#x27;,\n",
              "                                                                                    &#x27;ipkt&#x27;,\n",
              "                                                                                    &#x27;sp&#x27;,\n",
              "                                                                                    &#x27;td&#x27;])])),\n",
              "                                                 (&#x27;standardizer&#x27;,\n",
              "                                                  StandardScaler())]),\n",
              "                                 [&#x27;ibyt&#x27;, &#x27;ipkt&#x27;, &#x27;sp&#x27;, &#x27;td&#x27;, &#x27;dp&#x27;]),\n",
              "                                (&#x27;onehot&#x27;,\n",
              "                                 Pipeline(steps=[(&#x27;imputers&#x27;,\n",
              "                                                  ColumnTransformer(remainder=&#x27;passthrough&#x27;,\n",
              "                                                                    transformers=[])),\n",
              "                                                 (&#x27;one_hot_encoder&#x27;,\n",
              "                                                  OneHotEncoder())]),\n",
              "                                 [&#x27;da&#x27;, &#x27;flg&#x27;, &#x27;pr&#x27;, &#x27;sa&#x27;])])</pre></div></div></div><div class=\"sk-parallel\"><div class=\"sk-parallel-item\"><div class=\"sk-item\"><div class=\"sk-label-container\"><div class=\"sk-label sk-toggleable\"><input class=\"sk-toggleable__control sk-hidden--visually\" id=\"sk-estimator-id-39\" type=\"checkbox\" ><label for=\"sk-estimator-id-39\" class=\"sk-toggleable__label sk-toggleable__label-arrow\">timestamp_te</label><div class=\"sk-toggleable__content\"><pre>[&#x27;te&#x27;]</pre></div></div></div><div class=\"sk-serial\"><div class=\"sk-item\"><div class=\"sk-serial\"><div class=\"sk-item\"><div class=\"sk-estimator sk-toggleable\"><input class=\"sk-toggleable__control sk-hidden--visually\" id=\"sk-estimator-id-40\" type=\"checkbox\" ><label for=\"sk-estimator-id-40\" class=\"sk-toggleable__label sk-toggleable__label-arrow\">DatetimeImputer</label><div class=\"sk-toggleable__content\"><pre>DatetimeImputer()</pre></div></div></div><div class=\"sk-item\"><div class=\"sk-estimator sk-toggleable\"><input class=\"sk-toggleable__control sk-hidden--visually\" id=\"sk-estimator-id-41\" type=\"checkbox\" ><label for=\"sk-estimator-id-41\" class=\"sk-toggleable__label sk-toggleable__label-arrow\">TimestampTransformer</label><div class=\"sk-toggleable__content\"><pre>TimestampTransformer()</pre></div></div></div><div class=\"sk-item sk-dashed-wrapped\"><div class=\"sk-label-container\"><div class=\"sk-label sk-toggleable\"><input class=\"sk-toggleable__control sk-hidden--visually\" id=\"sk-estimator-id-42\" type=\"checkbox\" ><label for=\"sk-estimator-id-42\" class=\"sk-toggleable__label sk-toggleable__label-arrow\">onehot_encode_te: ColumnTransformer</label><div class=\"sk-toggleable__content\"><pre>ColumnTransformer(remainder=&#x27;passthrough&#x27;,\n",
              "                  transformers=[(&#x27;ohe&#x27;, OneHotEncoder(sparse=False), [10])])</pre></div></div></div><div class=\"sk-parallel\"><div class=\"sk-parallel-item\"><div class=\"sk-item\"><div class=\"sk-label-container\"><div class=\"sk-label sk-toggleable\"><input class=\"sk-toggleable__control sk-hidden--visually\" id=\"sk-estimator-id-43\" type=\"checkbox\" ><label for=\"sk-estimator-id-43\" class=\"sk-toggleable__label sk-toggleable__label-arrow\">ohe</label><div class=\"sk-toggleable__content\"><pre>[10]</pre></div></div></div><div class=\"sk-serial\"><div class=\"sk-item\"><div class=\"sk-estimator sk-toggleable\"><input class=\"sk-toggleable__control sk-hidden--visually\" id=\"sk-estimator-id-44\" type=\"checkbox\" ><label for=\"sk-estimator-id-44\" class=\"sk-toggleable__label sk-toggleable__label-arrow\">OneHotEncoder</label><div class=\"sk-toggleable__content\"><pre>OneHotEncoder(sparse=False)</pre></div></div></div></div></div></div><div class=\"sk-parallel-item\"><div class=\"sk-item\"><div class=\"sk-label-container\"><div class=\"sk-label sk-toggleable\"><input class=\"sk-toggleable__control sk-hidden--visually\" id=\"sk-estimator-id-45\" type=\"checkbox\" ><label for=\"sk-estimator-id-45\" class=\"sk-toggleable__label sk-toggleable__label-arrow\">remainder</label><div class=\"sk-toggleable__content\"><pre></pre></div></div></div><div class=\"sk-serial\"><div class=\"sk-item\"><div class=\"sk-estimator sk-toggleable\"><input class=\"sk-toggleable__control sk-hidden--visually\" id=\"sk-estimator-id-46\" type=\"checkbox\" ><label for=\"sk-estimator-id-46\" class=\"sk-toggleable__label sk-toggleable__label-arrow\">passthrough</label><div class=\"sk-toggleable__content\"><pre>passthrough</pre></div></div></div></div></div></div></div></div><div class=\"sk-item\"><div class=\"sk-estimator sk-toggleable\"><input class=\"sk-toggleable__control sk-hidden--visually\" id=\"sk-estimator-id-47\" type=\"checkbox\" ><label for=\"sk-estimator-id-47\" class=\"sk-toggleable__label sk-toggleable__label-arrow\">StandardScaler</label><div class=\"sk-toggleable__content\"><pre>StandardScaler()</pre></div></div></div></div></div></div></div></div><div class=\"sk-parallel-item\"><div class=\"sk-item\"><div class=\"sk-label-container\"><div class=\"sk-label sk-toggleable\"><input class=\"sk-toggleable__control sk-hidden--visually\" id=\"sk-estimator-id-48\" type=\"checkbox\" ><label for=\"sk-estimator-id-48\" class=\"sk-toggleable__label sk-toggleable__label-arrow\">timestamp_ts</label><div class=\"sk-toggleable__content\"><pre>[&#x27;ts&#x27;]</pre></div></div></div><div class=\"sk-serial\"><div class=\"sk-item\"><div class=\"sk-serial\"><div class=\"sk-item\"><div class=\"sk-estimator sk-toggleable\"><input class=\"sk-toggleable__control sk-hidden--visually\" id=\"sk-estimator-id-49\" type=\"checkbox\" ><label for=\"sk-estimator-id-49\" class=\"sk-toggleable__label sk-toggleable__label-arrow\">DatetimeImputer</label><div class=\"sk-toggleable__content\"><pre>DatetimeImputer()</pre></div></div></div><div class=\"sk-item\"><div class=\"sk-estimator sk-toggleable\"><input class=\"sk-toggleable__control sk-hidden--visually\" id=\"sk-estimator-id-50\" type=\"checkbox\" ><label for=\"sk-estimator-id-50\" class=\"sk-toggleable__label sk-toggleable__label-arrow\">TimestampTransformer</label><div class=\"sk-toggleable__content\"><pre>TimestampTransformer()</pre></div></div></div><div class=\"sk-item sk-dashed-wrapped\"><div class=\"sk-label-container\"><div class=\"sk-label sk-toggleable\"><input class=\"sk-toggleable__control sk-hidden--visually\" id=\"sk-estimator-id-51\" type=\"checkbox\" ><label for=\"sk-estimator-id-51\" class=\"sk-toggleable__label sk-toggleable__label-arrow\">onehot_encode_ts: ColumnTransformer</label><div class=\"sk-toggleable__content\"><pre>ColumnTransformer(remainder=&#x27;passthrough&#x27;,\n",
              "                  transformers=[(&#x27;ohe&#x27;, OneHotEncoder(sparse=False), [10])])</pre></div></div></div><div class=\"sk-parallel\"><div class=\"sk-parallel-item\"><div class=\"sk-item\"><div class=\"sk-label-container\"><div class=\"sk-label sk-toggleable\"><input class=\"sk-toggleable__control sk-hidden--visually\" id=\"sk-estimator-id-52\" type=\"checkbox\" ><label for=\"sk-estimator-id-52\" class=\"sk-toggleable__label sk-toggleable__label-arrow\">ohe</label><div class=\"sk-toggleable__content\"><pre>[10]</pre></div></div></div><div class=\"sk-serial\"><div class=\"sk-item\"><div class=\"sk-estimator sk-toggleable\"><input class=\"sk-toggleable__control sk-hidden--visually\" id=\"sk-estimator-id-53\" type=\"checkbox\" ><label for=\"sk-estimator-id-53\" class=\"sk-toggleable__label sk-toggleable__label-arrow\">OneHotEncoder</label><div class=\"sk-toggleable__content\"><pre>OneHotEncoder(sparse=False)</pre></div></div></div></div></div></div><div class=\"sk-parallel-item\"><div class=\"sk-item\"><div class=\"sk-label-container\"><div class=\"sk-label sk-toggleable\"><input class=\"sk-toggleable__control sk-hidden--visually\" id=\"sk-estimator-id-54\" type=\"checkbox\" ><label for=\"sk-estimator-id-54\" class=\"sk-toggleable__label sk-toggleable__label-arrow\">remainder</label><div class=\"sk-toggleable__content\"><pre></pre></div></div></div><div class=\"sk-serial\"><div class=\"sk-item\"><div class=\"sk-estimator sk-toggleable\"><input class=\"sk-toggleable__control sk-hidden--visually\" id=\"sk-estimator-id-55\" type=\"checkbox\" ><label for=\"sk-estimator-id-55\" class=\"sk-toggleable__label sk-toggleable__label-arrow\">passthrough</label><div class=\"sk-toggleable__content\"><pre>passthrough</pre></div></div></div></div></div></div></div></div><div class=\"sk-item\"><div class=\"sk-estimator sk-toggleable\"><input class=\"sk-toggleable__control sk-hidden--visually\" id=\"sk-estimator-id-56\" type=\"checkbox\" ><label for=\"sk-estimator-id-56\" class=\"sk-toggleable__label sk-toggleable__label-arrow\">StandardScaler</label><div class=\"sk-toggleable__content\"><pre>StandardScaler()</pre></div></div></div></div></div></div></div></div><div class=\"sk-parallel-item\"><div class=\"sk-item\"><div class=\"sk-label-container\"><div class=\"sk-label sk-toggleable\"><input class=\"sk-toggleable__control sk-hidden--visually\" id=\"sk-estimator-id-57\" type=\"checkbox\" ><label for=\"sk-estimator-id-57\" class=\"sk-toggleable__label sk-toggleable__label-arrow\">numerical</label><div class=\"sk-toggleable__content\"><pre>[&#x27;ibyt&#x27;, &#x27;ipkt&#x27;, &#x27;sp&#x27;, &#x27;td&#x27;, &#x27;dp&#x27;]</pre></div></div></div><div class=\"sk-serial\"><div class=\"sk-item\"><div class=\"sk-serial\"><div class=\"sk-item\"><div class=\"sk-estimator sk-toggleable\"><input class=\"sk-toggleable__control sk-hidden--visually\" id=\"sk-estimator-id-58\" type=\"checkbox\" ><label for=\"sk-estimator-id-58\" class=\"sk-toggleable__label sk-toggleable__label-arrow\">FunctionTransformer</label><div class=\"sk-toggleable__content\"><pre>FunctionTransformer(func=&lt;function &lt;lambda&gt; at 0x7fbb22ac3e20&gt;)</pre></div></div></div><div class=\"sk-item sk-dashed-wrapped\"><div class=\"sk-label-container\"><div class=\"sk-label sk-toggleable\"><input class=\"sk-toggleable__control sk-hidden--visually\" id=\"sk-estimator-id-59\" type=\"checkbox\" ><label for=\"sk-estimator-id-59\" class=\"sk-toggleable__label sk-toggleable__label-arrow\">imputers: ColumnTransformer</label><div class=\"sk-toggleable__content\"><pre>ColumnTransformer(transformers=[(&#x27;impute_mean&#x27;, SimpleImputer(),\n",
              "                                 [&#x27;dp&#x27;, &#x27;ibyt&#x27;, &#x27;ipkt&#x27;, &#x27;sp&#x27;, &#x27;td&#x27;])])</pre></div></div></div><div class=\"sk-parallel\"><div class=\"sk-parallel-item\"><div class=\"sk-item\"><div class=\"sk-label-container\"><div class=\"sk-label sk-toggleable\"><input class=\"sk-toggleable__control sk-hidden--visually\" id=\"sk-estimator-id-60\" type=\"checkbox\" ><label for=\"sk-estimator-id-60\" class=\"sk-toggleable__label sk-toggleable__label-arrow\">impute_mean</label><div class=\"sk-toggleable__content\"><pre>[&#x27;dp&#x27;, &#x27;ibyt&#x27;, &#x27;ipkt&#x27;, &#x27;sp&#x27;, &#x27;td&#x27;]</pre></div></div></div><div class=\"sk-serial\"><div class=\"sk-item\"><div class=\"sk-estimator sk-toggleable\"><input class=\"sk-toggleable__control sk-hidden--visually\" id=\"sk-estimator-id-61\" type=\"checkbox\" ><label for=\"sk-estimator-id-61\" class=\"sk-toggleable__label sk-toggleable__label-arrow\">SimpleImputer</label><div class=\"sk-toggleable__content\"><pre>SimpleImputer()</pre></div></div></div></div></div></div></div></div><div class=\"sk-item\"><div class=\"sk-estimator sk-toggleable\"><input class=\"sk-toggleable__control sk-hidden--visually\" id=\"sk-estimator-id-62\" type=\"checkbox\" ><label for=\"sk-estimator-id-62\" class=\"sk-toggleable__label sk-toggleable__label-arrow\">StandardScaler</label><div class=\"sk-toggleable__content\"><pre>StandardScaler()</pre></div></div></div></div></div></div></div></div><div class=\"sk-parallel-item\"><div class=\"sk-item\"><div class=\"sk-label-container\"><div class=\"sk-label sk-toggleable\"><input class=\"sk-toggleable__control sk-hidden--visually\" id=\"sk-estimator-id-63\" type=\"checkbox\" ><label for=\"sk-estimator-id-63\" class=\"sk-toggleable__label sk-toggleable__label-arrow\">onehot</label><div class=\"sk-toggleable__content\"><pre>[&#x27;da&#x27;, &#x27;flg&#x27;, &#x27;pr&#x27;, &#x27;sa&#x27;]</pre></div></div></div><div class=\"sk-serial\"><div class=\"sk-item\"><div class=\"sk-serial\"><div class=\"sk-item sk-dashed-wrapped\"><div class=\"sk-label-container\"><div class=\"sk-label sk-toggleable\"><input class=\"sk-toggleable__control sk-hidden--visually\" id=\"sk-estimator-id-64\" type=\"checkbox\" ><label for=\"sk-estimator-id-64\" class=\"sk-toggleable__label sk-toggleable__label-arrow\">imputers: ColumnTransformer</label><div class=\"sk-toggleable__content\"><pre>ColumnTransformer(remainder=&#x27;passthrough&#x27;, transformers=[])</pre></div></div></div><div class=\"sk-parallel\"><div class=\"sk-parallel-item\"><div class=\"sk-item\"><div class=\"sk-label-container\"><div class=\"sk-label sk-toggleable\"><input class=\"sk-toggleable__control sk-hidden--visually\" id=\"sk-estimator-id-65\" type=\"checkbox\" ><label for=\"sk-estimator-id-65\" class=\"sk-toggleable__label sk-toggleable__label-arrow\">remainder</label><div class=\"sk-toggleable__content\"><pre></pre></div></div></div><div class=\"sk-serial\"><div class=\"sk-item\"><div class=\"sk-estimator sk-toggleable\"><input class=\"sk-toggleable__control sk-hidden--visually\" id=\"sk-estimator-id-66\" type=\"checkbox\" ><label for=\"sk-estimator-id-66\" class=\"sk-toggleable__label sk-toggleable__label-arrow\">passthrough</label><div class=\"sk-toggleable__content\"><pre>passthrough</pre></div></div></div></div></div></div></div></div><div class=\"sk-item\"><div class=\"sk-estimator sk-toggleable\"><input class=\"sk-toggleable__control sk-hidden--visually\" id=\"sk-estimator-id-67\" type=\"checkbox\" ><label for=\"sk-estimator-id-67\" class=\"sk-toggleable__label sk-toggleable__label-arrow\">OneHotEncoder</label><div class=\"sk-toggleable__content\"><pre>OneHotEncoder()</pre></div></div></div></div></div></div></div></div><div class=\"sk-parallel-item\"><div class=\"sk-item\"><div class=\"sk-label-container\"><div class=\"sk-label sk-toggleable\"><input class=\"sk-toggleable__control sk-hidden--visually\" id=\"sk-estimator-id-68\" type=\"checkbox\" ><label for=\"sk-estimator-id-68\" class=\"sk-toggleable__label sk-toggleable__label-arrow\">remainder</label><div class=\"sk-toggleable__content\"><pre>[]</pre></div></div></div><div class=\"sk-serial\"><div class=\"sk-item\"><div class=\"sk-estimator sk-toggleable\"><input class=\"sk-toggleable__control sk-hidden--visually\" id=\"sk-estimator-id-69\" type=\"checkbox\" ><label for=\"sk-estimator-id-69\" class=\"sk-toggleable__label sk-toggleable__label-arrow\">passthrough</label><div class=\"sk-toggleable__content\"><pre>passthrough</pre></div></div></div></div></div></div></div></div><div class=\"sk-item\"><div class=\"sk-estimator sk-toggleable\"><input class=\"sk-toggleable__control sk-hidden--visually\" id=\"sk-estimator-id-70\" type=\"checkbox\" ><label for=\"sk-estimator-id-70\" class=\"sk-toggleable__label sk-toggleable__label-arrow\">RandomForestClassifier</label><div class=\"sk-toggleable__content\"><pre>RandomForestClassifier(bootstrap=False, max_depth=9,\n",
              "                       max_features=0.5212273746257398,\n",
              "                       min_samples_leaf=0.005990432629635667,\n",
              "                       min_samples_split=0.004186202479922768, n_estimators=150,\n",
              "                       n_jobs=1, random_state=763330925)</pre></div></div></div></div></div></div></div>"
            ],
            "text/plain": [
              "Pipeline(steps=[('column_selector',\n",
              "                 ColumnSelector(cols=['ts', 'da', 'ibyt', 'te', 'ipkt', 'sp',\n",
              "                                      'pr', 'td', 'dp', 'sa', 'flg'])),\n",
              "                ('preprocessor',\n",
              "                 ColumnTransformer(remainder='passthrough', sparse_threshold=0,\n",
              "                                   transformers=[('timestamp_te',\n",
              "                                                  Pipeline(steps=[('impute_te',\n",
              "                                                                   DatetimeImputer()),\n",
              "                                                                  ('transform_te',\n",
              "                                                                   TimestampTransformer()),\n",
              "                                                                  ('onehot_encode_te',\n",
              "                                                                   ColumnTransforme...\n",
              "                                                                   ColumnTransformer(remainder='passthrough',\n",
              "                                                                                     transformers=[])),\n",
              "                                                                  ('one_hot_encoder',\n",
              "                                                                   OneHotEncoder())]),\n",
              "                                                  ['da', 'flg', 'pr', 'sa'])])),\n",
              "                ('classifier',\n",
              "                 RandomForestClassifier(bootstrap=False, max_depth=9,\n",
              "                                        max_features=0.5212273746257398,\n",
              "                                        min_samples_leaf=0.005990432629635667,\n",
              "                                        min_samples_split=0.004186202479922768,\n",
              "                                        n_estimators=150, n_jobs=1,\n",
              "                                        random_state=763330925))])"
            ]
          },
          "execution_count": 13,
          "metadata": {}
        },
        {
          "output_type": "display_data",
          "data": {
            "text/plain": [
              "<Figure size 1050x700 with 0 Axes>"
            ]
          },
          "metadata": {}
        }
      ],
      "source": [
        "trials = Trials()\n",
        "fmin(objective,\n",
        "     space=space,\n",
        "     algo=tpe.suggest,\n",
        "     max_evals=1,  # Increase this when widening the hyperparameter search space.\n",
        "     trials=trials)\n",
        "\n",
        "best_result = trials.best_trial[\"result\"]\n",
        "model = best_result[\"model\"]\n",
        "mlflow_run = best_result[\"run\"]\n",
        "\n",
        "display(\n",
        "  pd.DataFrame(\n",
        "    [best_result[\"val_metrics\"], best_result[\"test_metrics\"]],\n",
        "    index=[\"validation\", \"test\"]))\n",
        "\n",
        "set_config(display=\"diagram\")\n",
        "model"
      ]
    },
    {
      "cell_type": "code",
      "execution_count": null,
      "metadata": {
        "application/vnd.databricks.v1+cell": {
          "cellMetadata": {},
          "inputWidgets": {},
          "nuid": "50dce348-fa8a-4eb8-a61a-cb0edabba092",
          "showTitle": false,
          "title": ""
        },
        "execution": {
          "iopub.execute_input": "2023-10-22T18:03:58.659060Z",
          "iopub.status.busy": "2023-10-22T18:03:58.658751Z",
          "iopub.status.idle": "2023-10-22T18:04:00.005168Z",
          "shell.execute_reply": "2023-10-22T18:04:00.004348Z"
        },
        "id": "mlKvGM3lMXJl",
        "outputId": "94625da6-f3b1-46b3-f51f-07d308b963a4"
      },
      "outputs": [
        {
          "output_type": "stream",
          "name": "stdout",
          "text": [
            "Adding pandas dependency to conda.yaml\n"
          ]
        },
        {
          "output_type": "stream",
          "name": "stdout",
          "text": [
            "Adding pandas dependency to requirements.txt\n"
          ]
        }
      ],
      "source": [
        "import mlflow\n",
        "import os\n",
        "import shutil\n",
        "import tempfile\n",
        "import yaml\n",
        "\n",
        "run_id = mlflow_run.info.run_id\n",
        "\n",
        "# Set up a local dir for downloading the artifacts.\n",
        "tmp_dir = str(tempfile.TemporaryDirectory())\n",
        "os.makedirs(tmp_dir)\n",
        "\n",
        "client = mlflow.tracking.MlflowClient()\n",
        "\n",
        "# Fix conda.yaml\n",
        "conda_file_path = mlflow.artifacts.download_artifacts(artifact_uri=f\"runs:/{run_id}/model/conda.yaml\", dst_path=tmp_dir)\n",
        "with open(conda_file_path) as f:\n",
        "  conda_libs = yaml.load(f, Loader=yaml.FullLoader)\n",
        "pandas_lib_exists = any([lib.startswith(\"pandas==\") for lib in conda_libs[\"dependencies\"][-1][\"pip\"]])\n",
        "if not pandas_lib_exists:\n",
        "  print(\"Adding pandas dependency to conda.yaml\")\n",
        "  conda_libs[\"dependencies\"][-1][\"pip\"].append(f\"pandas=={pd.__version__}\")\n",
        "\n",
        "  with open(f\"{tmp_dir}/conda.yaml\", \"w\") as f:\n",
        "    f.write(yaml.dump(conda_libs))\n",
        "  client.log_artifact(run_id=run_id, local_path=conda_file_path, artifact_path=\"model\")\n",
        "\n",
        "# Fix requirements.txt\n",
        "venv_file_path = mlflow.artifacts.download_artifacts(artifact_uri=f\"runs:/{run_id}/model/requirements.txt\", dst_path=tmp_dir)\n",
        "with open(venv_file_path) as f:\n",
        "  venv_libs = f.readlines()\n",
        "venv_libs = [lib.strip() for lib in venv_libs]\n",
        "pandas_lib_exists = any([lib.startswith(\"pandas==\") for lib in venv_libs])\n",
        "if not pandas_lib_exists:\n",
        "  print(\"Adding pandas dependency to requirements.txt\")\n",
        "  venv_libs.append(f\"pandas=={pd.__version__}\")\n",
        "\n",
        "  with open(f\"{tmp_dir}/requirements.txt\", \"w\") as f:\n",
        "    f.write(\"\\n\".join(venv_libs))\n",
        "  client.log_artifact(run_id=run_id, local_path=venv_file_path, artifact_path=\"model\")\n",
        "\n",
        "shutil.rmtree(tmp_dir)"
      ]
    },
    {
      "cell_type": "code",
      "execution_count": null,
      "metadata": {
        "application/vnd.databricks.v1+cell": {
          "cellMetadata": {},
          "inputWidgets": {},
          "nuid": "64a85f08-b9b4-441f-bfe4-1662bc5d3794",
          "showTitle": false,
          "title": ""
        },
        "execution": {
          "iopub.execute_input": "2023-10-22T18:04:00.008513Z",
          "iopub.status.busy": "2023-10-22T18:04:00.008146Z",
          "iopub.status.idle": "2023-10-22T18:04:00.012877Z",
          "shell.execute_reply": "2023-10-22T18:04:00.012193Z"
        },
        "id": "xcwJTJKDMXJm"
      },
      "outputs": [],
      "source": [
        "# Set this flag to True and re-run the notebook to see the SHAP plots\n",
        "shap_enabled = False"
      ]
    },
    {
      "cell_type": "code",
      "execution_count": null,
      "metadata": {
        "application/vnd.databricks.v1+cell": {
          "cellMetadata": {},
          "inputWidgets": {},
          "nuid": "719c6729-f6d5-44cc-9c5d-7370d6ff6ac4",
          "showTitle": false,
          "title": ""
        },
        "execution": {
          "iopub.execute_input": "2023-10-22T18:04:00.015705Z",
          "iopub.status.busy": "2023-10-22T18:04:00.015477Z",
          "iopub.status.idle": "2023-10-22T18:04:00.020796Z",
          "shell.execute_reply": "2023-10-22T18:04:00.020123Z"
        },
        "id": "bSYxpatAMXJm"
      },
      "outputs": [],
      "source": [
        "if shap_enabled:\n",
        "    mlflow.autolog(disable=True)\n",
        "    mlflow.sklearn.autolog(disable=True)\n",
        "    from shap import KernelExplainer, summary_plot\n",
        "    # Sample background data for SHAP Explainer. Increase the sample size to reduce variance.\n",
        "    train_sample = X_train.sample(n=min(100, X_train.shape[0]), random_state=763330925)\n",
        "\n",
        "    # Sample some rows from the validation set to explain. Increase the sample size for more thorough results.\n",
        "    example = X_val.sample(n=min(100, X_val.shape[0]), random_state=763330925)\n",
        "\n",
        "    # Use Kernel SHAP to explain feature importance on the sampled rows from the validation set.\n",
        "    predict = lambda x: model.predict(pd.DataFrame(x, columns=X_train.columns))\n",
        "    explainer = KernelExplainer(predict, train_sample, link=\"identity\")\n",
        "    shap_values = explainer.shap_values(example, l1_reg=False, nsamples=500)\n",
        "    summary_plot(shap_values, example, class_names=model.classes_)"
      ]
    },
    {
      "cell_type": "code",
      "execution_count": null,
      "metadata": {
        "application/vnd.databricks.v1+cell": {
          "cellMetadata": {},
          "inputWidgets": {},
          "nuid": "9ddeb06f-4585-41be-b8b2-c8d8d4565b10",
          "showTitle": false,
          "title": ""
        },
        "execution": {
          "iopub.execute_input": "2023-10-22T18:04:00.023477Z",
          "iopub.status.busy": "2023-10-22T18:04:00.023242Z",
          "iopub.status.idle": "2023-10-22T18:04:00.027152Z",
          "shell.execute_reply": "2023-10-22T18:04:00.026469Z"
        },
        "id": "qgvQ4rtXMXJm",
        "outputId": "304e68e6-2f17-46fe-9063-e798c4a8e5b5"
      },
      "outputs": [
        {
          "output_type": "stream",
          "name": "stdout",
          "text": [
            "runs:/0ea3daf0f5fd42d7b037472da2c55e84/model\n"
          ]
        }
      ],
      "source": [
        "# model_uri for the generated model\n",
        "print(f\"runs:/{ mlflow_run.info.run_id }/model\")"
      ]
    },
    {
      "cell_type": "markdown",
      "metadata": {
        "application/vnd.databricks.v1+cell": {
          "cellMetadata": {},
          "inputWidgets": {},
          "nuid": "e3fa835b-3c85-434c-8ce1-03b1b6a01dc6",
          "showTitle": false,
          "title": ""
        },
        "id": "J2A9yJAZMXJn"
      },
      "source": [
        "Matriz de Confusão, Curva ROC e Precisão-Recall para validação"
      ]
    },
    {
      "cell_type": "code",
      "execution_count": null,
      "metadata": {
        "application/vnd.databricks.v1+cell": {
          "cellMetadata": {},
          "inputWidgets": {},
          "nuid": "03c9cc8b-fea0-478a-97b5-78064981f9fa",
          "showTitle": false,
          "title": ""
        },
        "execution": {
          "iopub.execute_input": "2023-10-22T18:04:00.039175Z",
          "iopub.status.busy": "2023-10-22T18:04:00.038919Z",
          "iopub.status.idle": "2023-10-22T18:04:02.702307Z",
          "shell.execute_reply": "2023-10-22T18:04:02.701579Z"
        },
        "id": "m6jQENf0MXJo"
      },
      "outputs": [],
      "source": [
        "import uuid\n",
        "from IPython.display import Image\n",
        "\n",
        "# Create temp directory to download MLflow model artifact\n",
        "eval_temp_dir = os.path.join(os.environ[\"SPARK_LOCAL_DIRS\"], \"tmp\", str(uuid.uuid4())[:8])\n",
        "os.makedirs(eval_temp_dir, exist_ok=True)\n",
        "\n",
        "# Download the artifact\n",
        "eval_path = mlflow.artifacts.download_artifacts(run_id=mlflow_run.info.run_id, dst_path=eval_temp_dir)"
      ]
    },
    {
      "cell_type": "markdown",
      "metadata": {
        "application/vnd.databricks.v1+cell": {
          "cellMetadata": {},
          "inputWidgets": {},
          "nuid": "21935ad3-67c8-4c11-a20e-eebee30a55b4",
          "showTitle": false,
          "title": ""
        },
        "id": "ELbC0GXIMXJo"
      },
      "source": [
        "### Matriz de Confusão"
      ]
    },
    {
      "cell_type": "code",
      "execution_count": null,
      "metadata": {
        "application/vnd.databricks.v1+cell": {
          "cellMetadata": {},
          "inputWidgets": {},
          "nuid": "140a42af-aefd-4cda-9a61-0973f047db8e",
          "showTitle": false,
          "title": ""
        },
        "execution": {
          "iopub.execute_input": "2023-10-22T18:04:02.705970Z",
          "iopub.status.busy": "2023-10-22T18:04:02.705697Z",
          "iopub.status.idle": "2023-10-22T18:04:02.711093Z",
          "shell.execute_reply": "2023-10-22T18:04:02.710548Z"
        },
        "large_display_output": true,
        "id": "hhQXbAHdMXJo",
        "outputId": "051d6196-a9d7-49ee-eb04-fa963d82aa22"
      },
      "outputs": [
        {
          "output_type": "display_data",
          "data": {
            "image/png": "[encoded data removed]",
            "text/plain": [
              "<IPython.core.display.Image object>"
            ]
          },
          "metadata": {}
        }
      ],
      "source": [
        "eval_confusion_matrix_path = os.path.join(eval_path, \"val_confusion_matrix.png\")\n",
        "display(Image(filename=eval_confusion_matrix_path))"
      ]
    },
    {
      "cell_type": "markdown",
      "metadata": {
        "application/vnd.databricks.v1+cell": {
          "cellMetadata": {},
          "inputWidgets": {},
          "nuid": "56b29468-30c9-47b6-a80a-a67e4efc3c8d",
          "showTitle": false,
          "title": ""
        },
        "id": "tS05YpKhMXJp"
      },
      "source": [
        "### Curva ROC"
      ]
    },
    {
      "cell_type": "code",
      "execution_count": null,
      "metadata": {
        "application/vnd.databricks.v1+cell": {
          "cellMetadata": {},
          "inputWidgets": {},
          "nuid": "669dd8ad-8ca6-42d9-9016-591ceef32069",
          "showTitle": false,
          "title": ""
        },
        "execution": {
          "iopub.execute_input": "2023-10-22T18:04:02.714376Z",
          "iopub.status.busy": "2023-10-22T18:04:02.714042Z",
          "iopub.status.idle": "2023-10-22T18:04:02.722057Z",
          "shell.execute_reply": "2023-10-22T18:04:02.721475Z"
        },
        "large_display_output": true,
        "id": "uUZIMiL4MXJp",
        "outputId": "da0c5f9a-279a-4eb5-c7d5-a9f91b0c2184"
      },
      "outputs": [
        {
          "output_type": "display_data",
          "data": {
            "image/png": "[encoded data removed]",
            "text/plain": [
              "<IPython.core.display.Image object>"
            ]
          },
          "metadata": {}
        }
      ],
      "source": [
        "eval_roc_curve_path = os.path.join(eval_path, \"val_roc_curve_plot.png\")\n",
        "display(Image(filename=eval_roc_curve_path))"
      ]
    },
    {
      "cell_type": "markdown",
      "metadata": {
        "application/vnd.databricks.v1+cell": {
          "cellMetadata": {},
          "inputWidgets": {},
          "nuid": "b97485a9-fe4d-4f1e-9bae-44ed88731cdd",
          "showTitle": false,
          "title": ""
        },
        "id": "bO4_yk4qMXJq"
      },
      "source": [
        "### Curva Precisão-Recall"
      ]
    },
    {
      "cell_type": "code",
      "execution_count": null,
      "metadata": {
        "application/vnd.databricks.v1+cell": {
          "cellMetadata": {},
          "inputWidgets": {},
          "nuid": "86b3ec46-dfba-4e38-a43a-4e6484f92df3",
          "showTitle": false,
          "title": ""
        },
        "execution": {
          "iopub.execute_input": "2023-10-22T18:04:02.724962Z",
          "iopub.status.busy": "2023-10-22T18:04:02.724701Z",
          "iopub.status.idle": "2023-10-22T18:04:02.732767Z",
          "shell.execute_reply": "2023-10-22T18:04:02.732217Z"
        },
        "large_display_output": true,
        "id": "nZ4WcSCYMXJq",
        "outputId": "aa08814e-879c-4d59-dee2-eb0a4c76b810"
      },
      "outputs": [
        {
          "output_type": "display_data",
          "data": {
            "image/png": "[encoded data removed]",
            "text/plain": [
              "<IPython.core.display.Image object>"
            ]
          },
          "metadata": {}
        }
      ],
      "source": [
        "eval_pr_curve_path = os.path.join(eval_path, \"val_precision_recall_curve_plot.png\")\n",
        "display(Image(filename=eval_pr_curve_path))"
      ]
    }
  ],
  "metadata": {
    "application/vnd.databricks.v1+notebook": {
      "dashboards": [],
      "language": "python",
      "notebookMetadata": {
        "pythonIndentUnit": 4
      },
      "notebookName": "23-10-22-17:51-RandomForestClassifier-6130bb422f1444151bc5289aba110bc5",
      "widgets": {}
    },
    "language_info": {
      "name": "python"
    },
    "name": "RandomForestClassifier-6130bb422f1444151bc5289aba110bc5",
    "colab": {
      "provenance": []
    },
    "kernelspec": {
      "name": "python3",
      "display_name": "Python 3"
    }
  },
  "nbformat": 4,
  "nbformat_minor": 0
}